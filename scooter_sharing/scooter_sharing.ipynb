{
 "cells": [
  {
   "cell_type": "markdown",
   "id": "b40fc158",
   "metadata": {},
   "source": [
    "# Исследование сервиса аренды самокатов GoFast\n",
    "\n",
    "В нашем распоряжении данные о некоторых пользователях из нескольких городов, а также об их поездках через сервис аренды самокатов GoFast.\n",
    "1. Важно понять, тратят ли пользователи с подпиской больше времени на поездки?\n",
    "2. Расстояние одной поездки в 3130 метров — оптимальное с точки зрения износа самоката. Можно ли сказать, что среднее расстояние, которое проезжают пользователи с подпиской за одну поездку, не превышает 3130 метров?\n",
    "3. Будет ли помесячная выручка от пользователей с подпиской по месяцам выше, чем выручка от пользователей без подписки.\n",
    "4. Повлияло ли обновление серверов, с которыми взаимодействует мобильное приложение, на количество обращений в техподдержку?\n",
    "\n",
    "# Описание данных\n",
    "\n",
    "**1. Пользователи (users_go.csv)**\n",
    "\n",
    "*user_id* - уникальный идентификатор пользователя\n",
    "\n",
    "*name* - имя пользователя\n",
    "\n",
    "*age* - возраст\n",
    "\n",
    "*city* - город\n",
    "\n",
    "*subscription_type* - тип подписки (free, ultra)\n",
    "\n",
    "**2. Поездки (rides_go.csv)**\n",
    "\n",
    "*user_id* - уникальный идентификатор пользователя\n",
    "\n",
    "*distance* - расстояние, которое пользователь проехал в текущей сессии (в метрах)\n",
    "\n",
    "*duration* - продолжительность сессии (в минутах) — время с того момента, как пользователь нажал кнопку «Начать поездку» до момента, как он нажал кнопку «Завершить поездку»\n",
    "\n",
    "*date* - дата совершения поездки\n",
    "\n",
    "**3. Подписки (subscriptions_go.csv)**\n",
    "\n",
    "*subscription_type* - тип подписки\n",
    "\n",
    "*minute_price* - стоимость одной минуты поездки по данной подписке\n",
    "\n",
    "*start_ride_price* - стоимость начала поездки\n",
    "\n",
    "*subscription_fee* - стоимость ежемесячного платежа"
   ]
  },
  {
   "cell_type": "code",
   "execution_count": 1,
   "id": "c86fabe8",
   "metadata": {},
   "outputs": [],
   "source": [
    "import pandas as pd\n",
    "import matplotlib.pyplot as plt\n",
    "import numpy as np\n",
    "from scipy import stats as st\n",
    "from matplotlib import transforms"
   ]
  },
  {
   "cell_type": "markdown",
   "id": "bd2fa421",
   "metadata": {},
   "source": [
    "#### Загрузка данных"
   ]
  },
  {
   "cell_type": "code",
   "execution_count": 2,
   "id": "86739dfe",
   "metadata": {},
   "outputs": [
    {
     "data": {
      "text/html": [
       "<div>\n",
       "<style scoped>\n",
       "    .dataframe tbody tr th:only-of-type {\n",
       "        vertical-align: middle;\n",
       "    }\n",
       "\n",
       "    .dataframe tbody tr th {\n",
       "        vertical-align: top;\n",
       "    }\n",
       "\n",
       "    .dataframe thead th {\n",
       "        text-align: right;\n",
       "    }\n",
       "</style>\n",
       "<table border=\"1\" class=\"dataframe\">\n",
       "  <thead>\n",
       "    <tr style=\"text-align: right;\">\n",
       "      <th></th>\n",
       "      <th>user_id</th>\n",
       "      <th>name</th>\n",
       "      <th>age</th>\n",
       "      <th>city</th>\n",
       "      <th>subscription_type</th>\n",
       "    </tr>\n",
       "  </thead>\n",
       "  <tbody>\n",
       "    <tr>\n",
       "      <th>0</th>\n",
       "      <td>1</td>\n",
       "      <td>Кира</td>\n",
       "      <td>22</td>\n",
       "      <td>Тюмень</td>\n",
       "      <td>ultra</td>\n",
       "    </tr>\n",
       "    <tr>\n",
       "      <th>1</th>\n",
       "      <td>2</td>\n",
       "      <td>Станислав</td>\n",
       "      <td>31</td>\n",
       "      <td>Омск</td>\n",
       "      <td>ultra</td>\n",
       "    </tr>\n",
       "    <tr>\n",
       "      <th>2</th>\n",
       "      <td>3</td>\n",
       "      <td>Алексей</td>\n",
       "      <td>20</td>\n",
       "      <td>Москва</td>\n",
       "      <td>ultra</td>\n",
       "    </tr>\n",
       "    <tr>\n",
       "      <th>3</th>\n",
       "      <td>4</td>\n",
       "      <td>Константин</td>\n",
       "      <td>26</td>\n",
       "      <td>Ростов-на-Дону</td>\n",
       "      <td>ultra</td>\n",
       "    </tr>\n",
       "    <tr>\n",
       "      <th>4</th>\n",
       "      <td>5</td>\n",
       "      <td>Адель</td>\n",
       "      <td>28</td>\n",
       "      <td>Омск</td>\n",
       "      <td>ultra</td>\n",
       "    </tr>\n",
       "  </tbody>\n",
       "</table>\n",
       "</div>"
      ],
      "text/plain": [
       "   user_id        name  age            city subscription_type\n",
       "0        1        Кира   22          Тюмень             ultra\n",
       "1        2   Станислав   31            Омск             ultra\n",
       "2        3     Алексей   20          Москва             ultra\n",
       "3        4  Константин   26  Ростов-на-Дону             ultra\n",
       "4        5       Адель   28            Омск             ultra"
      ]
     },
     "execution_count": 2,
     "metadata": {},
     "output_type": "execute_result"
    }
   ],
   "source": [
    "try:\n",
    "    users = pd.read_csv('/datasets/users_go.csv')\n",
    "except:\n",
    "    users = pd.read_csv('https://code.s3.yandex.net/datasets/users_go.csv')\n",
    "users.head()"
   ]
  },
  {
   "cell_type": "code",
   "execution_count": 3,
   "id": "3774cac8",
   "metadata": {},
   "outputs": [
    {
     "name": "stdout",
     "output_type": "stream",
     "text": [
      "<class 'pandas.core.frame.DataFrame'>\n",
      "RangeIndex: 1565 entries, 0 to 1564\n",
      "Data columns (total 5 columns):\n",
      " #   Column             Non-Null Count  Dtype \n",
      "---  ------             --------------  ----- \n",
      " 0   user_id            1565 non-null   int64 \n",
      " 1   name               1565 non-null   object\n",
      " 2   age                1565 non-null   int64 \n",
      " 3   city               1565 non-null   object\n",
      " 4   subscription_type  1565 non-null   object\n",
      "dtypes: int64(2), object(3)\n",
      "memory usage: 61.3+ KB\n"
     ]
    }
   ],
   "source": [
    "users.info()"
   ]
  },
  {
   "cell_type": "code",
   "execution_count": 4,
   "id": "4e169da3",
   "metadata": {},
   "outputs": [
    {
     "data": {
      "text/html": [
       "<div>\n",
       "<style scoped>\n",
       "    .dataframe tbody tr th:only-of-type {\n",
       "        vertical-align: middle;\n",
       "    }\n",
       "\n",
       "    .dataframe tbody tr th {\n",
       "        vertical-align: top;\n",
       "    }\n",
       "\n",
       "    .dataframe thead th {\n",
       "        text-align: right;\n",
       "    }\n",
       "</style>\n",
       "<table border=\"1\" class=\"dataframe\">\n",
       "  <thead>\n",
       "    <tr style=\"text-align: right;\">\n",
       "      <th></th>\n",
       "      <th>user_id</th>\n",
       "      <th>distance</th>\n",
       "      <th>duration</th>\n",
       "      <th>date</th>\n",
       "    </tr>\n",
       "  </thead>\n",
       "  <tbody>\n",
       "    <tr>\n",
       "      <th>0</th>\n",
       "      <td>1</td>\n",
       "      <td>4409.919140</td>\n",
       "      <td>25.599769</td>\n",
       "      <td>2021-01-01</td>\n",
       "    </tr>\n",
       "    <tr>\n",
       "      <th>1</th>\n",
       "      <td>1</td>\n",
       "      <td>2617.592153</td>\n",
       "      <td>15.816871</td>\n",
       "      <td>2021-01-18</td>\n",
       "    </tr>\n",
       "    <tr>\n",
       "      <th>2</th>\n",
       "      <td>1</td>\n",
       "      <td>754.159807</td>\n",
       "      <td>6.232113</td>\n",
       "      <td>2021-04-20</td>\n",
       "    </tr>\n",
       "    <tr>\n",
       "      <th>3</th>\n",
       "      <td>1</td>\n",
       "      <td>2694.783254</td>\n",
       "      <td>18.511000</td>\n",
       "      <td>2021-08-11</td>\n",
       "    </tr>\n",
       "    <tr>\n",
       "      <th>4</th>\n",
       "      <td>1</td>\n",
       "      <td>4028.687306</td>\n",
       "      <td>26.265803</td>\n",
       "      <td>2021-08-28</td>\n",
       "    </tr>\n",
       "  </tbody>\n",
       "</table>\n",
       "</div>"
      ],
      "text/plain": [
       "   user_id     distance   duration        date\n",
       "0        1  4409.919140  25.599769  2021-01-01\n",
       "1        1  2617.592153  15.816871  2021-01-18\n",
       "2        1   754.159807   6.232113  2021-04-20\n",
       "3        1  2694.783254  18.511000  2021-08-11\n",
       "4        1  4028.687306  26.265803  2021-08-28"
      ]
     },
     "execution_count": 4,
     "metadata": {},
     "output_type": "execute_result"
    }
   ],
   "source": [
    "try:\n",
    "    rides = pd.read_csv('/datasets/rides_go.csv')\n",
    "except:\n",
    "    rides = pd.read_csv('https://code.s3.yandex.net/datasets/rides_go.csv')\n",
    "rides.head()"
   ]
  },
  {
   "cell_type": "code",
   "execution_count": 5,
   "id": "a536d58e",
   "metadata": {
    "scrolled": true
   },
   "outputs": [
    {
     "name": "stdout",
     "output_type": "stream",
     "text": [
      "<class 'pandas.core.frame.DataFrame'>\n",
      "RangeIndex: 18068 entries, 0 to 18067\n",
      "Data columns (total 4 columns):\n",
      " #   Column    Non-Null Count  Dtype  \n",
      "---  ------    --------------  -----  \n",
      " 0   user_id   18068 non-null  int64  \n",
      " 1   distance  18068 non-null  float64\n",
      " 2   duration  18068 non-null  float64\n",
      " 3   date      18068 non-null  object \n",
      "dtypes: float64(2), int64(1), object(1)\n",
      "memory usage: 564.8+ KB\n"
     ]
    }
   ],
   "source": [
    "rides.info()"
   ]
  },
  {
   "cell_type": "code",
   "execution_count": 6,
   "id": "fcae0baf",
   "metadata": {},
   "outputs": [
    {
     "data": {
      "image/png": "[encoded data removed]",
      "text/plain": [
       "<Figure size 1000x1000 with 4 Axes>"
      ]
     },
     "metadata": {},
     "output_type": "display_data"
    }
   ],
   "source": [
    "rides.hist(bins=100, figsize=(10, 10))\n",
    "plt.show()"
   ]
  },
  {
   "cell_type": "code",
   "execution_count": 7,
   "id": "92f0a133",
   "metadata": {},
   "outputs": [
    {
     "data": {
      "text/html": [
       "<div>\n",
       "<style scoped>\n",
       "    .dataframe tbody tr th:only-of-type {\n",
       "        vertical-align: middle;\n",
       "    }\n",
       "\n",
       "    .dataframe tbody tr th {\n",
       "        vertical-align: top;\n",
       "    }\n",
       "\n",
       "    .dataframe thead th {\n",
       "        text-align: right;\n",
       "    }\n",
       "</style>\n",
       "<table border=\"1\" class=\"dataframe\">\n",
       "  <thead>\n",
       "    <tr style=\"text-align: right;\">\n",
       "      <th></th>\n",
       "      <th>subscription_type</th>\n",
       "      <th>minute_price</th>\n",
       "      <th>start_ride_price</th>\n",
       "      <th>subscription_fee</th>\n",
       "    </tr>\n",
       "  </thead>\n",
       "  <tbody>\n",
       "    <tr>\n",
       "      <th>0</th>\n",
       "      <td>free</td>\n",
       "      <td>8</td>\n",
       "      <td>50</td>\n",
       "      <td>0</td>\n",
       "    </tr>\n",
       "    <tr>\n",
       "      <th>1</th>\n",
       "      <td>ultra</td>\n",
       "      <td>6</td>\n",
       "      <td>0</td>\n",
       "      <td>199</td>\n",
       "    </tr>\n",
       "  </tbody>\n",
       "</table>\n",
       "</div>"
      ],
      "text/plain": [
       "  subscription_type  minute_price  start_ride_price  subscription_fee\n",
       "0              free             8                50                 0\n",
       "1             ultra             6                 0               199"
      ]
     },
     "execution_count": 7,
     "metadata": {},
     "output_type": "execute_result"
    }
   ],
   "source": [
    "try:\n",
    "    subs = pd.read_csv('/datasets/subscriptions_go.csv')\n",
    "except:\n",
    "    subs = pd.read_csv('https://code.s3.yandex.net/datasets/subscriptions_go.csv')\n",
    "subs"
   ]
  },
  {
   "cell_type": "code",
   "execution_count": 8,
   "id": "9e38fe92",
   "metadata": {},
   "outputs": [
    {
     "name": "stdout",
     "output_type": "stream",
     "text": [
      "<class 'pandas.core.frame.DataFrame'>\n",
      "RangeIndex: 2 entries, 0 to 1\n",
      "Data columns (total 4 columns):\n",
      " #   Column             Non-Null Count  Dtype \n",
      "---  ------             --------------  ----- \n",
      " 0   subscription_type  2 non-null      object\n",
      " 1   minute_price       2 non-null      int64 \n",
      " 2   start_ride_price   2 non-null      int64 \n",
      " 3   subscription_fee   2 non-null      int64 \n",
      "dtypes: int64(3), object(1)\n",
      "memory usage: 196.0+ bytes\n"
     ]
    }
   ],
   "source": [
    "subs.info()"
   ]
  },
  {
   "cell_type": "markdown",
   "id": "71ef78ca",
   "metadata": {},
   "source": [
    "Данные получены в надлежащем состоянии:\n",
    "* Пропущенные значения отсутствуют\n",
    "* Типы данных почти везде указаны верно\n",
    "* Выбросов при первом знакомстве не наблюдается\n",
    "* Данных достаточно для проведения анализа"
   ]
  },
  {
   "cell_type": "markdown",
   "id": "15bb50a6",
   "metadata": {},
   "source": [
    "#### Предобработка данных"
   ]
  },
  {
   "cell_type": "markdown",
   "id": "d29a136e",
   "metadata": {},
   "source": [
    "Исправим тип данных в таблице rides в столбце с датой."
   ]
  },
  {
   "cell_type": "code",
   "execution_count": 9,
   "id": "d3f8ea91",
   "metadata": {},
   "outputs": [
    {
     "data": {
      "text/plain": [
       "pandas._libs.tslibs.timestamps.Timestamp"
      ]
     },
     "execution_count": 9,
     "metadata": {},
     "output_type": "execute_result"
    }
   ],
   "source": [
    "rides['date'] = pd.to_datetime(rides['date'], format='%Y-%m-%d')\n",
    "type(rides.loc[0,'date'])"
   ]
  },
  {
   "cell_type": "code",
   "execution_count": 10,
   "id": "ff278d08",
   "metadata": {},
   "outputs": [
    {
     "data": {
      "text/plain": [
       "Timestamp('2021-01-01 00:00:00')"
      ]
     },
     "execution_count": 10,
     "metadata": {},
     "output_type": "execute_result"
    }
   ],
   "source": [
    "rides['date'].min()"
   ]
  },
  {
   "cell_type": "code",
   "execution_count": 11,
   "id": "fc55a184",
   "metadata": {},
   "outputs": [
    {
     "data": {
      "text/plain": [
       "Timestamp('2021-12-30 00:00:00')"
      ]
     },
     "execution_count": 11,
     "metadata": {},
     "output_type": "execute_result"
    }
   ],
   "source": [
    "rides['date'].max()"
   ]
  },
  {
   "cell_type": "markdown",
   "id": "9aa03c6f",
   "metadata": {},
   "source": [
    "Все данные представлены за период с 1 января до 30 декабря 2021 года. Для удобства анализа создадим новый столбец с номером месяца для таблицы rides."
   ]
  },
  {
   "cell_type": "code",
   "execution_count": 12,
   "id": "b649ba1f",
   "metadata": {},
   "outputs": [
    {
     "data": {
      "text/html": [
       "<div>\n",
       "<style scoped>\n",
       "    .dataframe tbody tr th:only-of-type {\n",
       "        vertical-align: middle;\n",
       "    }\n",
       "\n",
       "    .dataframe tbody tr th {\n",
       "        vertical-align: top;\n",
       "    }\n",
       "\n",
       "    .dataframe thead th {\n",
       "        text-align: right;\n",
       "    }\n",
       "</style>\n",
       "<table border=\"1\" class=\"dataframe\">\n",
       "  <thead>\n",
       "    <tr style=\"text-align: right;\">\n",
       "      <th></th>\n",
       "      <th>user_id</th>\n",
       "      <th>distance</th>\n",
       "      <th>duration</th>\n",
       "      <th>date</th>\n",
       "      <th>month</th>\n",
       "    </tr>\n",
       "  </thead>\n",
       "  <tbody>\n",
       "    <tr>\n",
       "      <th>0</th>\n",
       "      <td>1</td>\n",
       "      <td>4409.919140</td>\n",
       "      <td>25.599769</td>\n",
       "      <td>2021-01-01</td>\n",
       "      <td>1</td>\n",
       "    </tr>\n",
       "    <tr>\n",
       "      <th>1</th>\n",
       "      <td>1</td>\n",
       "      <td>2617.592153</td>\n",
       "      <td>15.816871</td>\n",
       "      <td>2021-01-18</td>\n",
       "      <td>1</td>\n",
       "    </tr>\n",
       "    <tr>\n",
       "      <th>2</th>\n",
       "      <td>1</td>\n",
       "      <td>754.159807</td>\n",
       "      <td>6.232113</td>\n",
       "      <td>2021-04-20</td>\n",
       "      <td>4</td>\n",
       "    </tr>\n",
       "    <tr>\n",
       "      <th>3</th>\n",
       "      <td>1</td>\n",
       "      <td>2694.783254</td>\n",
       "      <td>18.511000</td>\n",
       "      <td>2021-08-11</td>\n",
       "      <td>8</td>\n",
       "    </tr>\n",
       "    <tr>\n",
       "      <th>4</th>\n",
       "      <td>1</td>\n",
       "      <td>4028.687306</td>\n",
       "      <td>26.265803</td>\n",
       "      <td>2021-08-28</td>\n",
       "      <td>8</td>\n",
       "    </tr>\n",
       "  </tbody>\n",
       "</table>\n",
       "</div>"
      ],
      "text/plain": [
       "   user_id     distance   duration       date  month\n",
       "0        1  4409.919140  25.599769 2021-01-01      1\n",
       "1        1  2617.592153  15.816871 2021-01-18      1\n",
       "2        1   754.159807   6.232113 2021-04-20      4\n",
       "3        1  2694.783254  18.511000 2021-08-11      8\n",
       "4        1  4028.687306  26.265803 2021-08-28      8"
      ]
     },
     "execution_count": 12,
     "metadata": {},
     "output_type": "execute_result"
    }
   ],
   "source": [
    "rides['month'] = pd.DatetimeIndex(rides['date']).month\n",
    "rides.head()"
   ]
  },
  {
   "cell_type": "markdown",
   "id": "5f72d625",
   "metadata": {},
   "source": [
    "Проверим данные на наличие дубликатов. Удалим дубликаты при их наличии."
   ]
  },
  {
   "cell_type": "code",
   "execution_count": 13,
   "id": "34000ec4",
   "metadata": {},
   "outputs": [
    {
     "data": {
      "text/plain": [
       "31"
      ]
     },
     "execution_count": 13,
     "metadata": {},
     "output_type": "execute_result"
    }
   ],
   "source": [
    "users.duplicated().sum()"
   ]
  },
  {
   "cell_type": "code",
   "execution_count": 14,
   "id": "c2661f6e",
   "metadata": {},
   "outputs": [
    {
     "data": {
      "text/plain": [
       "0"
      ]
     },
     "execution_count": 14,
     "metadata": {},
     "output_type": "execute_result"
    }
   ],
   "source": [
    "users = users.drop_duplicates().reset_index(drop=True)\n",
    "users.duplicated().sum()"
   ]
  },
  {
   "cell_type": "code",
   "execution_count": 15,
   "id": "e3ea9728",
   "metadata": {},
   "outputs": [
    {
     "data": {
      "text/plain": [
       "0"
      ]
     },
     "execution_count": 15,
     "metadata": {},
     "output_type": "execute_result"
    }
   ],
   "source": [
    "rides.duplicated().sum()"
   ]
  },
  {
   "cell_type": "markdown",
   "id": "42b52d84",
   "metadata": {},
   "source": [
    "Данные подготовлены к работе:\n",
    "* Исправлен тип данных в таблице rides в столбце с датой.\n",
    "* Для удобства анализа создан новый столбец в таблице rides с номером месяца.\n",
    "* Удалены 31 дублирующихся строки."
   ]
  },
  {
   "cell_type": "markdown",
   "id": "a3d505ac",
   "metadata": {},
   "source": [
    "#### Исследовательский анализ данных"
   ]
  },
  {
   "cell_type": "markdown",
   "id": "87dcfe1b",
   "metadata": {},
   "source": [
    "##### Частота встречаемости городов"
   ]
  },
  {
   "cell_type": "code",
   "execution_count": 16,
   "id": "9103ad14",
   "metadata": {},
   "outputs": [
    {
     "data": {
      "image/png": "[encoded data removed]",
      "text/plain": [
       "<Figure size 640x480 with 1 Axes>"
      ]
     },
     "metadata": {},
     "output_type": "display_data"
    }
   ],
   "source": [
    "users['city'].value_counts().sort_values(ascending=True).plot(kind='barh', grid=True,)\n",
    "plt.title('Частота встречаемости городов')\n",
    "plt.show()"
   ]
  },
  {
   "cell_type": "code",
   "execution_count": 17,
   "id": "b4151370",
   "metadata": {},
   "outputs": [
    {
     "data": {
      "text/plain": [
       "Пятигорск         219\n",
       "Екатеринбург      204\n",
       "Ростов-на-Дону    198\n",
       "Краснодар         193\n",
       "Сочи              189\n",
       "Омск              183\n",
       "Тюмень            180\n",
       "Москва            168\n",
       "Name: city, dtype: int64"
      ]
     },
     "execution_count": 17,
     "metadata": {},
     "output_type": "execute_result"
    }
   ],
   "source": [
    "users['city'].value_counts()"
   ]
  },
  {
   "cell_type": "code",
   "execution_count": 18,
   "id": "82737125",
   "metadata": {},
   "outputs": [
    {
     "data": {
      "text/plain": [
       "23.28767123287672"
      ]
     },
     "execution_count": 18,
     "metadata": {},
     "output_type": "execute_result"
    }
   ],
   "source": [
    "100 - 100 / users.query('city == \"Пятигорск\"').count()['city'] * users.query('city == \"Москва\"').count()['city']"
   ]
  },
  {
   "cell_type": "markdown",
   "id": "27ef4c40",
   "metadata": {},
   "source": [
    "Популярнее всего сервис в Пятигорске, меньше всего данных о пользователях из Москвы. При этом количество данных по городам распределено достаточно равномерно, разница в количестве данных между Пятигорском и Москвой всего 23%."
   ]
  },
  {
   "cell_type": "markdown",
   "id": "fe39e7c2",
   "metadata": {},
   "source": [
    "##### Соотношение пользователей с подпиской и без подписки"
   ]
  },
  {
   "cell_type": "code",
   "execution_count": 19,
   "id": "4dbf5d0b",
   "metadata": {},
   "outputs": [
    {
     "data": {
      "image/png": "[encoded data removed]",
      "text/plain": [
       "<Figure size 640x480 with 1 Axes>"
      ]
     },
     "metadata": {},
     "output_type": "display_data"
    }
   ],
   "source": [
    "users['subscription_type'].value_counts().plot(kind='pie', grid=True, autopct='%1.1f%%')\n",
    "plt.title('Соотношение пользователей с подпиской и без подписки')\n",
    "plt.show()"
   ]
  },
  {
   "cell_type": "markdown",
   "id": "81417a13",
   "metadata": {},
   "source": [
    "Почти половина поездок прошла по подписке ultra."
   ]
  },
  {
   "cell_type": "markdown",
   "id": "c1c4fc66",
   "metadata": {},
   "source": [
    "##### Возраст пользователей"
   ]
  },
  {
   "cell_type": "code",
   "execution_count": 20,
   "id": "4bbce9b2",
   "metadata": {},
   "outputs": [
    {
     "data": {
      "text/plain": [
       "31"
      ]
     },
     "execution_count": 20,
     "metadata": {},
     "output_type": "execute_result"
    }
   ],
   "source": [
    "users['age'].max()-users['age'].min()"
   ]
  },
  {
   "cell_type": "code",
   "execution_count": 21,
   "id": "b5646ac0",
   "metadata": {},
   "outputs": [
    {
     "data": {
      "image/png": "[encoded data removed]",
      "text/plain": [
       "<Figure size 640x480 with 1 Axes>"
      ]
     },
     "metadata": {},
     "output_type": "display_data"
    }
   ],
   "source": [
    "users['age'].hist(bins=32)\n",
    "plt.title('Возраст пользователей')\n",
    "plt.xlabel('Возраст пользователей, лет')\n",
    "plt.ylabel('Количество пользователей')\n",
    "plt.show()"
   ]
  },
  {
   "cell_type": "markdown",
   "id": "8f791136",
   "metadata": {},
   "source": [
    "Наибольшей популярностью сервис пользуется у людей в возрасте от 20 до 30 лет."
   ]
  },
  {
   "cell_type": "markdown",
   "id": "9ad1fd5b",
   "metadata": {},
   "source": [
    "##### Расстояние, которое пользователь преодолел за одну поездку"
   ]
  },
  {
   "cell_type": "code",
   "execution_count": 22,
   "id": "c1651e2e",
   "metadata": {},
   "outputs": [],
   "source": [
    "def my_round(x, r):\n",
    "    m = np.ceil(x / r) * r\n",
    "    return m\n",
    "for t in range(len(rides)):\n",
    "    rides.loc[t, 'distance_round'] = int(my_round(rides.loc[t, 'distance'], 500))"
   ]
  },
  {
   "cell_type": "code",
   "execution_count": 23,
   "id": "2bcc001b",
   "metadata": {},
   "outputs": [
    {
     "data": {
      "text/plain": [
       "0        4500\n",
       "1        3000\n",
       "2        1000\n",
       "3        3000\n",
       "4        4500\n",
       "         ... \n",
       "18063    4000\n",
       "18064    3000\n",
       "18065    4000\n",
       "18066    3000\n",
       "18067    2500\n",
       "Name: distance_round, Length: 18068, dtype: int32"
      ]
     },
     "execution_count": 23,
     "metadata": {},
     "output_type": "execute_result"
    }
   ],
   "source": [
    "# код ревьюера\n",
    "rides['distance_round'].astype(int)"
   ]
  },
  {
   "cell_type": "code",
   "execution_count": 24,
   "id": "9eacde5d",
   "metadata": {},
   "outputs": [
    {
     "data": {
      "text/plain": [
       "15"
      ]
     },
     "execution_count": 24,
     "metadata": {},
     "output_type": "execute_result"
    }
   ],
   "source": [
    "len(rides['distance_round'].unique())"
   ]
  },
  {
   "cell_type": "code",
   "execution_count": 25,
   "id": "40cac50f",
   "metadata": {
    "scrolled": false
   },
   "outputs": [
    {
     "data": {
      "image/png": "[encoded data removed]",
      "text/plain": [
       "<Figure size 640x480 with 1 Axes>"
      ]
     },
     "metadata": {},
     "output_type": "display_data"
    }
   ],
   "source": [
    "rides['distance_round'].hist(bins=15)\n",
    "plt.title('Расстояние, которое пользователь преодолел за одну поездку')\n",
    "plt.xlabel('Расстояние, м')\n",
    "plt.ylabel('Количество поездок')\n",
    "plt.show()"
   ]
  },
  {
   "cell_type": "markdown",
   "id": "6f002e5d",
   "metadata": {},
   "source": [
    "Чаще всего самокаты берут в аренду для поездок на расстояние от 2,5 до 4,5 км."
   ]
  },
  {
   "cell_type": "markdown",
   "id": "0264283b",
   "metadata": {},
   "source": [
    "##### Продолжительность поездок"
   ]
  },
  {
   "cell_type": "code",
   "execution_count": 26,
   "id": "417748dc",
   "metadata": {},
   "outputs": [
    {
     "data": {
      "image/png": "[encoded data removed]",
      "text/plain": [
       "<Figure size 640x480 with 1 Axes>"
      ]
     },
     "metadata": {},
     "output_type": "display_data"
    }
   ],
   "source": [
    "rides['duration'].hist(bins=100)\n",
    "plt.title('Продолжительность поездок')\n",
    "plt.xlabel('Продолжительность поездки, минут')\n",
    "plt.ylabel('Количество поездок')\n",
    "plt.show()"
   ]
  },
  {
   "cell_type": "code",
   "execution_count": 27,
   "id": "dc196d09",
   "metadata": {},
   "outputs": [
    {
     "data": {
      "text/plain": [
       "17.678394530393803"
      ]
     },
     "execution_count": 27,
     "metadata": {},
     "output_type": "execute_result"
    }
   ],
   "source": [
    "rides['duration'].median()"
   ]
  },
  {
   "cell_type": "markdown",
   "id": "7deabc79",
   "metadata": {},
   "source": [
    "Среднее время поездки 17 минут 40 секунд. Чаще всего поездки длятся от 13 до 21 минуты."
   ]
  },
  {
   "cell_type": "markdown",
   "id": "e8a8fbee",
   "metadata": {},
   "source": [
    "#### Объединение данных"
   ]
  },
  {
   "cell_type": "markdown",
   "id": "e4865188",
   "metadata": {},
   "source": [
    "##### Объединим данные в одну таблицу."
   ]
  },
  {
   "cell_type": "code",
   "execution_count": 28,
   "id": "10878971",
   "metadata": {},
   "outputs": [],
   "source": [
    "general_df = rides.merge(users, on='user_id', how='left')"
   ]
  },
  {
   "cell_type": "code",
   "execution_count": 29,
   "id": "bf39c448",
   "metadata": {},
   "outputs": [],
   "source": [
    "general_df = general_df.merge(subs, on='subscription_type', how='left')"
   ]
  },
  {
   "cell_type": "code",
   "execution_count": 30,
   "id": "7da1d3ba",
   "metadata": {
    "scrolled": false
   },
   "outputs": [
    {
     "name": "stdout",
     "output_type": "stream",
     "text": [
      "<class 'pandas.core.frame.DataFrame'>\n",
      "Int64Index: 18068 entries, 0 to 18067\n",
      "Data columns (total 13 columns):\n",
      " #   Column             Non-Null Count  Dtype         \n",
      "---  ------             --------------  -----         \n",
      " 0   user_id            18068 non-null  int64         \n",
      " 1   distance           18068 non-null  float64       \n",
      " 2   duration           18068 non-null  float64       \n",
      " 3   date               18068 non-null  datetime64[ns]\n",
      " 4   month              18068 non-null  int64         \n",
      " 5   distance_round     18068 non-null  float64       \n",
      " 6   name               18068 non-null  object        \n",
      " 7   age                18068 non-null  int64         \n",
      " 8   city               18068 non-null  object        \n",
      " 9   subscription_type  18068 non-null  object        \n",
      " 10  minute_price       18068 non-null  int64         \n",
      " 11  start_ride_price   18068 non-null  int64         \n",
      " 12  subscription_fee   18068 non-null  int64         \n",
      "dtypes: datetime64[ns](1), float64(3), int64(6), object(3)\n",
      "memory usage: 1.9+ MB\n"
     ]
    }
   ],
   "source": [
    "general_df.info()"
   ]
  },
  {
   "cell_type": "code",
   "execution_count": 31,
   "id": "7ab38531",
   "metadata": {},
   "outputs": [
    {
     "data": {
      "text/plain": [
       "18068"
      ]
     },
     "execution_count": 31,
     "metadata": {},
     "output_type": "execute_result"
    }
   ],
   "source": [
    "rides['user_id'].count()"
   ]
  },
  {
   "cell_type": "markdown",
   "id": "d6b0e4a6",
   "metadata": {},
   "source": [
    "##### Поделим таблицу на две: \n",
    "* c данными о пользователях без подписки;\n",
    "* с данными о пользователях с подпиской."
   ]
  },
  {
   "cell_type": "code",
   "execution_count": 32,
   "id": "40059e13",
   "metadata": {
    "scrolled": true
   },
   "outputs": [
    {
     "name": "stdout",
     "output_type": "stream",
     "text": [
      "<class 'pandas.core.frame.DataFrame'>\n",
      "Int64Index: 11568 entries, 6500 to 18067\n",
      "Data columns (total 13 columns):\n",
      " #   Column             Non-Null Count  Dtype         \n",
      "---  ------             --------------  -----         \n",
      " 0   user_id            11568 non-null  int64         \n",
      " 1   distance           11568 non-null  float64       \n",
      " 2   duration           11568 non-null  float64       \n",
      " 3   date               11568 non-null  datetime64[ns]\n",
      " 4   month              11568 non-null  int64         \n",
      " 5   distance_round     11568 non-null  float64       \n",
      " 6   name               11568 non-null  object        \n",
      " 7   age                11568 non-null  int64         \n",
      " 8   city               11568 non-null  object        \n",
      " 9   subscription_type  11568 non-null  object        \n",
      " 10  minute_price       11568 non-null  int64         \n",
      " 11  start_ride_price   11568 non-null  int64         \n",
      " 12  subscription_fee   11568 non-null  int64         \n",
      "dtypes: datetime64[ns](1), float64(3), int64(6), object(3)\n",
      "memory usage: 1.2+ MB\n"
     ]
    }
   ],
   "source": [
    "general_df_free = general_df.query('subscription_type == \"free\"')\n",
    "general_df_free.info()"
   ]
  },
  {
   "cell_type": "code",
   "execution_count": 33,
   "id": "2e10a9d7",
   "metadata": {
    "scrolled": true
   },
   "outputs": [
    {
     "name": "stdout",
     "output_type": "stream",
     "text": [
      "<class 'pandas.core.frame.DataFrame'>\n",
      "Int64Index: 6500 entries, 0 to 6499\n",
      "Data columns (total 13 columns):\n",
      " #   Column             Non-Null Count  Dtype         \n",
      "---  ------             --------------  -----         \n",
      " 0   user_id            6500 non-null   int64         \n",
      " 1   distance           6500 non-null   float64       \n",
      " 2   duration           6500 non-null   float64       \n",
      " 3   date               6500 non-null   datetime64[ns]\n",
      " 4   month              6500 non-null   int64         \n",
      " 5   distance_round     6500 non-null   float64       \n",
      " 6   name               6500 non-null   object        \n",
      " 7   age                6500 non-null   int64         \n",
      " 8   city               6500 non-null   object        \n",
      " 9   subscription_type  6500 non-null   object        \n",
      " 10  minute_price       6500 non-null   int64         \n",
      " 11  start_ride_price   6500 non-null   int64         \n",
      " 12  subscription_fee   6500 non-null   int64         \n",
      "dtypes: datetime64[ns](1), float64(3), int64(6), object(3)\n",
      "memory usage: 710.9+ KB\n"
     ]
    }
   ],
   "source": [
    "general_df_ultra = general_df.query('subscription_type == \"ultra\"')\n",
    "general_df_ultra.info()"
   ]
  },
  {
   "cell_type": "markdown",
   "id": "a3aab901",
   "metadata": {},
   "source": [
    "##### Расстояние поездки"
   ]
  },
  {
   "cell_type": "code",
   "execution_count": 34,
   "id": "4d8dbeaa",
   "metadata": {},
   "outputs": [
    {
     "data": {
      "image/png": "[encoded data removed]",
      "text/plain": [
       "<Figure size 640x480 with 1 Axes>"
      ]
     },
     "metadata": {},
     "output_type": "display_data"
    }
   ],
   "source": [
    "ax = general_df_free.plot(kind='hist', y='distance', histtype='step', range=(0, 7000), bins=25, linewidth=5, \n",
    "                          alpha=0.7, label='без подписки')\n",
    "general_df_ultra.plot(kind='hist', y='distance', histtype='step', range=(0, 7000), bins=25, linewidth=5, alpha=0.7, \n",
    "                      label='с подпиской', ax=ax, grid=True, legend=True)\n",
    "plt.title('Расстояние поездок')\n",
    "plt.xlabel('Расстояние поездок, м')\n",
    "plt.ylabel('Количество поездок')\n",
    "plt.show()"
   ]
  },
  {
   "cell_type": "markdown",
   "id": "5bd03df0",
   "metadata": {},
   "source": [
    "1. Для пользователей без подписки наблюдается большое количество поездок на расстояние около 0 метров. Предположительно это связано с тем, что часть новых пользователей не смогли начать поездку, другая часть пользователей просто опробовала сервис.\n",
    "2. На обоих графиках прослеживается явное разделение на короткие и более продолжительные поездки. Для пользователей без подписки эта граница находится на расстоянии примерно от 1100 до 1700 метров, для пользователей с подпиской - от 1600 до 1900 метров.\n",
    "3. Обе категории пользователей чаще всего проезжают растояние около 3000 метров. Для пользователей без подписки этот пик более размыт: от 2200 до 3600 метров. Для пользователей с подпиской пик выражен четче: от 2800 до 3400 метров.\n",
    "\n",
    "В остальном распределения похожи, необходимо учитывать то, что поездок без подписки почти в 2 раза больше, чем поездок с подпиской."
   ]
  },
  {
   "cell_type": "markdown",
   "id": "a9987537",
   "metadata": {},
   "source": [
    "##### Продолжительность поездки"
   ]
  },
  {
   "cell_type": "code",
   "execution_count": 35,
   "id": "33fa2229",
   "metadata": {
    "scrolled": false
   },
   "outputs": [
    {
     "data": {
      "image/png": "[encoded data removed]",
      "text/plain": [
       "<Figure size 640x480 with 1 Axes>"
      ]
     },
     "metadata": {},
     "output_type": "display_data"
    }
   ],
   "source": [
    "ax = general_df_free.plot(kind='hist', y='duration', histtype='step', range=(0, 40), bins=25, linewidth=5, \n",
    "                          alpha=0.7, label='без подписки')\n",
    "general_df_ultra.plot(kind='hist', y='duration', histtype='step', range=(0, 40), bins=25, linewidth=5, alpha=0.7, \n",
    "                      label='с подпиской', ax=ax, grid=True, legend=True)\n",
    "plt.title('Продолжительность поездок')\n",
    "plt.xlabel('Продолжительность поездок, мин')\n",
    "plt.ylabel('Количество поездок')\n",
    "plt.show()"
   ]
  },
  {
   "cell_type": "markdown",
   "id": "d6a7839e",
   "metadata": {},
   "source": [
    "Учитывая то, что поездок без подписки почти в 2 раза больше, чем поездок с подпиской, различий в поведении групп пользователей не наблюдается."
   ]
  },
  {
   "cell_type": "markdown",
   "id": "12f2e0c1",
   "metadata": {},
   "source": [
    "#### Подсчёт выручки"
   ]
  },
  {
   "cell_type": "markdown",
   "id": "adf66da1",
   "metadata": {},
   "source": [
    "##### Создание новой таблицы таблицы\n",
    "Найдем суммарное расстояние, количество поездок и суммарное время для каждого пользователя за каждый месяц. Данные запишем в новую таблицу."
   ]
  },
  {
   "cell_type": "code",
   "execution_count": 36,
   "id": "2c9fe304",
   "metadata": {},
   "outputs": [],
   "source": [
    "fee_df = general_df.copy()"
   ]
  },
  {
   "cell_type": "code",
   "execution_count": 37,
   "id": "ab411432",
   "metadata": {},
   "outputs": [],
   "source": [
    "fee_df['duration'] = np.ceil(fee_df['duration'])"
   ]
  },
  {
   "cell_type": "code",
   "execution_count": 38,
   "id": "1c51c77e",
   "metadata": {},
   "outputs": [],
   "source": [
    "fee_df = fee_df.pivot_table(index=['user_id', 'month'], values=['distance', 'duration'], aggfunc=['sum', 'count'])\n",
    "fee_df.columns = ['distance', 'duration', 'rides_count', 'count']"
   ]
  },
  {
   "cell_type": "code",
   "execution_count": 39,
   "id": "fdf6431a",
   "metadata": {},
   "outputs": [],
   "source": [
    "fee_df = fee_df.reset_index()"
   ]
  },
  {
   "cell_type": "code",
   "execution_count": 40,
   "id": "45c09e4a",
   "metadata": {},
   "outputs": [],
   "source": [
    "fee_df = fee_df.drop('count', axis=1)"
   ]
  },
  {
   "cell_type": "code",
   "execution_count": 41,
   "id": "1ab7c15d",
   "metadata": {},
   "outputs": [
    {
     "data": {
      "text/html": [
       "<div>\n",
       "<style scoped>\n",
       "    .dataframe tbody tr th:only-of-type {\n",
       "        vertical-align: middle;\n",
       "    }\n",
       "\n",
       "    .dataframe tbody tr th {\n",
       "        vertical-align: top;\n",
       "    }\n",
       "\n",
       "    .dataframe thead th {\n",
       "        text-align: right;\n",
       "    }\n",
       "</style>\n",
       "<table border=\"1\" class=\"dataframe\">\n",
       "  <thead>\n",
       "    <tr style=\"text-align: right;\">\n",
       "      <th></th>\n",
       "      <th>user_id</th>\n",
       "      <th>month</th>\n",
       "      <th>distance</th>\n",
       "      <th>duration</th>\n",
       "      <th>rides_count</th>\n",
       "    </tr>\n",
       "  </thead>\n",
       "  <tbody>\n",
       "    <tr>\n",
       "      <th>0</th>\n",
       "      <td>1</td>\n",
       "      <td>1</td>\n",
       "      <td>7027.511294</td>\n",
       "      <td>42.0</td>\n",
       "      <td>2</td>\n",
       "    </tr>\n",
       "    <tr>\n",
       "      <th>1</th>\n",
       "      <td>1</td>\n",
       "      <td>4</td>\n",
       "      <td>754.159807</td>\n",
       "      <td>7.0</td>\n",
       "      <td>1</td>\n",
       "    </tr>\n",
       "    <tr>\n",
       "      <th>2</th>\n",
       "      <td>1</td>\n",
       "      <td>8</td>\n",
       "      <td>6723.470560</td>\n",
       "      <td>46.0</td>\n",
       "      <td>2</td>\n",
       "    </tr>\n",
       "    <tr>\n",
       "      <th>3</th>\n",
       "      <td>1</td>\n",
       "      <td>10</td>\n",
       "      <td>5809.911100</td>\n",
       "      <td>32.0</td>\n",
       "      <td>2</td>\n",
       "    </tr>\n",
       "    <tr>\n",
       "      <th>4</th>\n",
       "      <td>1</td>\n",
       "      <td>11</td>\n",
       "      <td>7003.499363</td>\n",
       "      <td>56.0</td>\n",
       "      <td>3</td>\n",
       "    </tr>\n",
       "    <tr>\n",
       "      <th>5</th>\n",
       "      <td>1</td>\n",
       "      <td>12</td>\n",
       "      <td>6751.629942</td>\n",
       "      <td>28.0</td>\n",
       "      <td>2</td>\n",
       "    </tr>\n",
       "    <tr>\n",
       "      <th>6</th>\n",
       "      <td>2</td>\n",
       "      <td>3</td>\n",
       "      <td>10187.723006</td>\n",
       "      <td>63.0</td>\n",
       "      <td>3</td>\n",
       "    </tr>\n",
       "    <tr>\n",
       "      <th>7</th>\n",
       "      <td>2</td>\n",
       "      <td>4</td>\n",
       "      <td>6164.381824</td>\n",
       "      <td>40.0</td>\n",
       "      <td>2</td>\n",
       "    </tr>\n",
       "    <tr>\n",
       "      <th>8</th>\n",
       "      <td>2</td>\n",
       "      <td>6</td>\n",
       "      <td>3255.338202</td>\n",
       "      <td>14.0</td>\n",
       "      <td>1</td>\n",
       "    </tr>\n",
       "    <tr>\n",
       "      <th>9</th>\n",
       "      <td>2</td>\n",
       "      <td>7</td>\n",
       "      <td>6780.722964</td>\n",
       "      <td>48.0</td>\n",
       "      <td>2</td>\n",
       "    </tr>\n",
       "  </tbody>\n",
       "</table>\n",
       "</div>"
      ],
      "text/plain": [
       "   user_id  month      distance  duration  rides_count\n",
       "0        1      1   7027.511294      42.0            2\n",
       "1        1      4    754.159807       7.0            1\n",
       "2        1      8   6723.470560      46.0            2\n",
       "3        1     10   5809.911100      32.0            2\n",
       "4        1     11   7003.499363      56.0            3\n",
       "5        1     12   6751.629942      28.0            2\n",
       "6        2      3  10187.723006      63.0            3\n",
       "7        2      4   6164.381824      40.0            2\n",
       "8        2      6   3255.338202      14.0            1\n",
       "9        2      7   6780.722964      48.0            2"
      ]
     },
     "execution_count": 41,
     "metadata": {},
     "output_type": "execute_result"
    }
   ],
   "source": [
    "fee_df.head(10)"
   ]
  },
  {
   "cell_type": "markdown",
   "id": "34a51cdc",
   "metadata": {},
   "source": [
    "##### Дополнение таблицы\n",
    "Добавим столбец с помесячной выручкой, которую принёс каждый пользователь."
   ]
  },
  {
   "cell_type": "code",
   "execution_count": 42,
   "id": "b5f6da38",
   "metadata": {},
   "outputs": [],
   "source": [
    "fee_df = fee_df.merge(users[['user_id', 'subscription_type']], on='user_id', how='left')"
   ]
  },
  {
   "cell_type": "code",
   "execution_count": 43,
   "id": "d9aeeb5d",
   "metadata": {},
   "outputs": [
    {
     "data": {
      "text/html": [
       "<div>\n",
       "<style scoped>\n",
       "    .dataframe tbody tr th:only-of-type {\n",
       "        vertical-align: middle;\n",
       "    }\n",
       "\n",
       "    .dataframe tbody tr th {\n",
       "        vertical-align: top;\n",
       "    }\n",
       "\n",
       "    .dataframe thead th {\n",
       "        text-align: right;\n",
       "    }\n",
       "</style>\n",
       "<table border=\"1\" class=\"dataframe\">\n",
       "  <thead>\n",
       "    <tr style=\"text-align: right;\">\n",
       "      <th></th>\n",
       "      <th>user_id</th>\n",
       "      <th>month</th>\n",
       "      <th>distance</th>\n",
       "      <th>duration</th>\n",
       "      <th>rides_count</th>\n",
       "      <th>subscription_type</th>\n",
       "    </tr>\n",
       "  </thead>\n",
       "  <tbody>\n",
       "    <tr>\n",
       "      <th>0</th>\n",
       "      <td>1</td>\n",
       "      <td>1</td>\n",
       "      <td>7027.511294</td>\n",
       "      <td>42.0</td>\n",
       "      <td>2</td>\n",
       "      <td>ultra</td>\n",
       "    </tr>\n",
       "    <tr>\n",
       "      <th>1</th>\n",
       "      <td>1</td>\n",
       "      <td>4</td>\n",
       "      <td>754.159807</td>\n",
       "      <td>7.0</td>\n",
       "      <td>1</td>\n",
       "      <td>ultra</td>\n",
       "    </tr>\n",
       "    <tr>\n",
       "      <th>2</th>\n",
       "      <td>1</td>\n",
       "      <td>8</td>\n",
       "      <td>6723.470560</td>\n",
       "      <td>46.0</td>\n",
       "      <td>2</td>\n",
       "      <td>ultra</td>\n",
       "    </tr>\n",
       "    <tr>\n",
       "      <th>3</th>\n",
       "      <td>1</td>\n",
       "      <td>10</td>\n",
       "      <td>5809.911100</td>\n",
       "      <td>32.0</td>\n",
       "      <td>2</td>\n",
       "      <td>ultra</td>\n",
       "    </tr>\n",
       "    <tr>\n",
       "      <th>4</th>\n",
       "      <td>1</td>\n",
       "      <td>11</td>\n",
       "      <td>7003.499363</td>\n",
       "      <td>56.0</td>\n",
       "      <td>3</td>\n",
       "      <td>ultra</td>\n",
       "    </tr>\n",
       "    <tr>\n",
       "      <th>5</th>\n",
       "      <td>1</td>\n",
       "      <td>12</td>\n",
       "      <td>6751.629942</td>\n",
       "      <td>28.0</td>\n",
       "      <td>2</td>\n",
       "      <td>ultra</td>\n",
       "    </tr>\n",
       "    <tr>\n",
       "      <th>6</th>\n",
       "      <td>2</td>\n",
       "      <td>3</td>\n",
       "      <td>10187.723006</td>\n",
       "      <td>63.0</td>\n",
       "      <td>3</td>\n",
       "      <td>ultra</td>\n",
       "    </tr>\n",
       "    <tr>\n",
       "      <th>7</th>\n",
       "      <td>2</td>\n",
       "      <td>4</td>\n",
       "      <td>6164.381824</td>\n",
       "      <td>40.0</td>\n",
       "      <td>2</td>\n",
       "      <td>ultra</td>\n",
       "    </tr>\n",
       "    <tr>\n",
       "      <th>8</th>\n",
       "      <td>2</td>\n",
       "      <td>6</td>\n",
       "      <td>3255.338202</td>\n",
       "      <td>14.0</td>\n",
       "      <td>1</td>\n",
       "      <td>ultra</td>\n",
       "    </tr>\n",
       "    <tr>\n",
       "      <th>9</th>\n",
       "      <td>2</td>\n",
       "      <td>7</td>\n",
       "      <td>6780.722964</td>\n",
       "      <td>48.0</td>\n",
       "      <td>2</td>\n",
       "      <td>ultra</td>\n",
       "    </tr>\n",
       "  </tbody>\n",
       "</table>\n",
       "</div>"
      ],
      "text/plain": [
       "   user_id  month      distance  duration  rides_count subscription_type\n",
       "0        1      1   7027.511294      42.0            2             ultra\n",
       "1        1      4    754.159807       7.0            1             ultra\n",
       "2        1      8   6723.470560      46.0            2             ultra\n",
       "3        1     10   5809.911100      32.0            2             ultra\n",
       "4        1     11   7003.499363      56.0            3             ultra\n",
       "5        1     12   6751.629942      28.0            2             ultra\n",
       "6        2      3  10187.723006      63.0            3             ultra\n",
       "7        2      4   6164.381824      40.0            2             ultra\n",
       "8        2      6   3255.338202      14.0            1             ultra\n",
       "9        2      7   6780.722964      48.0            2             ultra"
      ]
     },
     "execution_count": 43,
     "metadata": {},
     "output_type": "execute_result"
    }
   ],
   "source": [
    "fee_df.head(10)"
   ]
  },
  {
   "cell_type": "code",
   "execution_count": 44,
   "id": "caf63263",
   "metadata": {},
   "outputs": [],
   "source": [
    "fee_df = fee_df.merge(subs, on='subscription_type', how='left')"
   ]
  },
  {
   "cell_type": "code",
   "execution_count": 45,
   "id": "dcafe28c",
   "metadata": {
    "scrolled": true
   },
   "outputs": [
    {
     "data": {
      "text/html": [
       "<div>\n",
       "<style scoped>\n",
       "    .dataframe tbody tr th:only-of-type {\n",
       "        vertical-align: middle;\n",
       "    }\n",
       "\n",
       "    .dataframe tbody tr th {\n",
       "        vertical-align: top;\n",
       "    }\n",
       "\n",
       "    .dataframe thead th {\n",
       "        text-align: right;\n",
       "    }\n",
       "</style>\n",
       "<table border=\"1\" class=\"dataframe\">\n",
       "  <thead>\n",
       "    <tr style=\"text-align: right;\">\n",
       "      <th></th>\n",
       "      <th>user_id</th>\n",
       "      <th>month</th>\n",
       "      <th>distance</th>\n",
       "      <th>duration</th>\n",
       "      <th>rides_count</th>\n",
       "      <th>subscription_type</th>\n",
       "      <th>minute_price</th>\n",
       "      <th>start_ride_price</th>\n",
       "      <th>subscription_fee</th>\n",
       "    </tr>\n",
       "  </thead>\n",
       "  <tbody>\n",
       "    <tr>\n",
       "      <th>0</th>\n",
       "      <td>1</td>\n",
       "      <td>1</td>\n",
       "      <td>7027.511294</td>\n",
       "      <td>42.0</td>\n",
       "      <td>2</td>\n",
       "      <td>ultra</td>\n",
       "      <td>6</td>\n",
       "      <td>0</td>\n",
       "      <td>199</td>\n",
       "    </tr>\n",
       "    <tr>\n",
       "      <th>1</th>\n",
       "      <td>1</td>\n",
       "      <td>4</td>\n",
       "      <td>754.159807</td>\n",
       "      <td>7.0</td>\n",
       "      <td>1</td>\n",
       "      <td>ultra</td>\n",
       "      <td>6</td>\n",
       "      <td>0</td>\n",
       "      <td>199</td>\n",
       "    </tr>\n",
       "    <tr>\n",
       "      <th>2</th>\n",
       "      <td>1</td>\n",
       "      <td>8</td>\n",
       "      <td>6723.470560</td>\n",
       "      <td>46.0</td>\n",
       "      <td>2</td>\n",
       "      <td>ultra</td>\n",
       "      <td>6</td>\n",
       "      <td>0</td>\n",
       "      <td>199</td>\n",
       "    </tr>\n",
       "    <tr>\n",
       "      <th>3</th>\n",
       "      <td>1</td>\n",
       "      <td>10</td>\n",
       "      <td>5809.911100</td>\n",
       "      <td>32.0</td>\n",
       "      <td>2</td>\n",
       "      <td>ultra</td>\n",
       "      <td>6</td>\n",
       "      <td>0</td>\n",
       "      <td>199</td>\n",
       "    </tr>\n",
       "    <tr>\n",
       "      <th>4</th>\n",
       "      <td>1</td>\n",
       "      <td>11</td>\n",
       "      <td>7003.499363</td>\n",
       "      <td>56.0</td>\n",
       "      <td>3</td>\n",
       "      <td>ultra</td>\n",
       "      <td>6</td>\n",
       "      <td>0</td>\n",
       "      <td>199</td>\n",
       "    </tr>\n",
       "    <tr>\n",
       "      <th>5</th>\n",
       "      <td>1</td>\n",
       "      <td>12</td>\n",
       "      <td>6751.629942</td>\n",
       "      <td>28.0</td>\n",
       "      <td>2</td>\n",
       "      <td>ultra</td>\n",
       "      <td>6</td>\n",
       "      <td>0</td>\n",
       "      <td>199</td>\n",
       "    </tr>\n",
       "    <tr>\n",
       "      <th>6</th>\n",
       "      <td>2</td>\n",
       "      <td>3</td>\n",
       "      <td>10187.723006</td>\n",
       "      <td>63.0</td>\n",
       "      <td>3</td>\n",
       "      <td>ultra</td>\n",
       "      <td>6</td>\n",
       "      <td>0</td>\n",
       "      <td>199</td>\n",
       "    </tr>\n",
       "    <tr>\n",
       "      <th>7</th>\n",
       "      <td>2</td>\n",
       "      <td>4</td>\n",
       "      <td>6164.381824</td>\n",
       "      <td>40.0</td>\n",
       "      <td>2</td>\n",
       "      <td>ultra</td>\n",
       "      <td>6</td>\n",
       "      <td>0</td>\n",
       "      <td>199</td>\n",
       "    </tr>\n",
       "    <tr>\n",
       "      <th>8</th>\n",
       "      <td>2</td>\n",
       "      <td>6</td>\n",
       "      <td>3255.338202</td>\n",
       "      <td>14.0</td>\n",
       "      <td>1</td>\n",
       "      <td>ultra</td>\n",
       "      <td>6</td>\n",
       "      <td>0</td>\n",
       "      <td>199</td>\n",
       "    </tr>\n",
       "    <tr>\n",
       "      <th>9</th>\n",
       "      <td>2</td>\n",
       "      <td>7</td>\n",
       "      <td>6780.722964</td>\n",
       "      <td>48.0</td>\n",
       "      <td>2</td>\n",
       "      <td>ultra</td>\n",
       "      <td>6</td>\n",
       "      <td>0</td>\n",
       "      <td>199</td>\n",
       "    </tr>\n",
       "  </tbody>\n",
       "</table>\n",
       "</div>"
      ],
      "text/plain": [
       "   user_id  month      distance  duration  rides_count subscription_type  \\\n",
       "0        1      1   7027.511294      42.0            2             ultra   \n",
       "1        1      4    754.159807       7.0            1             ultra   \n",
       "2        1      8   6723.470560      46.0            2             ultra   \n",
       "3        1     10   5809.911100      32.0            2             ultra   \n",
       "4        1     11   7003.499363      56.0            3             ultra   \n",
       "5        1     12   6751.629942      28.0            2             ultra   \n",
       "6        2      3  10187.723006      63.0            3             ultra   \n",
       "7        2      4   6164.381824      40.0            2             ultra   \n",
       "8        2      6   3255.338202      14.0            1             ultra   \n",
       "9        2      7   6780.722964      48.0            2             ultra   \n",
       "\n",
       "   minute_price  start_ride_price  subscription_fee  \n",
       "0             6                 0               199  \n",
       "1             6                 0               199  \n",
       "2             6                 0               199  \n",
       "3             6                 0               199  \n",
       "4             6                 0               199  \n",
       "5             6                 0               199  \n",
       "6             6                 0               199  \n",
       "7             6                 0               199  \n",
       "8             6                 0               199  \n",
       "9             6                 0               199  "
      ]
     },
     "execution_count": 45,
     "metadata": {},
     "output_type": "execute_result"
    }
   ],
   "source": [
    "fee_df.head(10)"
   ]
  },
  {
   "cell_type": "code",
   "execution_count": 46,
   "id": "4ee6bb7b",
   "metadata": {},
   "outputs": [],
   "source": [
    "fee_df['gain'] = fee_df['start_ride_price'] * fee_df['rides_count'] + fee_df['minute_price'] * fee_df['duration'] + \\\n",
    "fee_df['subscription_fee']"
   ]
  },
  {
   "cell_type": "code",
   "execution_count": 47,
   "id": "caa6a5d4",
   "metadata": {},
   "outputs": [],
   "source": [
    "fee_df.drop(['minute_price', 'start_ride_price', 'subscription_fee'], axis= 1 , inplace= True)"
   ]
  },
  {
   "cell_type": "code",
   "execution_count": 48,
   "id": "13a052fb",
   "metadata": {
    "scrolled": true
   },
   "outputs": [
    {
     "data": {
      "text/html": [
       "<div>\n",
       "<style scoped>\n",
       "    .dataframe tbody tr th:only-of-type {\n",
       "        vertical-align: middle;\n",
       "    }\n",
       "\n",
       "    .dataframe tbody tr th {\n",
       "        vertical-align: top;\n",
       "    }\n",
       "\n",
       "    .dataframe thead th {\n",
       "        text-align: right;\n",
       "    }\n",
       "</style>\n",
       "<table border=\"1\" class=\"dataframe\">\n",
       "  <thead>\n",
       "    <tr style=\"text-align: right;\">\n",
       "      <th></th>\n",
       "      <th>user_id</th>\n",
       "      <th>month</th>\n",
       "      <th>distance</th>\n",
       "      <th>duration</th>\n",
       "      <th>rides_count</th>\n",
       "      <th>subscription_type</th>\n",
       "      <th>gain</th>\n",
       "    </tr>\n",
       "  </thead>\n",
       "  <tbody>\n",
       "    <tr>\n",
       "      <th>0</th>\n",
       "      <td>1</td>\n",
       "      <td>1</td>\n",
       "      <td>7027.511294</td>\n",
       "      <td>42.0</td>\n",
       "      <td>2</td>\n",
       "      <td>ultra</td>\n",
       "      <td>451.0</td>\n",
       "    </tr>\n",
       "    <tr>\n",
       "      <th>1</th>\n",
       "      <td>1</td>\n",
       "      <td>4</td>\n",
       "      <td>754.159807</td>\n",
       "      <td>7.0</td>\n",
       "      <td>1</td>\n",
       "      <td>ultra</td>\n",
       "      <td>241.0</td>\n",
       "    </tr>\n",
       "    <tr>\n",
       "      <th>2</th>\n",
       "      <td>1</td>\n",
       "      <td>8</td>\n",
       "      <td>6723.470560</td>\n",
       "      <td>46.0</td>\n",
       "      <td>2</td>\n",
       "      <td>ultra</td>\n",
       "      <td>475.0</td>\n",
       "    </tr>\n",
       "    <tr>\n",
       "      <th>3</th>\n",
       "      <td>1</td>\n",
       "      <td>10</td>\n",
       "      <td>5809.911100</td>\n",
       "      <td>32.0</td>\n",
       "      <td>2</td>\n",
       "      <td>ultra</td>\n",
       "      <td>391.0</td>\n",
       "    </tr>\n",
       "    <tr>\n",
       "      <th>4</th>\n",
       "      <td>1</td>\n",
       "      <td>11</td>\n",
       "      <td>7003.499363</td>\n",
       "      <td>56.0</td>\n",
       "      <td>3</td>\n",
       "      <td>ultra</td>\n",
       "      <td>535.0</td>\n",
       "    </tr>\n",
       "    <tr>\n",
       "      <th>5</th>\n",
       "      <td>1</td>\n",
       "      <td>12</td>\n",
       "      <td>6751.629942</td>\n",
       "      <td>28.0</td>\n",
       "      <td>2</td>\n",
       "      <td>ultra</td>\n",
       "      <td>367.0</td>\n",
       "    </tr>\n",
       "    <tr>\n",
       "      <th>6</th>\n",
       "      <td>2</td>\n",
       "      <td>3</td>\n",
       "      <td>10187.723006</td>\n",
       "      <td>63.0</td>\n",
       "      <td>3</td>\n",
       "      <td>ultra</td>\n",
       "      <td>577.0</td>\n",
       "    </tr>\n",
       "    <tr>\n",
       "      <th>7</th>\n",
       "      <td>2</td>\n",
       "      <td>4</td>\n",
       "      <td>6164.381824</td>\n",
       "      <td>40.0</td>\n",
       "      <td>2</td>\n",
       "      <td>ultra</td>\n",
       "      <td>439.0</td>\n",
       "    </tr>\n",
       "    <tr>\n",
       "      <th>8</th>\n",
       "      <td>2</td>\n",
       "      <td>6</td>\n",
       "      <td>3255.338202</td>\n",
       "      <td>14.0</td>\n",
       "      <td>1</td>\n",
       "      <td>ultra</td>\n",
       "      <td>283.0</td>\n",
       "    </tr>\n",
       "    <tr>\n",
       "      <th>9</th>\n",
       "      <td>2</td>\n",
       "      <td>7</td>\n",
       "      <td>6780.722964</td>\n",
       "      <td>48.0</td>\n",
       "      <td>2</td>\n",
       "      <td>ultra</td>\n",
       "      <td>487.0</td>\n",
       "    </tr>\n",
       "  </tbody>\n",
       "</table>\n",
       "</div>"
      ],
      "text/plain": [
       "   user_id  month      distance  duration  rides_count subscription_type  \\\n",
       "0        1      1   7027.511294      42.0            2             ultra   \n",
       "1        1      4    754.159807       7.0            1             ultra   \n",
       "2        1      8   6723.470560      46.0            2             ultra   \n",
       "3        1     10   5809.911100      32.0            2             ultra   \n",
       "4        1     11   7003.499363      56.0            3             ultra   \n",
       "5        1     12   6751.629942      28.0            2             ultra   \n",
       "6        2      3  10187.723006      63.0            3             ultra   \n",
       "7        2      4   6164.381824      40.0            2             ultra   \n",
       "8        2      6   3255.338202      14.0            1             ultra   \n",
       "9        2      7   6780.722964      48.0            2             ultra   \n",
       "\n",
       "    gain  \n",
       "0  451.0  \n",
       "1  241.0  \n",
       "2  475.0  \n",
       "3  391.0  \n",
       "4  535.0  \n",
       "5  367.0  \n",
       "6  577.0  \n",
       "7  439.0  \n",
       "8  283.0  \n",
       "9  487.0  "
      ]
     },
     "execution_count": 48,
     "metadata": {},
     "output_type": "execute_result"
    }
   ],
   "source": [
    "fee_df.head(10)"
   ]
  },
  {
   "cell_type": "markdown",
   "id": "e250ceb9",
   "metadata": {},
   "source": [
    "#### Проверка гипотез"
   ]
  },
  {
   "cell_type": "markdown",
   "id": "cee27fbb",
   "metadata": {},
   "source": [
    "##### Тратят ли пользователи с подпиской больше времени на поездки? \n",
    "\n",
    "**Нулевая гипотеза:**\n",
    "\n",
    "Пользователи с подпиской и пользователи без подписки в среднем тратят одинаковое время на поездку.\n",
    "\n",
    "**Альтернативная гипотеза:**\n",
    "\n",
    "Пользователи с попиской тратят на поездку больше времени, чем пользователи без подписки."
   ]
  },
  {
   "cell_type": "code",
   "execution_count": 49,
   "id": "fe485a70",
   "metadata": {},
   "outputs": [
    {
     "name": "stdout",
     "output_type": "stream",
     "text": [
      "p-value: 1.2804098316645618e-34\n",
      "Отвергаем нулевую гипотезу\n"
     ]
    }
   ],
   "source": [
    "alpha = 0.05 # уровень статистической значимости\n",
    "\n",
    "results = st.ttest_ind(\n",
    "    general_df_ultra['duration'], \n",
    "    general_df_free['duration'], \n",
    "    alternative='greater')\n",
    "\n",
    "print(f'p-value: {results.pvalue}')\n",
    "\n",
    "if results.pvalue < alpha:\n",
    "    print('Отвергаем нулевую гипотезу')\n",
    "else:\n",
    "    print('Не отвергаем нулевую гипотезу')"
   ]
  },
  {
   "cell_type": "code",
   "execution_count": 50,
   "id": "a07aa8fe",
   "metadata": {},
   "outputs": [
    {
     "name": "stdout",
     "output_type": "stream",
     "text": [
      "Средняя продолжительность поездки пользователей без подписки: 17.4 минут\n",
      "Средняя продолжительность поездки пользователей с подпиской: 18.5 минут\n",
      "Средняя продолжительность поездки пользователей с подпиской больше на 6.6 %\n"
     ]
    }
   ],
   "source": [
    "print('Средняя продолжительность поездки пользователей без подписки:', round(general_df_free['duration'].mean(), 1), 'минут')\n",
    "print('Средняя продолжительность поездки пользователей с подпиской:', round(general_df_ultra['duration'].mean(), 1), 'минут')\n",
    "print('Средняя продолжительность поездки пользователей с подпиской больше на', round(100 / general_df_free['duration'].mean() * \\\n",
    "      general_df_ultra['duration'].mean() - 100, 1), '%')"
   ]
  },
  {
   "cell_type": "markdown",
   "id": "b6f11129",
   "metadata": {},
   "source": [
    "**Вывод:**\n",
    "\n",
    "Пользователи с попиской тратят на поездку больше времени, чем пользователи без подписки примерно на **6.6%**"
   ]
  },
  {
   "cell_type": "markdown",
   "id": "d2c094ca",
   "metadata": {},
   "source": [
    "##### Среднее расстояние, которое проезжают пользователи с подпиской за одну поездку, не превышает 3130 метров?\n",
    "\n",
    "**Нулевая гипотеза:**\n",
    "\n",
    "Пользователи с подпиской в среднем проезжают за одну поездку 3130 метров.\n",
    "\n",
    "**Альтернативная гипотеза:**\n",
    "\n",
    "Пользователи с подпиской проезжают за одну поездку более 3130 метров."
   ]
  },
  {
   "cell_type": "code",
   "execution_count": 51,
   "id": "2706e2da",
   "metadata": {},
   "outputs": [
    {
     "name": "stdout",
     "output_type": "stream",
     "text": [
      "p-значение: 0.9195368847849785\n",
      "Не отвергаем нулевую гипотезу\n"
     ]
    }
   ],
   "source": [
    "alpha = 0.05 # уровень статистической значимости\n",
    "\n",
    "interested_value = 3130\n",
    "\n",
    "results = st.ttest_1samp(\n",
    "    general_df_ultra['distance'], \n",
    "    interested_value,\n",
    "      alternative='greater')\n",
    "\n",
    "print('p-значение:', results.pvalue)\n",
    "\n",
    "if (results.pvalue < alpha):\n",
    "    print('Отвергаем нулевую гипотезу')\n",
    "else:\n",
    "    print('Не отвергаем нулевую гипотезу') "
   ]
  },
  {
   "cell_type": "markdown",
   "id": "70ac497c",
   "metadata": {},
   "source": [
    "**Вывод:**\n",
    "\n",
    "Cреднее расстояние, которое проезжают пользователи с подпиской за одну поездку, не превышает 3130 метров."
   ]
  },
  {
   "cell_type": "markdown",
   "id": "befb70b4",
   "metadata": {},
   "source": [
    "##### Будет ли помесячная выручка от пользователей с подпиской по месяцам выше, чем выручка от пользователей без подписки?\n",
    "\n",
    "**Нулевая гипотеза:**\n",
    "\n",
    "Помесячная выручка по месяцам от пользователей с подпиской равна помесячной выручке по месяцам от пользователей без подписки.\n",
    "\n",
    "**Альтернативная гипотеза:**\n",
    "\n",
    "Помесячная выручка от пользователей с подпиской по месяцам выше, чем помесячная выручка от пользователей без подписки."
   ]
  },
  {
   "cell_type": "code",
   "execution_count": 52,
   "id": "820a23eb",
   "metadata": {},
   "outputs": [
    {
     "name": "stdout",
     "output_type": "stream",
     "text": [
      "p-value: 1.8850394384715216e-31\n",
      "Отвергаем нулевую гипотезу\n"
     ]
    }
   ],
   "source": [
    "alpha = 0.05 # уровень статистической значимости\n",
    "\n",
    "results = st.ttest_ind(\n",
    "    fee_df.query('subscription_type == \"ultra\"')['gain'], \n",
    "    fee_df.query('subscription_type == \"free\"')['gain'], \n",
    "    alternative='greater')\n",
    "\n",
    "print(f'p-value: {results.pvalue}')\n",
    "\n",
    "if results.pvalue < alpha:\n",
    "    print('Отвергаем нулевую гипотезу')\n",
    "else:\n",
    "    print('Не отвергаем нулевую гипотезу')"
   ]
  },
  {
   "cell_type": "code",
   "execution_count": 53,
   "id": "79ac26d5",
   "metadata": {
    "scrolled": true
   },
   "outputs": [],
   "source": [
    "gain_ultra = fee_df.query('subscription_type == \"ultra\"')['gain'].median()"
   ]
  },
  {
   "cell_type": "code",
   "execution_count": 54,
   "id": "9e172ccd",
   "metadata": {},
   "outputs": [],
   "source": [
    "gain_free = fee_df.query('subscription_type == \"free\"')['gain'].median()"
   ]
  },
  {
   "cell_type": "code",
   "execution_count": 55,
   "id": "1ac87bf3",
   "metadata": {},
   "outputs": [
    {
     "name": "stdout",
     "output_type": "stream",
     "text": [
      "Помесячная выручка от пользователей без подписки: 274.0 рублей\n",
      "Помесячная выручка от пользователей с подпиской: 337.0 рублей\n",
      "Помесячная выручка от пользователей с подпиской больше на 23.0 %\n"
     ]
    }
   ],
   "source": [
    "print('Помесячная выручка от пользователей без подписки:', gain_free, 'рублей')\n",
    "print('Помесячная выручка от пользователей с подпиской:', gain_ultra, 'рублей')\n",
    "print('Помесячная выручка от пользователей с подпиской больше на', round(100 / gain_free * gain_ultra - 100, 1), '%')"
   ]
  },
  {
   "cell_type": "markdown",
   "id": "0949c694",
   "metadata": {},
   "source": [
    "**Вывод:**\n",
    "\n",
    "Помесячная выручка от пользователей с подпиской по месяцам выше на 23 %, чем помесячная выручка от пользователей без подписки."
   ]
  },
  {
   "cell_type": "markdown",
   "id": "4b0ec972",
   "metadata": {},
   "source": [
    "#### Общий вывод"
   ]
  },
  {
   "cell_type": "markdown",
   "id": "139e5c47",
   "metadata": {},
   "source": [
    "**В ходе исследования были сделаны следующие выводы:**\n",
    "\n",
    "1. *Популярнее всего сервис в **Пятигорске**.* При этом количество данных по городам распределено достаточно равномерно, разница в количестве данных между Пятигорском и Москвой (откуда данных меньше всего) составляет 23%.\n",
    "\n",
    "2. Соотношение пользователей:\n",
    "* Пользователей **без подписки: 54.4%**\n",
    "* Пользователей **с подпиской: 45.6%**\n",
    "\n",
    "3. Наибольшей популярностью сервис пользуется у людей в возрасте от **20 до 30 лет**.\n",
    "\n",
    "4. Чаще всего самокаты берут в аренду для поездок **на расстояние от 2,5 до 4,5 км**.\n",
    "\n",
    "5. Среднее время поездки **17 минут 40 секунд**. Чаще всего поездки длятся от **13 до 21 минуты**.\n",
    "\n",
    "**Проверка гипотез:**\n",
    "    \n",
    "1. *Тратят ли пользователи с подпиской больше времени на поездки?*\n",
    "\n",
    "*Ответ:* **Да**, пользователи с попиской тратят на поездку больше времени, чем пользователи без подписки примерно **на 6.6%**.\n",
    "\n",
    "2. *Среднее расстояние, которое проезжают пользователи с подпиской за одну поездку, не превышает 3130 метров?*\n",
    "\n",
    "*Ответ:* **Да**, cреднее расстояние, которое проезжают пользователи с подпиской за одну поездку, не превышает 3130 метров.\n",
    "\n",
    "3. *Будет ли помесячная выручка от пользователей с подпиской по месяцам выше, чем выручка от пользователей без подписки?*\n",
    "\n",
    "*Ответ:* **Да**, помесячная выручка от пользователей с подпиской по месяцам **выше на 23 %**, чем помесячная выручка от пользователей без подписки.\n",
    "\n",
    "4. *Повлияло ли обновление серверов, с которыми взаимодействует мобильное приложение, на количество обращений в техподдержку?*\n",
    "\n",
    "*Ответ:* Для проверки этой гипотезы понадобится файл, содержащий для каждого пользователя данные о количестве обращений до обновления и после него. Так как выборки являются зависимыми, сравнивать будем с помощью метода scipy.stats.ttest_rel(), которму передадим два параметра: наборы данных до и после."
   ]
  }
 ],
 "metadata": {
  "ExecuteTimeLog": [
   {
    "duration": 49,
    "start_time": "2023-12-01T11:43:17.308Z"
   },
   {
    "duration": 403,
    "start_time": "2023-12-01T11:43:27.624Z"
   },
   {
    "duration": 87,
    "start_time": "2023-12-01T11:43:31.444Z"
   },
   {
    "duration": 172,
    "start_time": "2023-12-01T11:43:33.117Z"
   },
   {
    "duration": 57,
    "start_time": "2023-12-01T11:43:33.648Z"
   },
   {
    "duration": 43,
    "start_time": "2023-12-01T11:44:07.901Z"
   },
   {
    "duration": 48,
    "start_time": "2023-12-01T11:44:10.419Z"
   },
   {
    "duration": 31,
    "start_time": "2023-12-01T11:44:12.884Z"
   },
   {
    "duration": 34,
    "start_time": "2023-12-01T11:44:58.544Z"
   },
   {
    "duration": 43,
    "start_time": "2023-12-01T11:45:01.037Z"
   },
   {
    "duration": 32,
    "start_time": "2023-12-01T11:45:03.464Z"
   },
   {
    "duration": 31,
    "start_time": "2023-12-01T11:45:08.076Z"
   },
   {
    "duration": 11,
    "start_time": "2023-12-01T11:45:51.677Z"
   },
   {
    "duration": 11,
    "start_time": "2023-12-01T11:46:04.784Z"
   },
   {
    "duration": 33,
    "start_time": "2023-12-01T11:46:12.697Z"
   },
   {
    "duration": 31,
    "start_time": "2023-12-01T11:46:18.912Z"
   },
   {
    "duration": 10,
    "start_time": "2023-12-01T11:46:22.945Z"
   },
   {
    "duration": 721,
    "start_time": "2023-12-01T11:50:14.096Z"
   },
   {
    "duration": 719,
    "start_time": "2023-12-01T11:50:50.276Z"
   },
   {
    "duration": 7,
    "start_time": "2023-12-01T11:51:09.337Z"
   },
   {
    "duration": 52,
    "start_time": "2023-12-01T11:51:21.652Z"
   },
   {
    "duration": 14,
    "start_time": "2023-12-01T11:51:32.337Z"
   },
   {
    "duration": 1398,
    "start_time": "2023-12-01T11:51:48.325Z"
   },
   {
    "duration": 15,
    "start_time": "2023-12-01T11:52:18.836Z"
   },
   {
    "duration": 11,
    "start_time": "2023-12-01T11:57:41.137Z"
   },
   {
    "duration": 9,
    "start_time": "2023-12-01T11:59:12.297Z"
   },
   {
    "duration": 8,
    "start_time": "2023-12-01T11:59:17.752Z"
   },
   {
    "duration": 5,
    "start_time": "2023-12-01T11:59:38.225Z"
   },
   {
    "duration": 7,
    "start_time": "2023-12-01T11:59:40.005Z"
   },
   {
    "duration": 1504,
    "start_time": "2023-12-01T12:00:29.884Z"
   },
   {
    "duration": 6,
    "start_time": "2023-12-01T12:00:52.597Z"
   },
   {
    "duration": 6,
    "start_time": "2023-12-01T12:01:01.345Z"
   },
   {
    "duration": 28,
    "start_time": "2023-12-01T12:01:20.665Z"
   },
   {
    "duration": 5,
    "start_time": "2023-12-01T12:02:52.957Z"
   },
   {
    "duration": 166,
    "start_time": "2023-12-01T12:03:55.757Z"
   },
   {
    "duration": 14,
    "start_time": "2023-12-01T12:04:01.344Z"
   },
   {
    "duration": 8,
    "start_time": "2023-12-01T12:04:19.192Z"
   },
   {
    "duration": 6,
    "start_time": "2023-12-01T12:04:29.656Z"
   },
   {
    "duration": 9,
    "start_time": "2023-12-01T12:04:31.677Z"
   },
   {
    "duration": 8,
    "start_time": "2023-12-01T12:04:39.284Z"
   },
   {
    "duration": 11,
    "start_time": "2023-12-01T12:04:54.176Z"
   },
   {
    "duration": 8,
    "start_time": "2023-12-01T12:05:02.608Z"
   },
   {
    "duration": 10,
    "start_time": "2023-12-01T12:10:35.573Z"
   },
   {
    "duration": 5,
    "start_time": "2023-12-01T12:10:48.453Z"
   },
   {
    "duration": 602,
    "start_time": "2023-12-01T12:11:26.626Z"
   },
   {
    "duration": 128,
    "start_time": "2023-12-01T12:11:40.661Z"
   },
   {
    "duration": 138,
    "start_time": "2023-12-01T12:11:58.943Z"
   },
   {
    "duration": 2,
    "start_time": "2023-12-01T12:12:59.396Z"
   },
   {
    "duration": 122,
    "start_time": "2023-12-01T12:13:15.238Z"
   },
   {
    "duration": 11,
    "start_time": "2023-12-01T12:15:05.435Z"
   },
   {
    "duration": 132,
    "start_time": "2023-12-01T12:15:21.082Z"
   },
   {
    "duration": 132,
    "start_time": "2023-12-01T12:16:10.732Z"
   },
   {
    "duration": 178,
    "start_time": "2023-12-01T12:17:15.655Z"
   },
   {
    "duration": 13,
    "start_time": "2023-12-01T12:18:30.291Z"
   },
   {
    "duration": 20582,
    "start_time": "2023-12-01T12:18:37.241Z"
   },
   {
    "duration": 125,
    "start_time": "2023-12-01T12:19:23.068Z"
   },
   {
    "duration": 119,
    "start_time": "2023-12-01T12:20:11.656Z"
   },
   {
    "duration": 132,
    "start_time": "2023-12-01T12:20:29.983Z"
   },
   {
    "duration": 14,
    "start_time": "2023-12-01T12:22:02.168Z"
   },
   {
    "duration": 95,
    "start_time": "2023-12-01T12:22:07.596Z"
   },
   {
    "duration": 8,
    "start_time": "2023-12-01T12:22:16.979Z"
   },
   {
    "duration": 8,
    "start_time": "2023-12-01T12:22:29.587Z"
   },
   {
    "duration": 7,
    "start_time": "2023-12-01T12:22:41.523Z"
   },
   {
    "duration": 10,
    "start_time": "2023-12-01T12:23:22.368Z"
   },
   {
    "duration": 11,
    "start_time": "2023-12-01T12:23:58.591Z"
   },
   {
    "duration": 10,
    "start_time": "2023-12-01T12:24:25.535Z"
   },
   {
    "duration": 10,
    "start_time": "2023-12-01T12:24:39.172Z"
   },
   {
    "duration": 14,
    "start_time": "2023-12-01T12:24:56.891Z"
   },
   {
    "duration": 12,
    "start_time": "2023-12-01T12:25:10.703Z"
   },
   {
    "duration": 124,
    "start_time": "2023-12-01T12:31:29.948Z"
   },
   {
    "duration": 10,
    "start_time": "2023-12-01T12:33:18.556Z"
   },
   {
    "duration": 16,
    "start_time": "2023-12-01T12:33:33.863Z"
   },
   {
    "duration": 15,
    "start_time": "2023-12-01T12:33:45.991Z"
   },
   {
    "duration": 14,
    "start_time": "2023-12-01T12:36:05.272Z"
   },
   {
    "duration": 26,
    "start_time": "2023-12-01T12:36:21.103Z"
   },
   {
    "duration": 15,
    "start_time": "2023-12-01T12:36:30.900Z"
   },
   {
    "duration": 5,
    "start_time": "2023-12-01T12:45:29.664Z"
   },
   {
    "duration": 10,
    "start_time": "2023-12-01T12:45:57.423Z"
   },
   {
    "duration": 5,
    "start_time": "2023-12-01T12:46:04.225Z"
   },
   {
    "duration": 4,
    "start_time": "2023-12-01T12:46:10.888Z"
   },
   {
    "duration": 147,
    "start_time": "2023-12-01T12:46:40.524Z"
   },
   {
    "duration": 4,
    "start_time": "2023-12-01T12:47:20.064Z"
   },
   {
    "duration": 3,
    "start_time": "2023-12-01T12:47:32.036Z"
   },
   {
    "duration": 5,
    "start_time": "2023-12-01T12:47:41.275Z"
   },
   {
    "duration": 172,
    "start_time": "2023-12-01T12:48:02.003Z"
   },
   {
    "duration": 173,
    "start_time": "2023-12-01T12:48:06.904Z"
   },
   {
    "duration": 102,
    "start_time": "2023-12-01T12:50:32.652Z"
   },
   {
    "duration": 89,
    "start_time": "2023-12-01T12:50:48.844Z"
   },
   {
    "duration": 14,
    "start_time": "2023-12-01T12:51:02.911Z"
   },
   {
    "duration": 8,
    "start_time": "2023-12-01T12:51:07.339Z"
   },
   {
    "duration": 126,
    "start_time": "2023-12-01T12:51:27.756Z"
   },
   {
    "duration": 158,
    "start_time": "2023-12-01T12:51:44.092Z"
   },
   {
    "duration": 4,
    "start_time": "2023-12-01T12:52:56.495Z"
   },
   {
    "duration": 4,
    "start_time": "2023-12-01T12:54:33.664Z"
   },
   {
    "duration": 3,
    "start_time": "2023-12-01T12:54:48.056Z"
   },
   {
    "duration": 154,
    "start_time": "2023-12-01T12:57:27.012Z"
   },
   {
    "duration": 147,
    "start_time": "2023-12-01T12:57:50.216Z"
   },
   {
    "duration": 174,
    "start_time": "2023-12-01T12:58:59.716Z"
   },
   {
    "duration": 271,
    "start_time": "2023-12-01T12:59:35.496Z"
   },
   {
    "duration": 206,
    "start_time": "2023-12-01T13:00:07.724Z"
   },
   {
    "duration": 5,
    "start_time": "2023-12-01T13:03:14.864Z"
   },
   {
    "duration": 8,
    "start_time": "2023-12-01T13:04:27.125Z"
   },
   {
    "duration": 3,
    "start_time": "2023-12-01T13:04:43.948Z"
   },
   {
    "duration": 9,
    "start_time": "2023-12-01T13:04:50.940Z"
   },
   {
    "duration": 113,
    "start_time": "2023-12-01T13:09:06.004Z"
   },
   {
    "duration": 4818,
    "start_time": "2023-12-01T13:09:13.456Z"
   },
   {
    "duration": 8,
    "start_time": "2023-12-01T13:09:48.887Z"
   },
   {
    "duration": 4812,
    "start_time": "2023-12-01T13:09:54.408Z"
   },
   {
    "duration": 5,
    "start_time": "2023-12-01T13:10:27.235Z"
   },
   {
    "duration": 5,
    "start_time": "2023-12-01T13:10:47.635Z"
   },
   {
    "duration": 3,
    "start_time": "2023-12-01T13:11:18.968Z"
   },
   {
    "duration": 4,
    "start_time": "2023-12-01T13:11:35.235Z"
   },
   {
    "duration": 6,
    "start_time": "2023-12-01T13:11:48.396Z"
   },
   {
    "duration": 4,
    "start_time": "2023-12-01T13:12:28.663Z"
   },
   {
    "duration": 3,
    "start_time": "2023-12-01T13:12:39.872Z"
   },
   {
    "duration": 3,
    "start_time": "2023-12-01T13:13:02.836Z"
   },
   {
    "duration": 3,
    "start_time": "2023-12-01T13:13:24.823Z"
   },
   {
    "duration": 4,
    "start_time": "2023-12-01T13:13:32.516Z"
   },
   {
    "duration": 3,
    "start_time": "2023-12-01T13:13:52.744Z"
   },
   {
    "duration": 3,
    "start_time": "2023-12-01T13:14:31.657Z"
   },
   {
    "duration": 4791,
    "start_time": "2023-12-01T13:14:53.144Z"
   },
   {
    "duration": 3,
    "start_time": "2023-12-01T13:14:57.936Z"
   },
   {
    "duration": 3,
    "start_time": "2023-12-01T13:15:05.476Z"
   },
   {
    "duration": 5,
    "start_time": "2023-12-01T13:15:44.575Z"
   },
   {
    "duration": 9,
    "start_time": "2023-12-01T13:16:05.563Z"
   },
   {
    "duration": 11,
    "start_time": "2023-12-01T13:16:09.675Z"
   },
   {
    "duration": 4844,
    "start_time": "2023-12-01T13:16:50.775Z"
   },
   {
    "duration": 15,
    "start_time": "2023-12-01T13:16:56.236Z"
   },
   {
    "duration": 8,
    "start_time": "2023-12-01T13:19:02.455Z"
   },
   {
    "duration": 5375,
    "start_time": "2023-12-01T13:19:36.675Z"
   },
   {
    "duration": 12,
    "start_time": "2023-12-01T13:19:48.836Z"
   },
   {
    "duration": 3,
    "start_time": "2023-12-01T13:20:18.796Z"
   },
   {
    "duration": 128,
    "start_time": "2023-12-01T13:20:52.435Z"
   },
   {
    "duration": 11,
    "start_time": "2023-12-01T13:21:04.575Z"
   },
   {
    "duration": 9188,
    "start_time": "2023-12-01T13:22:14.483Z"
   },
   {
    "duration": 15,
    "start_time": "2023-12-01T13:22:25.064Z"
   },
   {
    "duration": 4655,
    "start_time": "2023-12-01T13:23:11.092Z"
   },
   {
    "duration": 12,
    "start_time": "2023-12-01T13:23:19.996Z"
   },
   {
    "duration": 93,
    "start_time": "2023-12-01T13:25:25.382Z"
   },
   {
    "duration": 5,
    "start_time": "2023-12-01T13:26:45.223Z"
   },
   {
    "duration": 4,
    "start_time": "2023-12-01T13:28:22.793Z"
   },
   {
    "duration": 151,
    "start_time": "2023-12-01T13:28:41.083Z"
   },
   {
    "duration": 153,
    "start_time": "2023-12-01T13:28:47.973Z"
   },
   {
    "duration": 8,
    "start_time": "2023-12-01T13:29:42.743Z"
   },
   {
    "duration": 6,
    "start_time": "2023-12-01T13:29:45.803Z"
   },
   {
    "duration": 4,
    "start_time": "2023-12-01T13:29:55.523Z"
   },
   {
    "duration": 138,
    "start_time": "2023-12-01T13:30:09.531Z"
   },
   {
    "duration": 141,
    "start_time": "2023-12-01T13:30:32.203Z"
   },
   {
    "duration": 155,
    "start_time": "2023-12-01T13:31:21.563Z"
   },
   {
    "duration": 4,
    "start_time": "2023-12-01T13:31:41.783Z"
   },
   {
    "duration": 11,
    "start_time": "2023-12-01T13:32:00.076Z"
   },
   {
    "duration": 4,
    "start_time": "2023-12-01T13:32:08.463Z"
   },
   {
    "duration": 3,
    "start_time": "2023-12-01T13:32:11.876Z"
   },
   {
    "duration": 3,
    "start_time": "2023-12-01T13:32:40.871Z"
   },
   {
    "duration": 2,
    "start_time": "2023-12-01T13:32:52.915Z"
   },
   {
    "duration": 5,
    "start_time": "2023-12-01T13:33:19.375Z"
   },
   {
    "duration": 164,
    "start_time": "2023-12-01T13:33:48.675Z"
   },
   {
    "duration": 7,
    "start_time": "2023-12-01T13:35:46.756Z"
   },
   {
    "duration": 8,
    "start_time": "2023-12-01T13:35:55.643Z"
   },
   {
    "duration": 6,
    "start_time": "2023-12-01T13:36:02.539Z"
   },
   {
    "duration": 404,
    "start_time": "2023-12-01T13:39:09.782Z"
   },
   {
    "duration": 259,
    "start_time": "2023-12-01T13:39:10.188Z"
   },
   {
    "duration": 3,
    "start_time": "2023-12-01T13:39:10.448Z"
   },
   {
    "duration": 55,
    "start_time": "2023-12-01T13:39:10.453Z"
   },
   {
    "duration": 11,
    "start_time": "2023-12-01T13:39:10.510Z"
   },
   {
    "duration": 35,
    "start_time": "2023-12-01T13:39:10.523Z"
   },
   {
    "duration": 10,
    "start_time": "2023-12-01T13:39:10.560Z"
   },
   {
    "duration": 30,
    "start_time": "2023-12-01T13:39:10.572Z"
   },
   {
    "duration": 11,
    "start_time": "2023-12-01T13:39:10.604Z"
   },
   {
    "duration": 9,
    "start_time": "2023-12-01T13:39:10.618Z"
   },
   {
    "duration": 11,
    "start_time": "2023-12-01T13:39:10.628Z"
   },
   {
    "duration": 5,
    "start_time": "2023-12-01T13:39:10.640Z"
   },
   {
    "duration": 17,
    "start_time": "2023-12-01T13:39:10.647Z"
   },
   {
    "duration": 7,
    "start_time": "2023-12-01T13:39:10.666Z"
   },
   {
    "duration": 171,
    "start_time": "2023-12-01T13:39:10.675Z"
   },
   {
    "duration": 11,
    "start_time": "2023-12-01T13:39:10.847Z"
   },
   {
    "duration": 120,
    "start_time": "2023-12-01T13:39:10.860Z"
   },
   {
    "duration": 16,
    "start_time": "2023-12-01T13:39:10.981Z"
   },
   {
    "duration": 17,
    "start_time": "2023-12-01T13:39:10.999Z"
   },
   {
    "duration": 172,
    "start_time": "2023-12-01T13:39:11.017Z"
   },
   {
    "duration": 4390,
    "start_time": "2023-12-01T13:39:11.190Z"
   },
   {
    "duration": 4,
    "start_time": "2023-12-01T13:39:15.581Z"
   },
   {
    "duration": 192,
    "start_time": "2023-12-01T13:39:15.587Z"
   },
   {
    "duration": 71,
    "start_time": "2023-12-01T13:39:47.673Z"
   },
   {
    "duration": 221,
    "start_time": "2023-12-01T13:40:13.602Z"
   },
   {
    "duration": 143,
    "start_time": "2023-12-01T13:40:46.494Z"
   },
   {
    "duration": 134,
    "start_time": "2023-12-01T13:40:55.174Z"
   },
   {
    "duration": 181,
    "start_time": "2023-12-01T13:42:45.023Z"
   },
   {
    "duration": 233,
    "start_time": "2023-12-01T13:43:27.334Z"
   },
   {
    "duration": 1029,
    "start_time": "2023-12-01T13:47:35.522Z"
   },
   {
    "duration": 9,
    "start_time": "2023-12-01T13:49:55.642Z"
   },
   {
    "duration": 9,
    "start_time": "2023-12-01T13:50:10.282Z"
   },
   {
    "duration": 9,
    "start_time": "2023-12-01T13:50:19.450Z"
   },
   {
    "duration": 9,
    "start_time": "2023-12-01T13:50:22.454Z"
   },
   {
    "duration": 8,
    "start_time": "2023-12-01T13:50:28.295Z"
   },
   {
    "duration": 1625,
    "start_time": "2023-12-01T13:51:37.880Z"
   },
   {
    "duration": 9,
    "start_time": "2023-12-01T13:59:08.812Z"
   },
   {
    "duration": 6,
    "start_time": "2023-12-01T13:59:23.895Z"
   },
   {
    "duration": 210,
    "start_time": "2023-12-01T14:00:52.464Z"
   },
   {
    "duration": 3,
    "start_time": "2023-12-01T14:01:07.992Z"
   },
   {
    "duration": 362,
    "start_time": "2023-12-01T14:01:15.961Z"
   },
   {
    "duration": 255,
    "start_time": "2023-12-01T14:01:16.325Z"
   },
   {
    "duration": 2,
    "start_time": "2023-12-01T14:01:16.582Z"
   },
   {
    "duration": 64,
    "start_time": "2023-12-01T14:01:16.585Z"
   },
   {
    "duration": 11,
    "start_time": "2023-12-01T14:01:16.651Z"
   },
   {
    "duration": 113,
    "start_time": "2023-12-01T14:01:16.663Z"
   },
   {
    "duration": 46,
    "start_time": "2023-12-01T14:01:16.778Z"
   },
   {
    "duration": 963,
    "start_time": "2023-12-01T14:01:16.826Z"
   },
   {
    "duration": 31,
    "start_time": "2023-12-01T14:01:17.790Z"
   },
   {
    "duration": 10,
    "start_time": "2023-12-01T14:01:17.823Z"
   },
   {
    "duration": 771,
    "start_time": "2023-12-01T14:01:17.834Z"
   },
   {
    "duration": 13,
    "start_time": "2023-12-01T14:01:18.607Z"
   },
   {
    "duration": 29,
    "start_time": "2023-12-01T14:01:18.622Z"
   },
   {
    "duration": 248,
    "start_time": "2023-12-01T14:01:18.654Z"
   },
   {
    "duration": 2,
    "start_time": "2023-12-01T14:01:18.904Z"
   },
   {
    "duration": 12,
    "start_time": "2023-12-01T14:01:18.914Z"
   },
   {
    "duration": 5,
    "start_time": "2023-12-01T14:01:18.928Z"
   },
   {
    "duration": 12,
    "start_time": "2023-12-01T14:01:18.934Z"
   },
   {
    "duration": 7,
    "start_time": "2023-12-01T14:01:18.947Z"
   },
   {
    "duration": 142,
    "start_time": "2023-12-01T14:01:18.956Z"
   },
   {
    "duration": 19,
    "start_time": "2023-12-01T14:01:19.100Z"
   },
   {
    "duration": 126,
    "start_time": "2023-12-01T14:01:19.120Z"
   },
   {
    "duration": 15,
    "start_time": "2023-12-01T14:01:19.247Z"
   },
   {
    "duration": 15,
    "start_time": "2023-12-01T14:01:19.264Z"
   },
   {
    "duration": 169,
    "start_time": "2023-12-01T14:01:19.280Z"
   },
   {
    "duration": 4431,
    "start_time": "2023-12-01T14:01:19.451Z"
   },
   {
    "duration": 4,
    "start_time": "2023-12-01T14:01:23.884Z"
   },
   {
    "duration": 149,
    "start_time": "2023-12-01T14:01:23.890Z"
   },
   {
    "duration": 336,
    "start_time": "2023-12-01T14:01:24.041Z"
   },
   {
    "duration": 1355,
    "start_time": "2023-12-01T14:01:51.433Z"
   },
   {
    "duration": 365,
    "start_time": "2023-12-01T14:03:09.489Z"
   },
   {
    "duration": 215,
    "start_time": "2023-12-01T14:04:25.461Z"
   },
   {
    "duration": 3,
    "start_time": "2023-12-01T14:04:27.192Z"
   },
   {
    "duration": 257,
    "start_time": "2023-12-01T14:04:28.860Z"
   },
   {
    "duration": 224,
    "start_time": "2023-12-01T14:05:00.952Z"
   },
   {
    "duration": 3,
    "start_time": "2023-12-01T14:05:01.944Z"
   },
   {
    "duration": 251,
    "start_time": "2023-12-01T14:05:02.808Z"
   },
   {
    "duration": 218,
    "start_time": "2023-12-01T14:05:22.292Z"
   },
   {
    "duration": 382,
    "start_time": "2023-12-01T14:05:39.541Z"
   },
   {
    "duration": 244,
    "start_time": "2023-12-01T14:05:39.925Z"
   },
   {
    "duration": 3,
    "start_time": "2023-12-01T14:05:40.170Z"
   },
   {
    "duration": 65,
    "start_time": "2023-12-01T14:05:40.174Z"
   },
   {
    "duration": 10,
    "start_time": "2023-12-01T14:05:40.241Z"
   },
   {
    "duration": 81,
    "start_time": "2023-12-01T14:05:40.252Z"
   },
   {
    "duration": 11,
    "start_time": "2023-12-01T14:05:40.335Z"
   },
   {
    "duration": 784,
    "start_time": "2023-12-01T14:05:40.348Z"
   },
   {
    "duration": 19,
    "start_time": "2023-12-01T14:05:41.134Z"
   },
   {
    "duration": 32,
    "start_time": "2023-12-01T14:05:41.155Z"
   },
   {
    "duration": 42,
    "start_time": "2023-12-01T14:05:41.189Z"
   },
   {
    "duration": 33,
    "start_time": "2023-12-01T14:05:41.233Z"
   },
   {
    "duration": 244,
    "start_time": "2023-12-01T14:05:41.268Z"
   },
   {
    "duration": 3,
    "start_time": "2023-12-01T14:05:41.514Z"
   },
   {
    "duration": 263,
    "start_time": "2023-12-01T14:05:41.518Z"
   },
   {
    "duration": 11,
    "start_time": "2023-12-01T14:05:41.783Z"
   },
   {
    "duration": 20,
    "start_time": "2023-12-01T14:05:41.795Z"
   },
   {
    "duration": 57,
    "start_time": "2023-12-01T14:05:41.817Z"
   },
   {
    "duration": 47,
    "start_time": "2023-12-01T14:05:41.876Z"
   },
   {
    "duration": 173,
    "start_time": "2023-12-01T14:05:41.924Z"
   },
   {
    "duration": 19,
    "start_time": "2023-12-01T14:05:42.098Z"
   },
   {
    "duration": 119,
    "start_time": "2023-12-01T14:05:42.119Z"
   },
   {
    "duration": 20,
    "start_time": "2023-12-01T14:05:42.240Z"
   },
   {
    "duration": 7,
    "start_time": "2023-12-01T14:05:42.262Z"
   },
   {
    "duration": 174,
    "start_time": "2023-12-01T14:05:42.271Z"
   },
   {
    "duration": 4593,
    "start_time": "2023-12-01T14:05:42.447Z"
   },
   {
    "duration": 4,
    "start_time": "2023-12-01T14:05:47.042Z"
   },
   {
    "duration": 168,
    "start_time": "2023-12-01T14:05:47.048Z"
   },
   {
    "duration": 239,
    "start_time": "2023-12-01T14:05:47.218Z"
   },
   {
    "duration": 5,
    "start_time": "2023-12-01T14:07:20.953Z"
   },
   {
    "duration": 92,
    "start_time": "2023-12-01T15:49:40.085Z"
   },
   {
    "duration": 42,
    "start_time": "2023-12-01T15:53:35.774Z"
   },
   {
    "duration": 360,
    "start_time": "2023-12-01T15:53:46.766Z"
   },
   {
    "duration": 402,
    "start_time": "2023-12-01T15:53:47.128Z"
   },
   {
    "duration": 2,
    "start_time": "2023-12-01T15:53:47.532Z"
   },
   {
    "duration": 125,
    "start_time": "2023-12-01T15:53:47.536Z"
   },
   {
    "duration": 15,
    "start_time": "2023-12-01T15:53:47.663Z"
   },
   {
    "duration": 178,
    "start_time": "2023-12-01T15:53:47.679Z"
   },
   {
    "duration": 11,
    "start_time": "2023-12-01T15:53:47.858Z"
   },
   {
    "duration": 738,
    "start_time": "2023-12-01T15:53:47.870Z"
   },
   {
    "duration": 76,
    "start_time": "2023-12-01T15:53:48.610Z"
   },
   {
    "duration": 9,
    "start_time": "2023-12-01T15:53:48.689Z"
   },
   {
    "duration": 29,
    "start_time": "2023-12-01T15:53:48.700Z"
   },
   {
    "duration": 11,
    "start_time": "2023-12-01T15:53:48.730Z"
   },
   {
    "duration": 250,
    "start_time": "2023-12-01T15:53:48.743Z"
   },
   {
    "duration": 3,
    "start_time": "2023-12-01T15:53:48.994Z"
   },
   {
    "duration": 244,
    "start_time": "2023-12-01T15:53:48.998Z"
   },
   {
    "duration": 10,
    "start_time": "2023-12-01T15:53:49.244Z"
   },
   {
    "duration": 12,
    "start_time": "2023-12-01T15:53:49.255Z"
   },
   {
    "duration": 8,
    "start_time": "2023-12-01T15:53:49.269Z"
   },
   {
    "duration": 7,
    "start_time": "2023-12-01T15:53:49.279Z"
   },
   {
    "duration": 152,
    "start_time": "2023-12-01T15:53:49.288Z"
   },
   {
    "duration": 11,
    "start_time": "2023-12-01T15:53:49.441Z"
   },
   {
    "duration": 136,
    "start_time": "2023-12-01T15:53:49.453Z"
   },
   {
    "duration": 14,
    "start_time": "2023-12-01T15:53:49.590Z"
   },
   {
    "duration": 50,
    "start_time": "2023-12-01T15:53:49.605Z"
   },
   {
    "duration": 188,
    "start_time": "2023-12-01T15:53:49.656Z"
   },
   {
    "duration": 4300,
    "start_time": "2023-12-01T15:53:49.845Z"
   },
   {
    "duration": 4,
    "start_time": "2023-12-01T15:53:54.147Z"
   },
   {
    "duration": 151,
    "start_time": "2023-12-01T15:53:54.153Z"
   },
   {
    "duration": 233,
    "start_time": "2023-12-01T15:53:54.306Z"
   },
   {
    "duration": 5,
    "start_time": "2023-12-01T15:53:54.541Z"
   },
   {
    "duration": 10,
    "start_time": "2023-12-01T15:53:54.548Z"
   },
   {
    "duration": 13,
    "start_time": "2023-12-01T15:54:09.021Z"
   },
   {
    "duration": 23,
    "start_time": "2023-12-01T15:54:33.766Z"
   },
   {
    "duration": 11,
    "start_time": "2023-12-01T15:56:56.263Z"
   },
   {
    "duration": 13,
    "start_time": "2023-12-01T15:57:09.172Z"
   },
   {
    "duration": 13,
    "start_time": "2023-12-01T15:57:24.278Z"
   },
   {
    "duration": 15,
    "start_time": "2023-12-01T15:57:31.904Z"
   },
   {
    "duration": 24,
    "start_time": "2023-12-01T15:57:40.237Z"
   },
   {
    "duration": 20,
    "start_time": "2023-12-01T15:57:49.189Z"
   },
   {
    "duration": 20,
    "start_time": "2023-12-01T15:57:55.160Z"
   },
   {
    "duration": 24,
    "start_time": "2023-12-01T15:58:36.736Z"
   },
   {
    "duration": 12,
    "start_time": "2023-12-01T15:58:53.903Z"
   },
   {
    "duration": 7,
    "start_time": "2023-12-01T16:00:14.125Z"
   },
   {
    "duration": 6,
    "start_time": "2023-12-01T16:00:28.205Z"
   },
   {
    "duration": 13,
    "start_time": "2023-12-01T16:00:39.373Z"
   },
   {
    "duration": 16,
    "start_time": "2023-12-01T16:01:02.549Z"
   },
   {
    "duration": 14,
    "start_time": "2023-12-01T16:01:16.327Z"
   },
   {
    "duration": 14,
    "start_time": "2023-12-01T16:02:39.833Z"
   },
   {
    "duration": 368,
    "start_time": "2023-12-01T16:07:33.048Z"
   },
   {
    "duration": 245,
    "start_time": "2023-12-01T16:07:33.418Z"
   },
   {
    "duration": 2,
    "start_time": "2023-12-01T16:07:33.664Z"
   },
   {
    "duration": 48,
    "start_time": "2023-12-01T16:07:33.669Z"
   },
   {
    "duration": 11,
    "start_time": "2023-12-01T16:07:33.718Z"
   },
   {
    "duration": 50,
    "start_time": "2023-12-01T16:07:33.731Z"
   },
   {
    "duration": 10,
    "start_time": "2023-12-01T16:07:33.782Z"
   },
   {
    "duration": 748,
    "start_time": "2023-12-01T16:07:33.794Z"
   },
   {
    "duration": 19,
    "start_time": "2023-12-01T16:07:34.544Z"
   },
   {
    "duration": 9,
    "start_time": "2023-12-01T16:07:34.566Z"
   },
   {
    "duration": 10,
    "start_time": "2023-12-01T16:07:34.576Z"
   },
   {
    "duration": 7,
    "start_time": "2023-12-01T16:07:34.588Z"
   },
   {
    "duration": 229,
    "start_time": "2023-12-01T16:07:34.597Z"
   },
   {
    "duration": 2,
    "start_time": "2023-12-01T16:07:34.828Z"
   },
   {
    "duration": 269,
    "start_time": "2023-12-01T16:07:34.832Z"
   },
   {
    "duration": 18,
    "start_time": "2023-12-01T16:07:35.103Z"
   },
   {
    "duration": 5,
    "start_time": "2023-12-01T16:07:35.122Z"
   },
   {
    "duration": 11,
    "start_time": "2023-12-01T16:07:35.129Z"
   },
   {
    "duration": 13,
    "start_time": "2023-12-01T16:07:35.141Z"
   },
   {
    "duration": 141,
    "start_time": "2023-12-01T16:07:35.155Z"
   },
   {
    "duration": 19,
    "start_time": "2023-12-01T16:07:35.297Z"
   },
   {
    "duration": 116,
    "start_time": "2023-12-01T16:07:35.317Z"
   },
   {
    "duration": 14,
    "start_time": "2023-12-01T16:07:35.434Z"
   },
   {
    "duration": 16,
    "start_time": "2023-12-01T16:07:35.450Z"
   },
   {
    "duration": 159,
    "start_time": "2023-12-01T16:07:35.467Z"
   },
   {
    "duration": 4193,
    "start_time": "2023-12-01T16:07:35.628Z"
   },
   {
    "duration": 4,
    "start_time": "2023-12-01T16:07:39.823Z"
   },
   {
    "duration": 151,
    "start_time": "2023-12-01T16:07:39.831Z"
   },
   {
    "duration": 230,
    "start_time": "2023-12-01T16:07:39.984Z"
   },
   {
    "duration": 5,
    "start_time": "2023-12-01T16:07:40.216Z"
   },
   {
    "duration": 11,
    "start_time": "2023-12-01T16:07:40.223Z"
   },
   {
    "duration": 11,
    "start_time": "2023-12-01T16:07:40.235Z"
   },
   {
    "duration": 14,
    "start_time": "2023-12-01T16:07:40.247Z"
   },
   {
    "duration": 18,
    "start_time": "2023-12-01T16:07:40.263Z"
   },
   {
    "duration": 47,
    "start_time": "2023-12-01T16:07:40.282Z"
   },
   {
    "duration": 219,
    "start_time": "2023-12-01T16:30:29.021Z"
   },
   {
    "duration": 215,
    "start_time": "2023-12-01T16:32:31.390Z"
   },
   {
    "duration": 111,
    "start_time": "2023-12-01T16:32:59.839Z"
   },
   {
    "duration": 156,
    "start_time": "2023-12-01T16:33:42.782Z"
   },
   {
    "duration": 152,
    "start_time": "2023-12-01T16:34:10.970Z"
   },
   {
    "duration": 222,
    "start_time": "2023-12-01T16:34:22.580Z"
   },
   {
    "duration": 242,
    "start_time": "2023-12-01T16:35:28.716Z"
   },
   {
    "duration": 514,
    "start_time": "2023-12-01T16:35:48.200Z"
   },
   {
    "duration": 452,
    "start_time": "2023-12-01T16:36:11.881Z"
   },
   {
    "duration": 350,
    "start_time": "2023-12-01T16:37:03.488Z"
   },
   {
    "duration": 371,
    "start_time": "2023-12-01T16:37:30.122Z"
   },
   {
    "duration": 447,
    "start_time": "2023-12-01T16:39:51.598Z"
   },
   {
    "duration": 345,
    "start_time": "2023-12-01T16:40:03.000Z"
   },
   {
    "duration": 365,
    "start_time": "2023-12-01T16:40:25.700Z"
   },
   {
    "duration": 144,
    "start_time": "2023-12-01T16:44:15.573Z"
   },
   {
    "duration": 150,
    "start_time": "2023-12-01T16:44:40.153Z"
   },
   {
    "duration": 153,
    "start_time": "2023-12-01T16:47:26.773Z"
   },
   {
    "duration": 289,
    "start_time": "2023-12-01T16:49:20.961Z"
   },
   {
    "duration": 167,
    "start_time": "2023-12-01T16:49:33.602Z"
   },
   {
    "duration": 165,
    "start_time": "2023-12-01T16:49:49.094Z"
   },
   {
    "duration": 166,
    "start_time": "2023-12-01T16:51:56.583Z"
   },
   {
    "duration": 165,
    "start_time": "2023-12-01T16:52:50.083Z"
   },
   {
    "duration": 170,
    "start_time": "2023-12-01T16:53:19.718Z"
   },
   {
    "duration": 173,
    "start_time": "2023-12-01T16:53:28.319Z"
   },
   {
    "duration": 154,
    "start_time": "2023-12-01T16:53:35.161Z"
   },
   {
    "duration": 164,
    "start_time": "2023-12-01T16:53:46.066Z"
   },
   {
    "duration": 171,
    "start_time": "2023-12-01T16:53:58.094Z"
   },
   {
    "duration": 162,
    "start_time": "2023-12-01T16:55:35.754Z"
   },
   {
    "duration": 15,
    "start_time": "2023-12-01T17:12:44.882Z"
   },
   {
    "duration": 3,
    "start_time": "2023-12-01T17:22:25.406Z"
   },
   {
    "duration": 4935,
    "start_time": "2023-12-01T17:22:47.537Z"
   },
   {
    "duration": 15,
    "start_time": "2023-12-01T17:32:43.558Z"
   },
   {
    "duration": 23,
    "start_time": "2023-12-01T17:32:49.578Z"
   },
   {
    "duration": 10,
    "start_time": "2023-12-01T17:35:05.258Z"
   },
   {
    "duration": 447,
    "start_time": "2023-12-01T17:35:10.989Z"
   },
   {
    "duration": 10,
    "start_time": "2023-12-01T17:35:14.265Z"
   },
   {
    "duration": 8,
    "start_time": "2023-12-01T17:36:03.890Z"
   },
   {
    "duration": 418,
    "start_time": "2023-12-01T17:36:07.057Z"
   },
   {
    "duration": 353,
    "start_time": "2023-12-01T17:36:37.025Z"
   },
   {
    "duration": 22,
    "start_time": "2023-12-01T17:36:44.574Z"
   },
   {
    "duration": 11,
    "start_time": "2023-12-01T17:36:47.977Z"
   },
   {
    "duration": 3,
    "start_time": "2023-12-01T17:36:56.785Z"
   },
   {
    "duration": 9,
    "start_time": "2023-12-01T17:37:04.741Z"
   },
   {
    "duration": 22,
    "start_time": "2023-12-01T17:37:40.403Z"
   },
   {
    "duration": 20,
    "start_time": "2023-12-01T17:37:52.755Z"
   },
   {
    "duration": 3,
    "start_time": "2023-12-01T17:38:02.815Z"
   },
   {
    "duration": 10,
    "start_time": "2023-12-01T17:38:07.293Z"
   },
   {
    "duration": 368,
    "start_time": "2023-12-01T17:38:52.147Z"
   },
   {
    "duration": 243,
    "start_time": "2023-12-01T17:38:52.517Z"
   },
   {
    "duration": 2,
    "start_time": "2023-12-01T17:38:52.761Z"
   },
   {
    "duration": 45,
    "start_time": "2023-12-01T17:38:52.765Z"
   },
   {
    "duration": 11,
    "start_time": "2023-12-01T17:38:52.813Z"
   },
   {
    "duration": 38,
    "start_time": "2023-12-01T17:38:52.826Z"
   },
   {
    "duration": 10,
    "start_time": "2023-12-01T17:38:52.866Z"
   },
   {
    "duration": 792,
    "start_time": "2023-12-01T17:38:52.877Z"
   },
   {
    "duration": 19,
    "start_time": "2023-12-01T17:38:53.671Z"
   },
   {
    "duration": 10,
    "start_time": "2023-12-01T17:38:53.691Z"
   },
   {
    "duration": 18,
    "start_time": "2023-12-01T17:38:53.702Z"
   },
   {
    "duration": 11,
    "start_time": "2023-12-01T17:38:53.721Z"
   },
   {
    "duration": 8,
    "start_time": "2023-12-01T17:38:53.733Z"
   },
   {
    "duration": 8,
    "start_time": "2023-12-01T17:38:53.745Z"
   },
   {
    "duration": 9,
    "start_time": "2023-12-01T17:38:53.754Z"
   },
   {
    "duration": 188,
    "start_time": "2023-12-01T17:38:53.765Z"
   },
   {
    "duration": 12,
    "start_time": "2023-12-01T17:38:53.954Z"
   },
   {
    "duration": 134,
    "start_time": "2023-12-01T17:38:53.967Z"
   },
   {
    "duration": 22,
    "start_time": "2023-12-01T17:38:54.103Z"
   },
   {
    "duration": 4,
    "start_time": "2023-12-01T17:38:54.127Z"
   },
   {
    "duration": 163,
    "start_time": "2023-12-01T17:38:54.132Z"
   },
   {
    "duration": 4977,
    "start_time": "2023-12-01T17:38:54.297Z"
   },
   {
    "duration": 3,
    "start_time": "2023-12-01T17:38:59.276Z"
   },
   {
    "duration": 166,
    "start_time": "2023-12-01T17:38:59.280Z"
   },
   {
    "duration": 242,
    "start_time": "2023-12-01T17:38:59.447Z"
   },
   {
    "duration": 5,
    "start_time": "2023-12-01T17:38:59.690Z"
   },
   {
    "duration": 21,
    "start_time": "2023-12-01T17:38:59.697Z"
   },
   {
    "duration": 10,
    "start_time": "2023-12-01T17:38:59.720Z"
   },
   {
    "duration": 13,
    "start_time": "2023-12-01T17:38:59.731Z"
   },
   {
    "duration": 16,
    "start_time": "2023-12-01T17:38:59.746Z"
   },
   {
    "duration": 14,
    "start_time": "2023-12-01T17:38:59.764Z"
   },
   {
    "duration": 194,
    "start_time": "2023-12-01T17:38:59.779Z"
   },
   {
    "duration": 183,
    "start_time": "2023-12-01T17:38:59.975Z"
   },
   {
    "duration": 22,
    "start_time": "2023-12-01T17:39:00.159Z"
   },
   {
    "duration": 31,
    "start_time": "2023-12-01T17:39:00.182Z"
   },
   {
    "duration": 47,
    "start_time": "2023-12-01T17:39:00.214Z"
   },
   {
    "duration": 19,
    "start_time": "2023-12-01T17:39:51.639Z"
   },
   {
    "duration": 3,
    "start_time": "2023-12-01T17:39:54.708Z"
   },
   {
    "duration": 8,
    "start_time": "2023-12-01T17:40:00.341Z"
   },
   {
    "duration": 3,
    "start_time": "2023-12-01T17:52:40.958Z"
   },
   {
    "duration": 3,
    "start_time": "2023-12-01T17:54:09.443Z"
   },
   {
    "duration": 21,
    "start_time": "2023-12-01T17:54:27.546Z"
   },
   {
    "duration": 3,
    "start_time": "2023-12-01T17:54:33.618Z"
   },
   {
    "duration": 7,
    "start_time": "2023-12-01T17:54:35.226Z"
   },
   {
    "duration": 389,
    "start_time": "2023-12-02T12:43:24.365Z"
   },
   {
    "duration": 426,
    "start_time": "2023-12-02T12:43:24.756Z"
   },
   {
    "duration": 3,
    "start_time": "2023-12-02T12:43:25.183Z"
   },
   {
    "duration": 100,
    "start_time": "2023-12-02T12:43:25.188Z"
   },
   {
    "duration": 11,
    "start_time": "2023-12-02T12:43:25.290Z"
   },
   {
    "duration": 74,
    "start_time": "2023-12-02T12:43:25.303Z"
   },
   {
    "duration": 11,
    "start_time": "2023-12-02T12:43:25.378Z"
   },
   {
    "duration": 801,
    "start_time": "2023-12-02T12:43:25.391Z"
   },
   {
    "duration": 56,
    "start_time": "2023-12-02T12:43:26.194Z"
   },
   {
    "duration": 10,
    "start_time": "2023-12-02T12:43:26.252Z"
   },
   {
    "duration": 13,
    "start_time": "2023-12-02T12:43:26.264Z"
   },
   {
    "duration": 11,
    "start_time": "2023-12-02T12:43:26.279Z"
   },
   {
    "duration": 6,
    "start_time": "2023-12-02T12:43:26.292Z"
   },
   {
    "duration": 21,
    "start_time": "2023-12-02T12:43:26.301Z"
   },
   {
    "duration": 19,
    "start_time": "2023-12-02T12:43:26.323Z"
   },
   {
    "duration": 138,
    "start_time": "2023-12-02T12:43:26.343Z"
   },
   {
    "duration": 12,
    "start_time": "2023-12-02T12:43:26.483Z"
   },
   {
    "duration": 142,
    "start_time": "2023-12-02T12:43:26.497Z"
   },
   {
    "duration": 16,
    "start_time": "2023-12-02T12:43:26.640Z"
   },
   {
    "duration": 12,
    "start_time": "2023-12-02T12:43:26.658Z"
   },
   {
    "duration": 171,
    "start_time": "2023-12-02T12:43:26.672Z"
   },
   {
    "duration": 4946,
    "start_time": "2023-12-02T12:43:26.845Z"
   },
   {
    "duration": 4,
    "start_time": "2023-12-02T12:43:31.792Z"
   },
   {
    "duration": 168,
    "start_time": "2023-12-02T12:43:31.798Z"
   },
   {
    "duration": 251,
    "start_time": "2023-12-02T12:43:31.968Z"
   },
   {
    "duration": 5,
    "start_time": "2023-12-02T12:43:32.221Z"
   },
   {
    "duration": 14,
    "start_time": "2023-12-02T12:43:32.227Z"
   },
   {
    "duration": 10,
    "start_time": "2023-12-02T12:43:32.243Z"
   },
   {
    "duration": 17,
    "start_time": "2023-12-02T12:43:32.254Z"
   },
   {
    "duration": 17,
    "start_time": "2023-12-02T12:43:32.273Z"
   },
   {
    "duration": 40,
    "start_time": "2023-12-02T12:43:32.292Z"
   },
   {
    "duration": 185,
    "start_time": "2023-12-02T12:43:32.334Z"
   },
   {
    "duration": 176,
    "start_time": "2023-12-02T12:43:32.521Z"
   },
   {
    "duration": 2,
    "start_time": "2023-12-02T12:43:32.699Z"
   },
   {
    "duration": 30,
    "start_time": "2023-12-02T12:43:32.703Z"
   },
   {
    "duration": 40,
    "start_time": "2023-12-02T12:43:32.734Z"
   },
   {
    "duration": 5,
    "start_time": "2023-12-02T12:43:32.775Z"
   },
   {
    "duration": 10,
    "start_time": "2023-12-02T12:43:32.781Z"
   },
   {
    "duration": 421,
    "start_time": "2023-12-02T12:55:51.727Z"
   },
   {
    "duration": 245,
    "start_time": "2023-12-02T12:55:52.150Z"
   },
   {
    "duration": 2,
    "start_time": "2023-12-02T12:55:52.397Z"
   },
   {
    "duration": 37,
    "start_time": "2023-12-02T12:55:53.900Z"
   },
   {
    "duration": 10,
    "start_time": "2023-12-02T12:55:56.798Z"
   },
   {
    "duration": 48,
    "start_time": "2023-12-02T12:55:57.607Z"
   },
   {
    "duration": 11,
    "start_time": "2023-12-02T12:55:58.645Z"
   },
   {
    "duration": 774,
    "start_time": "2023-12-02T12:55:59.527Z"
   },
   {
    "duration": 49,
    "start_time": "2023-12-02T12:56:11.598Z"
   },
   {
    "duration": 448,
    "start_time": "2023-12-02T13:00:10.684Z"
   },
   {
    "duration": 246,
    "start_time": "2023-12-02T13:00:11.134Z"
   },
   {
    "duration": 2,
    "start_time": "2023-12-02T13:00:11.382Z"
   },
   {
    "duration": 43,
    "start_time": "2023-12-02T13:00:11.386Z"
   },
   {
    "duration": 11,
    "start_time": "2023-12-02T13:00:11.432Z"
   },
   {
    "duration": 55,
    "start_time": "2023-12-02T13:00:11.445Z"
   },
   {
    "duration": 12,
    "start_time": "2023-12-02T13:00:11.502Z"
   },
   {
    "duration": 799,
    "start_time": "2023-12-02T13:00:11.515Z"
   },
   {
    "duration": 19,
    "start_time": "2023-12-02T13:00:12.316Z"
   },
   {
    "duration": 10,
    "start_time": "2023-12-02T13:00:12.337Z"
   },
   {
    "duration": 14,
    "start_time": "2023-12-02T13:00:12.348Z"
   },
   {
    "duration": 11,
    "start_time": "2023-12-02T13:00:12.364Z"
   },
   {
    "duration": 6,
    "start_time": "2023-12-02T13:00:12.376Z"
   },
   {
    "duration": 9,
    "start_time": "2023-12-02T13:00:12.385Z"
   },
   {
    "duration": 34,
    "start_time": "2023-12-02T13:00:12.395Z"
   },
   {
    "duration": 156,
    "start_time": "2023-12-02T13:00:12.430Z"
   },
   {
    "duration": 11,
    "start_time": "2023-12-02T13:00:12.587Z"
   },
   {
    "duration": 138,
    "start_time": "2023-12-02T13:00:12.600Z"
   },
   {
    "duration": 15,
    "start_time": "2023-12-02T13:00:12.740Z"
   },
   {
    "duration": 11,
    "start_time": "2023-12-02T13:00:12.756Z"
   },
   {
    "duration": 189,
    "start_time": "2023-12-02T13:00:12.769Z"
   },
   {
    "duration": 5245,
    "start_time": "2023-12-02T13:00:12.960Z"
   },
   {
    "duration": 5,
    "start_time": "2023-12-02T13:00:18.206Z"
   },
   {
    "duration": 161,
    "start_time": "2023-12-02T13:00:18.223Z"
   },
   {
    "duration": 277,
    "start_time": "2023-12-02T13:00:18.386Z"
   },
   {
    "duration": 5,
    "start_time": "2023-12-02T13:00:18.665Z"
   },
   {
    "duration": 10,
    "start_time": "2023-12-02T13:00:18.671Z"
   },
   {
    "duration": 10,
    "start_time": "2023-12-02T13:00:18.682Z"
   },
   {
    "duration": 33,
    "start_time": "2023-12-02T13:00:18.694Z"
   },
   {
    "duration": 17,
    "start_time": "2023-12-02T13:00:18.729Z"
   },
   {
    "duration": 13,
    "start_time": "2023-12-02T13:00:18.748Z"
   },
   {
    "duration": 198,
    "start_time": "2023-12-02T13:00:18.763Z"
   },
   {
    "duration": 195,
    "start_time": "2023-12-02T13:00:18.963Z"
   },
   {
    "duration": 3,
    "start_time": "2023-12-02T13:00:19.160Z"
   },
   {
    "duration": 6,
    "start_time": "2023-12-02T13:00:19.164Z"
   },
   {
    "duration": 30,
    "start_time": "2023-12-02T13:00:19.172Z"
   },
   {
    "duration": 6,
    "start_time": "2023-12-02T13:00:19.204Z"
   },
   {
    "duration": 16,
    "start_time": "2023-12-02T13:00:19.211Z"
   },
   {
    "duration": 80,
    "start_time": "2023-12-02T13:00:19.229Z"
   },
   {
    "duration": 3,
    "start_time": "2023-12-02T13:17:07.090Z"
   },
   {
    "duration": 4,
    "start_time": "2023-12-02T13:17:08.250Z"
   },
   {
    "duration": 77,
    "start_time": "2023-12-02T13:17:09.225Z"
   },
   {
    "duration": 29,
    "start_time": "2023-12-02T13:17:18.939Z"
   },
   {
    "duration": 30,
    "start_time": "2023-12-02T13:17:33.980Z"
   },
   {
    "duration": 392,
    "start_time": "2023-12-02T13:18:25.266Z"
   },
   {
    "duration": 259,
    "start_time": "2023-12-02T13:18:25.660Z"
   },
   {
    "duration": 2,
    "start_time": "2023-12-02T13:18:25.921Z"
   },
   {
    "duration": 40,
    "start_time": "2023-12-02T13:18:25.925Z"
   },
   {
    "duration": 12,
    "start_time": "2023-12-02T13:18:25.967Z"
   },
   {
    "duration": 51,
    "start_time": "2023-12-02T13:18:25.981Z"
   },
   {
    "duration": 12,
    "start_time": "2023-12-02T13:18:26.034Z"
   },
   {
    "duration": 830,
    "start_time": "2023-12-02T13:18:26.047Z"
   },
   {
    "duration": 20,
    "start_time": "2023-12-02T13:18:26.879Z"
   },
   {
    "duration": 10,
    "start_time": "2023-12-02T13:18:26.901Z"
   },
   {
    "duration": 16,
    "start_time": "2023-12-02T13:18:26.913Z"
   },
   {
    "duration": 11,
    "start_time": "2023-12-02T13:18:26.931Z"
   },
   {
    "duration": 6,
    "start_time": "2023-12-02T13:18:26.944Z"
   },
   {
    "duration": 40,
    "start_time": "2023-12-02T13:18:26.952Z"
   },
   {
    "duration": 8,
    "start_time": "2023-12-02T13:18:26.994Z"
   },
   {
    "duration": 149,
    "start_time": "2023-12-02T13:18:27.004Z"
   },
   {
    "duration": 15,
    "start_time": "2023-12-02T13:18:27.155Z"
   },
   {
    "duration": 144,
    "start_time": "2023-12-02T13:18:27.171Z"
   },
   {
    "duration": 16,
    "start_time": "2023-12-02T13:18:27.316Z"
   },
   {
    "duration": 4,
    "start_time": "2023-12-02T13:18:27.334Z"
   },
   {
    "duration": 194,
    "start_time": "2023-12-02T13:18:27.339Z"
   },
   {
    "duration": 5322,
    "start_time": "2023-12-02T13:18:27.535Z"
   },
   {
    "duration": 4,
    "start_time": "2023-12-02T13:18:32.859Z"
   },
   {
    "duration": 198,
    "start_time": "2023-12-02T13:18:32.864Z"
   },
   {
    "duration": 260,
    "start_time": "2023-12-02T13:18:33.064Z"
   },
   {
    "duration": 6,
    "start_time": "2023-12-02T13:18:33.325Z"
   },
   {
    "duration": 18,
    "start_time": "2023-12-02T13:18:33.332Z"
   },
   {
    "duration": 12,
    "start_time": "2023-12-02T13:18:33.352Z"
   },
   {
    "duration": 19,
    "start_time": "2023-12-02T13:18:33.365Z"
   },
   {
    "duration": 42,
    "start_time": "2023-12-02T13:18:33.386Z"
   },
   {
    "duration": 16,
    "start_time": "2023-12-02T13:18:33.430Z"
   },
   {
    "duration": 207,
    "start_time": "2023-12-02T13:18:33.448Z"
   },
   {
    "duration": 196,
    "start_time": "2023-12-02T13:18:33.657Z"
   },
   {
    "duration": 3,
    "start_time": "2023-12-02T13:18:33.855Z"
   },
   {
    "duration": 42,
    "start_time": "2023-12-02T13:18:33.860Z"
   },
   {
    "duration": 71,
    "start_time": "2023-12-02T13:18:33.904Z"
   },
   {
    "duration": 26,
    "start_time": "2023-12-02T13:18:33.977Z"
   },
   {
    "duration": 60,
    "start_time": "2023-12-02T13:18:34.005Z"
   },
   {
    "duration": 382,
    "start_time": "2023-12-02T13:19:08.873Z"
   },
   {
    "duration": 253,
    "start_time": "2023-12-02T13:19:09.257Z"
   },
   {
    "duration": 3,
    "start_time": "2023-12-02T13:19:09.511Z"
   },
   {
    "duration": 50,
    "start_time": "2023-12-02T13:19:09.516Z"
   },
   {
    "duration": 12,
    "start_time": "2023-12-02T13:19:09.569Z"
   },
   {
    "duration": 53,
    "start_time": "2023-12-02T13:19:09.583Z"
   },
   {
    "duration": 12,
    "start_time": "2023-12-02T13:19:09.638Z"
   },
   {
    "duration": 829,
    "start_time": "2023-12-02T13:19:09.652Z"
   },
   {
    "duration": 21,
    "start_time": "2023-12-02T13:19:10.482Z"
   },
   {
    "duration": 9,
    "start_time": "2023-12-02T13:19:10.505Z"
   },
   {
    "duration": 21,
    "start_time": "2023-12-02T13:19:10.515Z"
   },
   {
    "duration": 12,
    "start_time": "2023-12-02T13:19:10.537Z"
   },
   {
    "duration": 5,
    "start_time": "2023-12-02T13:19:10.550Z"
   },
   {
    "duration": 8,
    "start_time": "2023-12-02T13:19:10.558Z"
   },
   {
    "duration": 9,
    "start_time": "2023-12-02T13:19:10.567Z"
   },
   {
    "duration": 184,
    "start_time": "2023-12-02T13:19:10.577Z"
   },
   {
    "duration": 14,
    "start_time": "2023-12-02T13:19:10.763Z"
   },
   {
    "duration": 140,
    "start_time": "2023-12-02T13:19:10.778Z"
   },
   {
    "duration": 15,
    "start_time": "2023-12-02T13:19:10.922Z"
   },
   {
    "duration": 12,
    "start_time": "2023-12-02T13:19:10.939Z"
   },
   {
    "duration": 184,
    "start_time": "2023-12-02T13:19:10.952Z"
   },
   {
    "duration": 5329,
    "start_time": "2023-12-02T13:19:11.138Z"
   },
   {
    "duration": 4,
    "start_time": "2023-12-02T13:19:16.469Z"
   },
   {
    "duration": 171,
    "start_time": "2023-12-02T13:19:16.475Z"
   },
   {
    "duration": 260,
    "start_time": "2023-12-02T13:19:16.648Z"
   },
   {
    "duration": 12,
    "start_time": "2023-12-02T13:19:16.910Z"
   },
   {
    "duration": 10,
    "start_time": "2023-12-02T13:19:16.924Z"
   },
   {
    "duration": 9,
    "start_time": "2023-12-02T13:19:16.936Z"
   },
   {
    "duration": 14,
    "start_time": "2023-12-02T13:19:16.947Z"
   },
   {
    "duration": 18,
    "start_time": "2023-12-02T13:19:16.962Z"
   },
   {
    "duration": 49,
    "start_time": "2023-12-02T13:19:16.982Z"
   },
   {
    "duration": 195,
    "start_time": "2023-12-02T13:19:17.032Z"
   },
   {
    "duration": 188,
    "start_time": "2023-12-02T13:19:17.229Z"
   },
   {
    "duration": 2,
    "start_time": "2023-12-02T13:19:17.422Z"
   },
   {
    "duration": 5,
    "start_time": "2023-12-02T13:19:17.426Z"
   },
   {
    "duration": 24,
    "start_time": "2023-12-02T13:19:17.432Z"
   },
   {
    "duration": 14,
    "start_time": "2023-12-02T13:19:17.458Z"
   },
   {
    "duration": 15,
    "start_time": "2023-12-02T13:19:17.474Z"
   },
   {
    "duration": 31,
    "start_time": "2023-12-02T13:19:17.491Z"
   },
   {
    "duration": 13,
    "start_time": "2023-12-02T13:19:45.052Z"
   },
   {
    "duration": 9,
    "start_time": "2023-12-02T13:19:56.764Z"
   },
   {
    "duration": 11,
    "start_time": "2023-12-02T13:20:01.029Z"
   },
   {
    "duration": 1329,
    "start_time": "2023-12-02T13:26:59.162Z"
   },
   {
    "duration": 10,
    "start_time": "2023-12-02T13:27:13.852Z"
   },
   {
    "duration": 34,
    "start_time": "2023-12-02T13:28:43.832Z"
   },
   {
    "duration": 2,
    "start_time": "2023-12-02T13:29:47.770Z"
   },
   {
    "duration": 3,
    "start_time": "2023-12-02T13:29:48.845Z"
   },
   {
    "duration": 22,
    "start_time": "2023-12-02T13:29:49.402Z"
   },
   {
    "duration": 11,
    "start_time": "2023-12-02T13:29:57.152Z"
   },
   {
    "duration": 4,
    "start_time": "2023-12-02T13:30:11.272Z"
   },
   {
    "duration": 10,
    "start_time": "2023-12-02T13:30:16.142Z"
   },
   {
    "duration": 15,
    "start_time": "2023-12-02T13:32:23.043Z"
   },
   {
    "duration": 20,
    "start_time": "2023-12-02T13:32:55.942Z"
   },
   {
    "duration": 12,
    "start_time": "2023-12-02T13:34:15.260Z"
   },
   {
    "duration": 9,
    "start_time": "2023-12-02T13:35:35.372Z"
   },
   {
    "duration": 9,
    "start_time": "2023-12-02T13:35:54.472Z"
   },
   {
    "duration": 11,
    "start_time": "2023-12-02T13:36:03.604Z"
   },
   {
    "duration": 11,
    "start_time": "2023-12-02T13:36:13.562Z"
   },
   {
    "duration": 2,
    "start_time": "2023-12-02T14:04:58.431Z"
   },
   {
    "duration": 4,
    "start_time": "2023-12-02T14:04:59.600Z"
   },
   {
    "duration": 22,
    "start_time": "2023-12-02T14:05:00.386Z"
   },
   {
    "duration": 11,
    "start_time": "2023-12-02T14:05:01.041Z"
   },
   {
    "duration": 3,
    "start_time": "2023-12-02T14:05:05.079Z"
   },
   {
    "duration": 5,
    "start_time": "2023-12-02T14:05:30.169Z"
   },
   {
    "duration": 9,
    "start_time": "2023-12-02T14:05:30.815Z"
   },
   {
    "duration": 12,
    "start_time": "2023-12-02T14:05:54.682Z"
   },
   {
    "duration": 16,
    "start_time": "2023-12-02T14:05:55.477Z"
   },
   {
    "duration": 12,
    "start_time": "2023-12-02T14:05:59.609Z"
   },
   {
    "duration": 11,
    "start_time": "2023-12-02T14:05:59.975Z"
   },
   {
    "duration": 19,
    "start_time": "2023-12-02T14:06:18.137Z"
   },
   {
    "duration": 20,
    "start_time": "2023-12-02T14:06:25.460Z"
   },
   {
    "duration": 21,
    "start_time": "2023-12-02T14:06:29.112Z"
   },
   {
    "duration": 20,
    "start_time": "2023-12-02T14:06:40.035Z"
   },
   {
    "duration": 21,
    "start_time": "2023-12-02T14:06:51.649Z"
   },
   {
    "duration": 11,
    "start_time": "2023-12-02T14:06:57.739Z"
   },
   {
    "duration": 2,
    "start_time": "2023-12-02T14:09:20.908Z"
   },
   {
    "duration": 3,
    "start_time": "2023-12-02T14:09:21.244Z"
   },
   {
    "duration": 21,
    "start_time": "2023-12-02T14:09:21.568Z"
   },
   {
    "duration": 11,
    "start_time": "2023-12-02T14:09:22.035Z"
   },
   {
    "duration": 4,
    "start_time": "2023-12-02T14:09:24.883Z"
   },
   {
    "duration": 4,
    "start_time": "2023-12-02T14:09:25.235Z"
   },
   {
    "duration": 10,
    "start_time": "2023-12-02T14:09:32.575Z"
   },
   {
    "duration": 8,
    "start_time": "2023-12-02T14:09:37.227Z"
   },
   {
    "duration": 10,
    "start_time": "2023-12-02T14:09:37.435Z"
   },
   {
    "duration": 8,
    "start_time": "2023-12-02T14:09:37.675Z"
   },
   {
    "duration": 11,
    "start_time": "2023-12-02T14:09:40.237Z"
   },
   {
    "duration": 111,
    "start_time": "2023-12-02T14:11:31.046Z"
   },
   {
    "duration": 72,
    "start_time": "2023-12-02T14:11:36.391Z"
   },
   {
    "duration": 77,
    "start_time": "2023-12-02T14:11:39.776Z"
   },
   {
    "duration": 5,
    "start_time": "2023-12-02T14:13:14.288Z"
   },
   {
    "duration": 12,
    "start_time": "2023-12-02T14:13:22.444Z"
   },
   {
    "duration": 7,
    "start_time": "2023-12-02T14:22:43.821Z"
   },
   {
    "duration": 12,
    "start_time": "2023-12-02T14:22:45.655Z"
   },
   {
    "duration": 447,
    "start_time": "2023-12-02T14:23:02.192Z"
   },
   {
    "duration": 244,
    "start_time": "2023-12-02T14:23:02.641Z"
   },
   {
    "duration": 3,
    "start_time": "2023-12-02T14:23:02.887Z"
   },
   {
    "duration": 84,
    "start_time": "2023-12-02T14:23:02.892Z"
   },
   {
    "duration": 20,
    "start_time": "2023-12-02T14:23:02.978Z"
   },
   {
    "duration": 55,
    "start_time": "2023-12-02T14:23:02.999Z"
   },
   {
    "duration": 12,
    "start_time": "2023-12-02T14:23:03.055Z"
   },
   {
    "duration": 839,
    "start_time": "2023-12-02T14:23:03.068Z"
   },
   {
    "duration": 20,
    "start_time": "2023-12-02T14:23:03.909Z"
   },
   {
    "duration": 10,
    "start_time": "2023-12-02T14:23:03.930Z"
   },
   {
    "duration": 16,
    "start_time": "2023-12-02T14:23:03.941Z"
   },
   {
    "duration": 12,
    "start_time": "2023-12-02T14:23:03.958Z"
   },
   {
    "duration": 5,
    "start_time": "2023-12-02T14:23:03.971Z"
   },
   {
    "duration": 8,
    "start_time": "2023-12-02T14:23:03.980Z"
   },
   {
    "duration": 35,
    "start_time": "2023-12-02T14:23:03.989Z"
   },
   {
    "duration": 157,
    "start_time": "2023-12-02T14:23:04.026Z"
   },
   {
    "duration": 12,
    "start_time": "2023-12-02T14:23:04.184Z"
   },
   {
    "duration": 167,
    "start_time": "2023-12-02T14:23:04.197Z"
   },
   {
    "duration": 14,
    "start_time": "2023-12-02T14:23:04.366Z"
   },
   {
    "duration": 4,
    "start_time": "2023-12-02T14:23:04.381Z"
   },
   {
    "duration": 181,
    "start_time": "2023-12-02T14:23:04.386Z"
   },
   {
    "duration": 5566,
    "start_time": "2023-12-02T14:23:04.568Z"
   },
   {
    "duration": 4,
    "start_time": "2023-12-02T14:23:10.136Z"
   },
   {
    "duration": 183,
    "start_time": "2023-12-02T14:23:10.142Z"
   },
   {
    "duration": 258,
    "start_time": "2023-12-02T14:23:10.327Z"
   },
   {
    "duration": 5,
    "start_time": "2023-12-02T14:23:10.586Z"
   },
   {
    "duration": 10,
    "start_time": "2023-12-02T14:23:10.593Z"
   },
   {
    "duration": 25,
    "start_time": "2023-12-02T14:23:10.605Z"
   },
   {
    "duration": 15,
    "start_time": "2023-12-02T14:23:10.632Z"
   },
   {
    "duration": 18,
    "start_time": "2023-12-02T14:23:10.648Z"
   },
   {
    "duration": 16,
    "start_time": "2023-12-02T14:23:10.668Z"
   },
   {
    "duration": 228,
    "start_time": "2023-12-02T14:23:10.685Z"
   },
   {
    "duration": 187,
    "start_time": "2023-12-02T14:23:10.914Z"
   },
   {
    "duration": 3,
    "start_time": "2023-12-02T14:23:11.103Z"
   },
   {
    "duration": 15,
    "start_time": "2023-12-02T14:23:11.107Z"
   },
   {
    "duration": 24,
    "start_time": "2023-12-02T14:23:11.124Z"
   },
   {
    "duration": 11,
    "start_time": "2023-12-02T14:23:11.150Z"
   },
   {
    "duration": 15,
    "start_time": "2023-12-02T14:23:11.163Z"
   },
   {
    "duration": 19,
    "start_time": "2023-12-02T14:23:11.180Z"
   },
   {
    "duration": 11,
    "start_time": "2023-12-02T14:23:11.201Z"
   },
   {
    "duration": 14,
    "start_time": "2023-12-02T14:23:11.215Z"
   },
   {
    "duration": 27,
    "start_time": "2023-12-02T14:23:11.231Z"
   },
   {
    "duration": 27,
    "start_time": "2023-12-02T14:23:11.259Z"
   },
   {
    "duration": 8,
    "start_time": "2023-12-02T14:23:11.287Z"
   },
   {
    "duration": 27,
    "start_time": "2023-12-02T14:23:11.296Z"
   },
   {
    "duration": 422,
    "start_time": "2023-12-03T07:02:10.007Z"
   },
   {
    "duration": 389,
    "start_time": "2023-12-03T07:02:10.431Z"
   },
   {
    "duration": 9,
    "start_time": "2023-12-03T07:02:10.822Z"
   },
   {
    "duration": 106,
    "start_time": "2023-12-03T07:02:10.833Z"
   },
   {
    "duration": 11,
    "start_time": "2023-12-03T07:02:10.940Z"
   },
   {
    "duration": 170,
    "start_time": "2023-12-03T07:02:10.953Z"
   },
   {
    "duration": 11,
    "start_time": "2023-12-03T07:02:11.125Z"
   },
   {
    "duration": 720,
    "start_time": "2023-12-03T07:02:11.138Z"
   },
   {
    "duration": 69,
    "start_time": "2023-12-03T07:02:11.859Z"
   },
   {
    "duration": 9,
    "start_time": "2023-12-03T07:02:11.931Z"
   },
   {
    "duration": 49,
    "start_time": "2023-12-03T07:02:11.942Z"
   },
   {
    "duration": 15,
    "start_time": "2023-12-03T07:02:11.992Z"
   },
   {
    "duration": 6,
    "start_time": "2023-12-03T07:02:12.008Z"
   },
   {
    "duration": 7,
    "start_time": "2023-12-03T07:02:12.015Z"
   },
   {
    "duration": 7,
    "start_time": "2023-12-03T07:02:12.024Z"
   },
   {
    "duration": 141,
    "start_time": "2023-12-03T07:02:12.033Z"
   },
   {
    "duration": 14,
    "start_time": "2023-12-03T07:02:12.176Z"
   },
   {
    "duration": 123,
    "start_time": "2023-12-03T07:02:12.191Z"
   },
   {
    "duration": 22,
    "start_time": "2023-12-03T07:02:12.315Z"
   },
   {
    "duration": 5,
    "start_time": "2023-12-03T07:02:12.338Z"
   },
   {
    "duration": 161,
    "start_time": "2023-12-03T07:02:12.344Z"
   },
   {
    "duration": 4784,
    "start_time": "2023-12-03T07:02:12.506Z"
   },
   {
    "duration": 5,
    "start_time": "2023-12-03T07:02:17.292Z"
   },
   {
    "duration": 173,
    "start_time": "2023-12-03T07:02:17.298Z"
   },
   {
    "duration": 245,
    "start_time": "2023-12-03T07:02:17.473Z"
   },
   {
    "duration": 11,
    "start_time": "2023-12-03T07:02:17.720Z"
   },
   {
    "duration": 11,
    "start_time": "2023-12-03T07:02:17.733Z"
   },
   {
    "duration": 12,
    "start_time": "2023-12-03T07:02:17.747Z"
   },
   {
    "duration": 17,
    "start_time": "2023-12-03T07:02:17.761Z"
   },
   {
    "duration": 21,
    "start_time": "2023-12-03T07:02:17.780Z"
   },
   {
    "duration": 17,
    "start_time": "2023-12-03T07:02:17.831Z"
   },
   {
    "duration": 200,
    "start_time": "2023-12-03T07:02:17.850Z"
   },
   {
    "duration": 185,
    "start_time": "2023-12-03T07:02:18.052Z"
   },
   {
    "duration": 2,
    "start_time": "2023-12-03T07:02:18.238Z"
   },
   {
    "duration": 27,
    "start_time": "2023-12-03T07:02:18.242Z"
   },
   {
    "duration": 36,
    "start_time": "2023-12-03T07:02:18.271Z"
   },
   {
    "duration": 15,
    "start_time": "2023-12-03T07:02:18.309Z"
   },
   {
    "duration": 10,
    "start_time": "2023-12-03T07:02:18.325Z"
   },
   {
    "duration": 32,
    "start_time": "2023-12-03T07:02:18.337Z"
   },
   {
    "duration": 24,
    "start_time": "2023-12-03T07:02:18.370Z"
   },
   {
    "duration": 25,
    "start_time": "2023-12-03T07:02:18.395Z"
   },
   {
    "duration": 11,
    "start_time": "2023-12-03T07:02:18.422Z"
   },
   {
    "duration": 16,
    "start_time": "2023-12-03T07:02:18.434Z"
   },
   {
    "duration": 32,
    "start_time": "2023-12-03T07:02:18.452Z"
   },
   {
    "duration": 31,
    "start_time": "2023-12-03T07:02:18.485Z"
   },
   {
    "duration": 5,
    "start_time": "2023-12-03T07:33:48.677Z"
   },
   {
    "duration": 6,
    "start_time": "2023-12-03T07:34:01.606Z"
   },
   {
    "duration": 69,
    "start_time": "2023-12-03T07:35:57.779Z"
   },
   {
    "duration": 475,
    "start_time": "2023-12-03T07:36:19.343Z"
   },
   {
    "duration": 153,
    "start_time": "2023-12-03T07:36:31.124Z"
   },
   {
    "duration": 9,
    "start_time": "2023-12-03T07:37:17.947Z"
   },
   {
    "duration": 3,
    "start_time": "2023-12-03T07:37:25.810Z"
   },
   {
    "duration": 108,
    "start_time": "2023-12-03T07:37:26.769Z"
   },
   {
    "duration": 5,
    "start_time": "2023-12-03T07:38:26.025Z"
   },
   {
    "duration": 5,
    "start_time": "2023-12-03T07:39:03.260Z"
   },
   {
    "duration": 5,
    "start_time": "2023-12-03T07:39:20.869Z"
   },
   {
    "duration": 5,
    "start_time": "2023-12-03T07:39:26.761Z"
   },
   {
    "duration": 6,
    "start_time": "2023-12-03T07:39:50.409Z"
   },
   {
    "duration": 6,
    "start_time": "2023-12-03T07:39:57.299Z"
   },
   {
    "duration": 7,
    "start_time": "2023-12-03T07:40:35.519Z"
   },
   {
    "duration": 6,
    "start_time": "2023-12-03T07:41:58.971Z"
   },
   {
    "duration": 5,
    "start_time": "2023-12-03T07:42:09.836Z"
   },
   {
    "duration": 9,
    "start_time": "2023-12-03T07:42:45.251Z"
   },
   {
    "duration": 3,
    "start_time": "2023-12-03T07:42:48.329Z"
   },
   {
    "duration": 6,
    "start_time": "2023-12-03T07:42:48.779Z"
   },
   {
    "duration": 5,
    "start_time": "2023-12-03T07:45:37.097Z"
   },
   {
    "duration": 5,
    "start_time": "2023-12-03T07:46:01.808Z"
   },
   {
    "duration": 6,
    "start_time": "2023-12-03T07:46:27.798Z"
   },
   {
    "duration": 5,
    "start_time": "2023-12-03T07:46:33.850Z"
   },
   {
    "duration": 6,
    "start_time": "2023-12-03T07:49:03.260Z"
   },
   {
    "duration": 7,
    "start_time": "2023-12-03T07:49:10.717Z"
   },
   {
    "duration": 8,
    "start_time": "2023-12-03T07:49:37.770Z"
   },
   {
    "duration": 7,
    "start_time": "2023-12-03T07:50:10.249Z"
   },
   {
    "duration": 6,
    "start_time": "2023-12-03T07:51:30.970Z"
   },
   {
    "duration": 5,
    "start_time": "2023-12-03T07:51:40.858Z"
   },
   {
    "duration": 7,
    "start_time": "2023-12-03T07:51:53.192Z"
   },
   {
    "duration": 6,
    "start_time": "2023-12-03T07:52:41.870Z"
   },
   {
    "duration": 6,
    "start_time": "2023-12-03T07:53:48.251Z"
   },
   {
    "duration": 4,
    "start_time": "2023-12-03T08:04:36.529Z"
   },
   {
    "duration": 3,
    "start_time": "2023-12-03T08:04:47.990Z"
   },
   {
    "duration": 4,
    "start_time": "2023-12-03T08:05:04.582Z"
   },
   {
    "duration": 4,
    "start_time": "2023-12-03T08:05:05.077Z"
   },
   {
    "duration": 7,
    "start_time": "2023-12-03T08:09:04.666Z"
   },
   {
    "duration": 5,
    "start_time": "2023-12-03T08:11:16.643Z"
   },
   {
    "duration": 6,
    "start_time": "2023-12-03T08:12:00.853Z"
   },
   {
    "duration": 6,
    "start_time": "2023-12-03T08:13:12.108Z"
   },
   {
    "duration": 6,
    "start_time": "2023-12-03T08:18:01.170Z"
   },
   {
    "duration": 5,
    "start_time": "2023-12-03T08:18:13.018Z"
   },
   {
    "duration": 5,
    "start_time": "2023-12-03T08:18:19.170Z"
   },
   {
    "duration": 5,
    "start_time": "2023-12-03T08:18:46.130Z"
   },
   {
    "duration": 10,
    "start_time": "2023-12-03T08:29:18.501Z"
   },
   {
    "duration": 2,
    "start_time": "2023-12-03T08:29:29.202Z"
   },
   {
    "duration": 3,
    "start_time": "2023-12-03T08:29:29.730Z"
   },
   {
    "duration": 23,
    "start_time": "2023-12-03T08:29:30.210Z"
   },
   {
    "duration": 10,
    "start_time": "2023-12-03T08:29:30.750Z"
   },
   {
    "duration": 3,
    "start_time": "2023-12-03T08:29:34.218Z"
   },
   {
    "duration": 9,
    "start_time": "2023-12-03T08:29:35.333Z"
   },
   {
    "duration": 9,
    "start_time": "2023-12-03T08:29:35.890Z"
   },
   {
    "duration": 3,
    "start_time": "2023-12-03T08:30:00.112Z"
   },
   {
    "duration": 4,
    "start_time": "2023-12-03T08:30:00.552Z"
   },
   {
    "duration": 21,
    "start_time": "2023-12-03T08:30:00.972Z"
   },
   {
    "duration": 9,
    "start_time": "2023-12-03T08:30:03.570Z"
   },
   {
    "duration": 3,
    "start_time": "2023-12-03T08:30:12.140Z"
   },
   {
    "duration": 4,
    "start_time": "2023-12-03T08:30:12.532Z"
   },
   {
    "duration": 24,
    "start_time": "2023-12-03T08:30:13.040Z"
   },
   {
    "duration": 14,
    "start_time": "2023-12-03T08:30:26.840Z"
   },
   {
    "duration": 4,
    "start_time": "2023-12-03T08:31:06.480Z"
   },
   {
    "duration": 10,
    "start_time": "2023-12-03T08:31:10.122Z"
   },
   {
    "duration": 11,
    "start_time": "2023-12-03T08:31:10.510Z"
   },
   {
    "duration": 8,
    "start_time": "2023-12-03T08:31:10.960Z"
   },
   {
    "duration": 11,
    "start_time": "2023-12-03T08:31:11.480Z"
   },
   {
    "duration": 6,
    "start_time": "2023-12-03T08:31:11.968Z"
   },
   {
    "duration": 6,
    "start_time": "2023-12-03T08:31:12.460Z"
   },
   {
    "duration": 12,
    "start_time": "2023-12-03T08:31:12.929Z"
   },
   {
    "duration": 4,
    "start_time": "2023-12-03T08:31:14.810Z"
   },
   {
    "duration": 6,
    "start_time": "2023-12-03T08:31:15.191Z"
   },
   {
    "duration": 7,
    "start_time": "2023-12-03T08:31:15.588Z"
   },
   {
    "duration": 4,
    "start_time": "2023-12-03T08:31:16.640Z"
   },
   {
    "duration": 5,
    "start_time": "2023-12-03T08:31:17.020Z"
   },
   {
    "duration": 3,
    "start_time": "2023-12-03T08:31:19.596Z"
   },
   {
    "duration": 3,
    "start_time": "2023-12-03T08:32:04.520Z"
   },
   {
    "duration": 4,
    "start_time": "2023-12-03T08:32:04.890Z"
   },
   {
    "duration": 23,
    "start_time": "2023-12-03T08:32:05.201Z"
   },
   {
    "duration": 14,
    "start_time": "2023-12-03T08:32:05.518Z"
   },
   {
    "duration": 4,
    "start_time": "2023-12-03T08:32:06.562Z"
   },
   {
    "duration": 9,
    "start_time": "2023-12-03T08:32:07.810Z"
   },
   {
    "duration": 11,
    "start_time": "2023-12-03T08:32:09.180Z"
   },
   {
    "duration": 3,
    "start_time": "2023-12-03T08:33:00.202Z"
   },
   {
    "duration": 3,
    "start_time": "2023-12-03T08:33:00.490Z"
   },
   {
    "duration": 23,
    "start_time": "2023-12-03T08:33:00.815Z"
   },
   {
    "duration": 5,
    "start_time": "2023-12-03T08:33:11.035Z"
   },
   {
    "duration": 4,
    "start_time": "2023-12-03T08:33:13.642Z"
   },
   {
    "duration": 8,
    "start_time": "2023-12-03T08:33:14.470Z"
   },
   {
    "duration": 10,
    "start_time": "2023-12-03T08:33:15.021Z"
   },
   {
    "duration": 10,
    "start_time": "2023-12-03T08:33:30.790Z"
   },
   {
    "duration": 2,
    "start_time": "2023-12-03T08:33:34.650Z"
   },
   {
    "duration": 3,
    "start_time": "2023-12-03T08:33:34.910Z"
   },
   {
    "duration": 22,
    "start_time": "2023-12-03T08:33:35.149Z"
   },
   {
    "duration": 4,
    "start_time": "2023-12-03T08:33:35.381Z"
   },
   {
    "duration": 5,
    "start_time": "2023-12-03T08:33:35.628Z"
   },
   {
    "duration": 8,
    "start_time": "2023-12-03T08:33:36.330Z"
   },
   {
    "duration": 9,
    "start_time": "2023-12-03T08:33:40.069Z"
   },
   {
    "duration": 14,
    "start_time": "2023-12-03T08:33:40.570Z"
   },
   {
    "duration": 9,
    "start_time": "2023-12-03T08:33:51.019Z"
   },
   {
    "duration": 11,
    "start_time": "2023-12-03T08:33:51.638Z"
   },
   {
    "duration": 5,
    "start_time": "2023-12-03T08:33:52.557Z"
   },
   {
    "duration": 6,
    "start_time": "2023-12-03T08:33:53.049Z"
   },
   {
    "duration": 12,
    "start_time": "2023-12-03T08:33:54.334Z"
   },
   {
    "duration": 3,
    "start_time": "2023-12-03T08:33:57.430Z"
   },
   {
    "duration": 5,
    "start_time": "2023-12-03T08:33:57.542Z"
   },
   {
    "duration": 6,
    "start_time": "2023-12-03T08:33:58.042Z"
   },
   {
    "duration": 3,
    "start_time": "2023-12-03T08:34:00.582Z"
   },
   {
    "duration": 6,
    "start_time": "2023-12-03T08:34:01.058Z"
   },
   {
    "duration": 6,
    "start_time": "2023-12-03T08:35:33.897Z"
   },
   {
    "duration": 3,
    "start_time": "2023-12-03T08:35:39.962Z"
   },
   {
    "duration": 7,
    "start_time": "2023-12-03T08:36:01.440Z"
   },
   {
    "duration": 5,
    "start_time": "2023-12-03T08:36:01.809Z"
   },
   {
    "duration": 6,
    "start_time": "2023-12-03T08:36:04.771Z"
   },
   {
    "duration": 4,
    "start_time": "2023-12-03T08:36:11.490Z"
   },
   {
    "duration": 8,
    "start_time": "2023-12-03T08:41:39.858Z"
   },
   {
    "duration": 6,
    "start_time": "2023-12-03T08:42:34.738Z"
   },
   {
    "duration": 6,
    "start_time": "2023-12-03T08:42:43.891Z"
   },
   {
    "duration": 7,
    "start_time": "2023-12-03T08:42:47.078Z"
   },
   {
    "duration": 7,
    "start_time": "2023-12-03T08:43:02.832Z"
   },
   {
    "duration": 7,
    "start_time": "2023-12-03T08:43:39.278Z"
   },
   {
    "duration": 3,
    "start_time": "2023-12-03T08:46:55.331Z"
   },
   {
    "duration": 5,
    "start_time": "2023-12-03T08:47:07.700Z"
   },
   {
    "duration": 11,
    "start_time": "2023-12-03T08:47:26.098Z"
   },
   {
    "duration": 4,
    "start_time": "2023-12-03T08:47:41.070Z"
   },
   {
    "duration": 6,
    "start_time": "2023-12-03T08:48:12.662Z"
   },
   {
    "duration": 6,
    "start_time": "2023-12-03T08:48:29.052Z"
   },
   {
    "duration": 8,
    "start_time": "2023-12-03T08:48:29.490Z"
   },
   {
    "duration": 6,
    "start_time": "2023-12-03T08:48:30.400Z"
   },
   {
    "duration": 5,
    "start_time": "2023-12-03T08:48:38.160Z"
   },
   {
    "duration": 9,
    "start_time": "2023-12-03T08:49:39.589Z"
   },
   {
    "duration": 9,
    "start_time": "2023-12-03T08:49:43.920Z"
   },
   {
    "duration": 7,
    "start_time": "2023-12-03T08:49:54.832Z"
   },
   {
    "duration": 8,
    "start_time": "2023-12-03T08:49:59.885Z"
   },
   {
    "duration": 6,
    "start_time": "2023-12-03T08:50:22.579Z"
   },
   {
    "duration": 6,
    "start_time": "2023-12-03T08:50:33.450Z"
   },
   {
    "duration": 8,
    "start_time": "2023-12-03T08:50:33.769Z"
   },
   {
    "duration": 6,
    "start_time": "2023-12-03T08:50:34.110Z"
   },
   {
    "duration": 4,
    "start_time": "2023-12-03T08:50:34.740Z"
   },
   {
    "duration": 430,
    "start_time": "2023-12-03T08:54:45.733Z"
   },
   {
    "duration": 262,
    "start_time": "2023-12-03T08:54:46.166Z"
   },
   {
    "duration": 2,
    "start_time": "2023-12-03T08:54:46.430Z"
   },
   {
    "duration": 468,
    "start_time": "2023-12-03T08:54:46.434Z"
   },
   {
    "duration": 38,
    "start_time": "2023-12-03T08:54:46.905Z"
   },
   {
    "duration": 10,
    "start_time": "2023-12-03T08:54:46.945Z"
   },
   {
    "duration": 43,
    "start_time": "2023-12-03T08:54:46.957Z"
   },
   {
    "duration": 11,
    "start_time": "2023-12-03T08:54:47.001Z"
   },
   {
    "duration": 753,
    "start_time": "2023-12-03T08:54:47.013Z"
   },
   {
    "duration": 21,
    "start_time": "2023-12-03T08:54:47.768Z"
   },
   {
    "duration": 15,
    "start_time": "2023-12-03T08:54:47.790Z"
   },
   {
    "duration": 17,
    "start_time": "2023-12-03T08:54:47.807Z"
   },
   {
    "duration": 15,
    "start_time": "2023-12-03T08:54:47.825Z"
   },
   {
    "duration": 6,
    "start_time": "2023-12-03T08:54:47.843Z"
   },
   {
    "duration": 7,
    "start_time": "2023-12-03T08:54:47.851Z"
   },
   {
    "duration": 11,
    "start_time": "2023-12-03T08:54:47.860Z"
   },
   {
    "duration": 167,
    "start_time": "2023-12-03T08:54:47.872Z"
   },
   {
    "duration": 11,
    "start_time": "2023-12-03T08:54:48.041Z"
   },
   {
    "duration": 140,
    "start_time": "2023-12-03T08:54:48.054Z"
   },
   {
    "duration": 14,
    "start_time": "2023-12-03T08:54:48.196Z"
   },
   {
    "duration": 18,
    "start_time": "2023-12-03T08:54:48.212Z"
   },
   {
    "duration": 161,
    "start_time": "2023-12-03T08:54:48.232Z"
   },
   {
    "duration": 4743,
    "start_time": "2023-12-03T08:54:48.394Z"
   },
   {
    "duration": 4,
    "start_time": "2023-12-03T08:54:53.139Z"
   },
   {
    "duration": 170,
    "start_time": "2023-12-03T08:54:53.145Z"
   },
   {
    "duration": 332,
    "start_time": "2023-12-03T08:54:53.317Z"
   },
   {
    "duration": 6,
    "start_time": "2023-12-03T08:54:53.651Z"
   },
   {
    "duration": 13,
    "start_time": "2023-12-03T08:54:53.658Z"
   },
   {
    "duration": 11,
    "start_time": "2023-12-03T08:54:53.673Z"
   },
   {
    "duration": 20,
    "start_time": "2023-12-03T08:54:53.685Z"
   },
   {
    "duration": 37,
    "start_time": "2023-12-03T08:54:53.707Z"
   },
   {
    "duration": 14,
    "start_time": "2023-12-03T08:54:53.746Z"
   },
   {
    "duration": 194,
    "start_time": "2023-12-03T08:54:53.762Z"
   },
   {
    "duration": 183,
    "start_time": "2023-12-03T08:54:53.958Z"
   },
   {
    "duration": 2,
    "start_time": "2023-12-03T08:54:54.143Z"
   },
   {
    "duration": 15,
    "start_time": "2023-12-03T08:54:54.147Z"
   },
   {
    "duration": 29,
    "start_time": "2023-12-03T08:54:54.163Z"
   },
   {
    "duration": 4,
    "start_time": "2023-12-03T08:54:54.194Z"
   },
   {
    "duration": 8,
    "start_time": "2023-12-03T08:54:54.199Z"
   },
   {
    "duration": 17,
    "start_time": "2023-12-03T08:54:54.209Z"
   },
   {
    "duration": 8,
    "start_time": "2023-12-03T08:54:54.233Z"
   },
   {
    "duration": 10,
    "start_time": "2023-12-03T08:54:54.242Z"
   },
   {
    "duration": 15,
    "start_time": "2023-12-03T08:54:54.254Z"
   },
   {
    "duration": 34,
    "start_time": "2023-12-03T08:54:54.270Z"
   },
   {
    "duration": 27,
    "start_time": "2023-12-03T08:54:54.305Z"
   },
   {
    "duration": 13,
    "start_time": "2023-12-03T08:54:54.333Z"
   },
   {
    "duration": 16,
    "start_time": "2023-12-03T08:54:54.348Z"
   },
   {
    "duration": 4,
    "start_time": "2023-12-03T08:54:54.366Z"
   },
   {
    "duration": 5,
    "start_time": "2023-12-03T08:54:54.372Z"
   },
   {
    "duration": 18,
    "start_time": "2023-12-03T08:54:54.379Z"
   },
   {
    "duration": 8,
    "start_time": "2023-12-03T08:54:54.398Z"
   },
   {
    "duration": 30,
    "start_time": "2023-12-03T08:54:54.408Z"
   },
   {
    "duration": 13,
    "start_time": "2023-12-03T08:54:54.440Z"
   },
   {
    "duration": 12,
    "start_time": "2023-12-03T08:54:54.455Z"
   },
   {
    "duration": 13,
    "start_time": "2023-12-03T08:54:54.469Z"
   },
   {
    "duration": 14,
    "start_time": "2023-12-03T08:54:54.484Z"
   },
   {
    "duration": 45,
    "start_time": "2023-12-03T08:57:05.476Z"
   },
   {
    "duration": 91,
    "start_time": "2023-12-03T09:01:54.108Z"
   },
   {
    "duration": 416,
    "start_time": "2023-12-03T14:03:41.702Z"
   },
   {
    "duration": 384,
    "start_time": "2023-12-03T14:03:42.120Z"
   },
   {
    "duration": 2,
    "start_time": "2023-12-03T14:03:42.506Z"
   },
   {
    "duration": 486,
    "start_time": "2023-12-03T14:03:42.510Z"
   },
   {
    "duration": 120,
    "start_time": "2023-12-03T14:03:42.999Z"
   },
   {
    "duration": 10,
    "start_time": "2023-12-03T14:03:43.121Z"
   },
   {
    "duration": 176,
    "start_time": "2023-12-03T14:03:43.133Z"
   },
   {
    "duration": 11,
    "start_time": "2023-12-03T14:03:43.311Z"
   },
   {
    "duration": 648,
    "start_time": "2023-12-03T14:03:43.324Z"
   },
   {
    "duration": 59,
    "start_time": "2023-12-03T14:03:43.974Z"
   },
   {
    "duration": 10,
    "start_time": "2023-12-03T14:03:44.035Z"
   },
   {
    "duration": 12,
    "start_time": "2023-12-03T14:03:44.046Z"
   },
   {
    "duration": 11,
    "start_time": "2023-12-03T14:03:44.059Z"
   },
   {
    "duration": 5,
    "start_time": "2023-12-03T14:03:44.074Z"
   },
   {
    "duration": 11,
    "start_time": "2023-12-03T14:03:44.081Z"
   },
   {
    "duration": 41,
    "start_time": "2023-12-03T14:03:44.093Z"
   },
   {
    "duration": 130,
    "start_time": "2023-12-03T14:03:44.136Z"
   },
   {
    "duration": 11,
    "start_time": "2023-12-03T14:03:44.267Z"
   },
   {
    "duration": 122,
    "start_time": "2023-12-03T14:03:44.279Z"
   },
   {
    "duration": 15,
    "start_time": "2023-12-03T14:03:44.403Z"
   },
   {
    "duration": 4,
    "start_time": "2023-12-03T14:03:44.431Z"
   },
   {
    "duration": 154,
    "start_time": "2023-12-03T14:03:44.436Z"
   },
   {
    "duration": 4666,
    "start_time": "2023-12-03T14:03:44.592Z"
   },
   {
    "duration": 4,
    "start_time": "2023-12-03T14:03:49.260Z"
   },
   {
    "duration": 153,
    "start_time": "2023-12-03T14:03:49.265Z"
   },
   {
    "duration": 312,
    "start_time": "2023-12-03T14:03:49.419Z"
   },
   {
    "duration": 5,
    "start_time": "2023-12-03T14:03:49.732Z"
   },
   {
    "duration": 10,
    "start_time": "2023-12-03T14:03:49.738Z"
   },
   {
    "duration": 10,
    "start_time": "2023-12-03T14:03:49.750Z"
   },
   {
    "duration": 13,
    "start_time": "2023-12-03T14:03:49.761Z"
   },
   {
    "duration": 18,
    "start_time": "2023-12-03T14:03:49.776Z"
   },
   {
    "duration": 48,
    "start_time": "2023-12-03T14:03:49.795Z"
   },
   {
    "duration": 176,
    "start_time": "2023-12-03T14:03:49.845Z"
   },
   {
    "duration": 164,
    "start_time": "2023-12-03T14:03:50.030Z"
   },
   {
    "duration": 3,
    "start_time": "2023-12-03T14:03:50.195Z"
   },
   {
    "duration": 17,
    "start_time": "2023-12-03T14:03:50.199Z"
   },
   {
    "duration": 38,
    "start_time": "2023-12-03T14:03:50.217Z"
   },
   {
    "duration": 5,
    "start_time": "2023-12-03T14:03:50.256Z"
   },
   {
    "duration": 6,
    "start_time": "2023-12-03T14:03:50.262Z"
   },
   {
    "duration": 15,
    "start_time": "2023-12-03T14:03:50.270Z"
   },
   {
    "duration": 22,
    "start_time": "2023-12-03T14:03:50.289Z"
   },
   {
    "duration": 13,
    "start_time": "2023-12-03T14:03:50.313Z"
   },
   {
    "duration": 17,
    "start_time": "2023-12-03T14:03:50.327Z"
   },
   {
    "duration": 15,
    "start_time": "2023-12-03T14:03:50.345Z"
   },
   {
    "duration": 13,
    "start_time": "2023-12-03T14:03:50.362Z"
   },
   {
    "duration": 10,
    "start_time": "2023-12-03T14:03:50.376Z"
   },
   {
    "duration": 10,
    "start_time": "2023-12-03T14:03:50.387Z"
   },
   {
    "duration": 21,
    "start_time": "2023-12-03T14:03:50.399Z"
   },
   {
    "duration": 7,
    "start_time": "2023-12-03T14:03:50.422Z"
   },
   {
    "duration": 7,
    "start_time": "2023-12-03T14:03:50.431Z"
   },
   {
    "duration": 15,
    "start_time": "2023-12-03T14:03:50.439Z"
   },
   {
    "duration": 13,
    "start_time": "2023-12-03T14:03:50.455Z"
   },
   {
    "duration": 16,
    "start_time": "2023-12-03T14:03:50.470Z"
   },
   {
    "duration": 11,
    "start_time": "2023-12-03T14:03:50.487Z"
   },
   {
    "duration": 9,
    "start_time": "2023-12-03T14:03:50.500Z"
   },
   {
    "duration": 8,
    "start_time": "2023-12-03T14:03:50.510Z"
   },
   {
    "duration": 6,
    "start_time": "2023-12-03T14:10:24.696Z"
   },
   {
    "duration": 7,
    "start_time": "2023-12-03T14:10:35.526Z"
   },
   {
    "duration": 90,
    "start_time": "2023-12-03T14:11:12.747Z"
   },
   {
    "duration": 5,
    "start_time": "2023-12-03T14:16:16.085Z"
   },
   {
    "duration": 431,
    "start_time": "2023-12-03T14:20:01.169Z"
   },
   {
    "duration": 268,
    "start_time": "2023-12-03T14:20:01.602Z"
   },
   {
    "duration": 3,
    "start_time": "2023-12-03T14:20:01.872Z"
   },
   {
    "duration": 538,
    "start_time": "2023-12-03T14:20:01.877Z"
   },
   {
    "duration": 40,
    "start_time": "2023-12-03T14:20:02.417Z"
   },
   {
    "duration": 43,
    "start_time": "2023-12-03T14:20:02.459Z"
   },
   {
    "duration": 43,
    "start_time": "2023-12-03T14:20:02.504Z"
   },
   {
    "duration": 13,
    "start_time": "2023-12-03T14:20:02.549Z"
   },
   {
    "duration": 756,
    "start_time": "2023-12-03T14:20:02.564Z"
   },
   {
    "duration": 20,
    "start_time": "2023-12-03T14:20:03.323Z"
   },
   {
    "duration": 11,
    "start_time": "2023-12-03T14:20:03.345Z"
   },
   {
    "duration": 13,
    "start_time": "2023-12-03T14:20:03.357Z"
   },
   {
    "duration": 15,
    "start_time": "2023-12-03T14:20:03.372Z"
   },
   {
    "duration": 5,
    "start_time": "2023-12-03T14:20:03.391Z"
   },
   {
    "duration": 37,
    "start_time": "2023-12-03T14:20:03.398Z"
   },
   {
    "duration": 13,
    "start_time": "2023-12-03T14:20:03.437Z"
   },
   {
    "duration": 151,
    "start_time": "2023-12-03T14:20:03.452Z"
   },
   {
    "duration": 12,
    "start_time": "2023-12-03T14:20:03.605Z"
   },
   {
    "duration": 131,
    "start_time": "2023-12-03T14:20:03.619Z"
   },
   {
    "duration": 16,
    "start_time": "2023-12-03T14:20:03.751Z"
   },
   {
    "duration": 11,
    "start_time": "2023-12-03T14:20:03.768Z"
   },
   {
    "duration": 198,
    "start_time": "2023-12-03T14:20:03.780Z"
   },
   {
    "duration": 5255,
    "start_time": "2023-12-03T14:20:03.980Z"
   },
   {
    "duration": 11,
    "start_time": "2023-12-03T14:20:09.237Z"
   },
   {
    "duration": 81,
    "start_time": "2023-12-03T14:20:09.250Z"
   },
   {
    "duration": 181,
    "start_time": "2023-12-03T14:20:09.340Z"
   },
   {
    "duration": 419,
    "start_time": "2023-12-03T14:20:09.524Z"
   },
   {
    "duration": 5,
    "start_time": "2023-12-03T14:20:09.945Z"
   },
   {
    "duration": 13,
    "start_time": "2023-12-03T14:20:09.952Z"
   },
   {
    "duration": 25,
    "start_time": "2023-12-03T14:20:09.967Z"
   },
   {
    "duration": 15,
    "start_time": "2023-12-03T14:20:09.993Z"
   },
   {
    "duration": 58,
    "start_time": "2023-12-03T14:20:10.010Z"
   },
   {
    "duration": 17,
    "start_time": "2023-12-03T14:20:10.070Z"
   },
   {
    "duration": 186,
    "start_time": "2023-12-03T14:20:10.089Z"
   },
   {
    "duration": 196,
    "start_time": "2023-12-03T14:20:10.277Z"
   },
   {
    "duration": 3,
    "start_time": "2023-12-03T14:20:10.475Z"
   },
   {
    "duration": 25,
    "start_time": "2023-12-03T14:20:10.479Z"
   },
   {
    "duration": 37,
    "start_time": "2023-12-03T14:20:10.506Z"
   },
   {
    "duration": 5,
    "start_time": "2023-12-03T14:20:10.546Z"
   },
   {
    "duration": 8,
    "start_time": "2023-12-03T14:20:10.552Z"
   },
   {
    "duration": 13,
    "start_time": "2023-12-03T14:20:10.565Z"
   },
   {
    "duration": 9,
    "start_time": "2023-12-03T14:20:10.579Z"
   },
   {
    "duration": 11,
    "start_time": "2023-12-03T14:20:10.590Z"
   },
   {
    "duration": 36,
    "start_time": "2023-12-03T14:20:10.603Z"
   },
   {
    "duration": 13,
    "start_time": "2023-12-03T14:20:10.641Z"
   },
   {
    "duration": 6,
    "start_time": "2023-12-03T14:20:10.656Z"
   },
   {
    "duration": 11,
    "start_time": "2023-12-03T14:20:10.664Z"
   },
   {
    "duration": 13,
    "start_time": "2023-12-03T14:20:10.677Z"
   },
   {
    "duration": 15,
    "start_time": "2023-12-03T14:20:10.692Z"
   },
   {
    "duration": 8,
    "start_time": "2023-12-03T14:20:10.709Z"
   },
   {
    "duration": 7,
    "start_time": "2023-12-03T14:20:10.736Z"
   },
   {
    "duration": 5,
    "start_time": "2023-12-03T14:20:10.745Z"
   },
   {
    "duration": 7,
    "start_time": "2023-12-03T14:20:10.752Z"
   },
   {
    "duration": 17,
    "start_time": "2023-12-03T14:20:10.760Z"
   },
   {
    "duration": 16,
    "start_time": "2023-12-03T14:20:10.779Z"
   },
   {
    "duration": 14,
    "start_time": "2023-12-03T14:20:10.797Z"
   },
   {
    "duration": 37,
    "start_time": "2023-12-03T14:20:10.813Z"
   },
   {
    "duration": 47,
    "start_time": "2023-12-03T15:24:04.134Z"
   },
   {
    "duration": 411,
    "start_time": "2023-12-03T15:24:20.546Z"
   },
   {
    "duration": 415,
    "start_time": "2023-12-03T15:24:21.155Z"
   },
   {
    "duration": 2,
    "start_time": "2023-12-03T15:24:21.572Z"
   },
   {
    "duration": 467,
    "start_time": "2023-12-03T15:24:22.050Z"
   },
   {
    "duration": 95,
    "start_time": "2023-12-03T15:24:23.238Z"
   },
   {
    "duration": 11,
    "start_time": "2023-12-03T15:24:24.262Z"
   },
   {
    "duration": 168,
    "start_time": "2023-12-03T15:24:24.715Z"
   },
   {
    "duration": 11,
    "start_time": "2023-12-03T15:24:25.275Z"
   },
   {
    "duration": 686,
    "start_time": "2023-12-03T15:24:25.727Z"
   },
   {
    "duration": 69,
    "start_time": "2023-12-03T15:24:26.415Z"
   },
   {
    "duration": 11,
    "start_time": "2023-12-03T15:24:26.659Z"
   },
   {
    "duration": 10,
    "start_time": "2023-12-03T15:24:31.773Z"
   },
   {
    "duration": 11,
    "start_time": "2023-12-03T15:24:33.639Z"
   },
   {
    "duration": 4,
    "start_time": "2023-12-03T15:24:34.595Z"
   },
   {
    "duration": 4,
    "start_time": "2023-12-03T15:24:57.026Z"
   },
   {
    "duration": 4,
    "start_time": "2023-12-03T15:25:08.675Z"
   },
   {
    "duration": 6,
    "start_time": "2023-12-03T15:33:49.367Z"
   },
   {
    "duration": 4,
    "start_time": "2023-12-03T15:35:03.279Z"
   },
   {
    "duration": 6,
    "start_time": "2023-12-03T15:35:07.051Z"
   },
   {
    "duration": 1427,
    "start_time": "2023-12-03T15:35:35.986Z"
   },
   {
    "duration": 6,
    "start_time": "2023-12-03T15:36:10.782Z"
   },
   {
    "duration": 5,
    "start_time": "2023-12-03T15:37:06.968Z"
   },
   {
    "duration": 130,
    "start_time": "2023-12-03T15:39:39.627Z"
   },
   {
    "duration": 135,
    "start_time": "2023-12-03T15:41:49.383Z"
   },
   {
    "duration": 10,
    "start_time": "2023-12-03T15:44:35.768Z"
   },
   {
    "duration": 9,
    "start_time": "2023-12-03T15:45:10.588Z"
   },
   {
    "duration": 97,
    "start_time": "2023-12-03T15:45:20.560Z"
   },
   {
    "duration": 3,
    "start_time": "2023-12-03T15:45:53.967Z"
   },
   {
    "duration": 223,
    "start_time": "2023-12-03T15:46:06.135Z"
   },
   {
    "duration": 130,
    "start_time": "2023-12-03T15:46:23.396Z"
   },
   {
    "duration": 128,
    "start_time": "2023-12-03T15:50:31.867Z"
   },
   {
    "duration": 119,
    "start_time": "2023-12-03T15:51:43.349Z"
   },
   {
    "duration": 121,
    "start_time": "2023-12-03T15:54:19.119Z"
   },
   {
    "duration": 100,
    "start_time": "2023-12-03T15:55:37.815Z"
   },
   {
    "duration": 87,
    "start_time": "2023-12-03T15:56:52.020Z"
   },
   {
    "duration": 14,
    "start_time": "2023-12-03T15:59:08.896Z"
   },
   {
    "duration": 166,
    "start_time": "2023-12-03T16:32:48.736Z"
   },
   {
    "duration": 1455,
    "start_time": "2023-12-03T16:37:45.192Z"
   },
   {
    "duration": 6,
    "start_time": "2023-12-03T16:38:01.328Z"
   },
   {
    "duration": 5,
    "start_time": "2023-12-03T16:38:01.823Z"
   },
   {
    "duration": 11,
    "start_time": "2023-12-03T16:38:02.759Z"
   },
   {
    "duration": 5,
    "start_time": "2023-12-03T16:38:03.919Z"
   },
   {
    "duration": 7,
    "start_time": "2023-12-03T16:38:04.140Z"
   },
   {
    "duration": 9,
    "start_time": "2023-12-03T16:38:04.358Z"
   },
   {
    "duration": 125,
    "start_time": "2023-12-03T16:38:05.820Z"
   },
   {
    "duration": 5,
    "start_time": "2023-12-03T16:38:06.071Z"
   },
   {
    "duration": 11,
    "start_time": "2023-12-03T16:38:07.490Z"
   },
   {
    "duration": 82,
    "start_time": "2023-12-03T16:38:08.609Z"
   },
   {
    "duration": 4,
    "start_time": "2023-12-03T16:38:10.609Z"
   },
   {
    "duration": 181,
    "start_time": "2023-12-03T16:38:12.018Z"
   },
   {
    "duration": 4715,
    "start_time": "2023-12-03T16:38:14.740Z"
   },
   {
    "duration": 6,
    "start_time": "2023-12-03T16:38:19.457Z"
   },
   {
    "duration": 6,
    "start_time": "2023-12-03T16:38:19.464Z"
   },
   {
    "duration": 153,
    "start_time": "2023-12-03T16:38:19.486Z"
   },
   {
    "duration": 240,
    "start_time": "2023-12-03T16:38:27.413Z"
   },
   {
    "duration": 262,
    "start_time": "2023-12-03T16:38:52.872Z"
   },
   {
    "duration": 6,
    "start_time": "2023-12-03T16:44:00.011Z"
   },
   {
    "duration": 9,
    "start_time": "2023-12-03T16:44:06.082Z"
   },
   {
    "duration": 9,
    "start_time": "2023-12-03T16:44:06.331Z"
   },
   {
    "duration": 13,
    "start_time": "2023-12-03T16:44:06.619Z"
   },
   {
    "duration": 4,
    "start_time": "2023-12-03T16:44:54.619Z"
   },
   {
    "duration": 18,
    "start_time": "2023-12-03T16:51:36.087Z"
   },
   {
    "duration": 14,
    "start_time": "2023-12-03T16:51:37.039Z"
   },
   {
    "duration": 164,
    "start_time": "2023-12-03T16:51:38.791Z"
   },
   {
    "duration": 162,
    "start_time": "2023-12-03T16:51:42.987Z"
   },
   {
    "duration": 4,
    "start_time": "2023-12-03T16:52:32.952Z"
   },
   {
    "duration": 4,
    "start_time": "2023-12-03T16:52:39.064Z"
   },
   {
    "duration": 24,
    "start_time": "2023-12-03T16:52:51.125Z"
   },
   {
    "duration": 4,
    "start_time": "2023-12-03T16:52:51.415Z"
   },
   {
    "duration": 5,
    "start_time": "2023-12-03T16:52:51.664Z"
   },
   {
    "duration": 9,
    "start_time": "2023-12-03T16:52:52.152Z"
   },
   {
    "duration": 8,
    "start_time": "2023-12-03T16:52:53.094Z"
   },
   {
    "duration": 9,
    "start_time": "2023-12-03T16:52:53.612Z"
   },
   {
    "duration": 7,
    "start_time": "2023-12-03T16:52:54.164Z"
   },
   {
    "duration": 10,
    "start_time": "2023-12-03T16:52:54.935Z"
   },
   {
    "duration": 6,
    "start_time": "2023-12-03T16:52:55.460Z"
   },
   {
    "duration": 4,
    "start_time": "2023-12-03T16:52:55.811Z"
   },
   {
    "duration": 10,
    "start_time": "2023-12-03T16:52:56.344Z"
   },
   {
    "duration": 4,
    "start_time": "2023-12-03T16:53:05.094Z"
   },
   {
    "duration": 5,
    "start_time": "2023-12-03T16:53:05.640Z"
   },
   {
    "duration": 5,
    "start_time": "2023-12-03T17:05:50.928Z"
   },
   {
    "duration": 6,
    "start_time": "2023-12-03T17:06:09.847Z"
   },
   {
    "duration": 4,
    "start_time": "2023-12-03T17:08:47.347Z"
   },
   {
    "duration": 4,
    "start_time": "2023-12-03T17:08:50.359Z"
   },
   {
    "duration": 5,
    "start_time": "2023-12-03T17:09:50.575Z"
   },
   {
    "duration": 5,
    "start_time": "2023-12-03T17:11:28.608Z"
   },
   {
    "duration": 7,
    "start_time": "2023-12-03T17:14:38.235Z"
   },
   {
    "duration": 6,
    "start_time": "2023-12-03T17:14:41.288Z"
   },
   {
    "duration": 4,
    "start_time": "2023-12-03T17:14:43.691Z"
   },
   {
    "duration": 418,
    "start_time": "2023-12-03T17:26:38.338Z"
   },
   {
    "duration": 243,
    "start_time": "2023-12-03T17:26:38.757Z"
   },
   {
    "duration": 2,
    "start_time": "2023-12-03T17:26:39.001Z"
   },
   {
    "duration": 499,
    "start_time": "2023-12-03T17:26:39.005Z"
   },
   {
    "duration": 3,
    "start_time": "2023-12-03T17:26:39.506Z"
   },
   {
    "duration": 43,
    "start_time": "2023-12-03T17:26:39.510Z"
   },
   {
    "duration": 11,
    "start_time": "2023-12-03T17:26:39.554Z"
   },
   {
    "duration": 49,
    "start_time": "2023-12-03T17:26:39.566Z"
   },
   {
    "duration": 10,
    "start_time": "2023-12-03T17:26:39.617Z"
   },
   {
    "duration": 675,
    "start_time": "2023-12-03T17:26:39.629Z"
   },
   {
    "duration": 19,
    "start_time": "2023-12-03T17:26:40.305Z"
   },
   {
    "duration": 8,
    "start_time": "2023-12-03T17:26:40.325Z"
   },
   {
    "duration": 16,
    "start_time": "2023-12-03T17:26:40.334Z"
   },
   {
    "duration": 3,
    "start_time": "2023-12-03T17:26:40.355Z"
   },
   {
    "duration": 7,
    "start_time": "2023-12-03T17:26:40.360Z"
   },
   {
    "duration": 15,
    "start_time": "2023-12-03T17:26:40.368Z"
   },
   {
    "duration": 5,
    "start_time": "2023-12-03T17:26:40.384Z"
   },
   {
    "duration": 6,
    "start_time": "2023-12-03T17:26:40.391Z"
   },
   {
    "duration": 8,
    "start_time": "2023-12-03T17:26:40.398Z"
   },
   {
    "duration": 150,
    "start_time": "2023-12-03T17:26:40.407Z"
   },
   {
    "duration": 5,
    "start_time": "2023-12-03T17:26:40.559Z"
   },
   {
    "duration": 26,
    "start_time": "2023-12-03T17:26:40.566Z"
   },
   {
    "duration": 75,
    "start_time": "2023-12-03T17:26:40.593Z"
   },
   {
    "duration": 4,
    "start_time": "2023-12-03T17:26:40.669Z"
   },
   {
    "duration": 171,
    "start_time": "2023-12-03T17:26:40.674Z"
   },
   {
    "duration": 4712,
    "start_time": "2023-12-03T17:26:40.847Z"
   },
   {
    "duration": 4,
    "start_time": "2023-12-03T17:26:45.561Z"
   },
   {
    "duration": 34,
    "start_time": "2023-12-03T17:26:45.567Z"
   },
   {
    "duration": 166,
    "start_time": "2023-12-03T17:26:45.602Z"
   },
   {
    "duration": 323,
    "start_time": "2023-12-03T17:26:45.769Z"
   },
   {
    "duration": 5,
    "start_time": "2023-12-03T17:26:46.093Z"
   },
   {
    "duration": 11,
    "start_time": "2023-12-03T17:26:46.099Z"
   },
   {
    "duration": 20,
    "start_time": "2023-12-03T17:26:46.111Z"
   },
   {
    "duration": 18,
    "start_time": "2023-12-03T17:26:46.132Z"
   },
   {
    "duration": 6,
    "start_time": "2023-12-03T17:26:46.151Z"
   },
   {
    "duration": 26,
    "start_time": "2023-12-03T17:26:46.159Z"
   },
   {
    "duration": 13,
    "start_time": "2023-12-03T17:26:46.186Z"
   },
   {
    "duration": 168,
    "start_time": "2023-12-03T17:26:46.200Z"
   },
   {
    "duration": 167,
    "start_time": "2023-12-03T17:26:46.369Z"
   },
   {
    "duration": 4,
    "start_time": "2023-12-03T17:26:46.537Z"
   },
   {
    "duration": 13,
    "start_time": "2023-12-03T17:26:46.544Z"
   },
   {
    "duration": 23,
    "start_time": "2023-12-03T17:26:46.558Z"
   },
   {
    "duration": 4,
    "start_time": "2023-12-03T17:26:46.582Z"
   },
   {
    "duration": 10,
    "start_time": "2023-12-03T17:26:46.587Z"
   },
   {
    "duration": 24,
    "start_time": "2023-12-03T17:26:46.599Z"
   },
   {
    "duration": 33,
    "start_time": "2023-12-03T17:26:46.625Z"
   },
   {
    "duration": 13,
    "start_time": "2023-12-03T17:26:46.659Z"
   },
   {
    "duration": 24,
    "start_time": "2023-12-03T17:26:46.673Z"
   },
   {
    "duration": 25,
    "start_time": "2023-12-03T17:26:46.698Z"
   },
   {
    "duration": 20,
    "start_time": "2023-12-03T17:26:46.725Z"
   },
   {
    "duration": 34,
    "start_time": "2023-12-03T17:26:46.747Z"
   },
   {
    "duration": 21,
    "start_time": "2023-12-03T17:26:46.783Z"
   },
   {
    "duration": 16,
    "start_time": "2023-12-03T17:26:46.805Z"
   },
   {
    "duration": 48,
    "start_time": "2023-12-03T17:26:46.822Z"
   },
   {
    "duration": 6,
    "start_time": "2023-12-03T17:26:46.871Z"
   },
   {
    "duration": 26,
    "start_time": "2023-12-03T17:26:46.878Z"
   },
   {
    "duration": 17,
    "start_time": "2023-12-03T17:26:46.905Z"
   },
   {
    "duration": 11,
    "start_time": "2023-12-03T17:26:46.924Z"
   },
   {
    "duration": 21,
    "start_time": "2023-12-03T17:26:46.936Z"
   },
   {
    "duration": 382,
    "start_time": "2023-12-04T10:12:07.787Z"
   },
   {
    "duration": 264,
    "start_time": "2023-12-04T10:12:08.170Z"
   },
   {
    "duration": 3,
    "start_time": "2023-12-04T10:12:08.436Z"
   },
   {
    "duration": 471,
    "start_time": "2023-12-04T10:12:08.441Z"
   },
   {
    "duration": 2,
    "start_time": "2023-12-04T10:12:08.914Z"
   },
   {
    "duration": 51,
    "start_time": "2023-12-04T10:12:08.918Z"
   },
   {
    "duration": 10,
    "start_time": "2023-12-04T10:12:08.971Z"
   },
   {
    "duration": 45,
    "start_time": "2023-12-04T10:12:08.983Z"
   },
   {
    "duration": 11,
    "start_time": "2023-12-04T10:12:09.029Z"
   },
   {
    "duration": 722,
    "start_time": "2023-12-04T10:12:09.043Z"
   },
   {
    "duration": 20,
    "start_time": "2023-12-04T10:12:09.767Z"
   },
   {
    "duration": 11,
    "start_time": "2023-12-04T10:12:09.789Z"
   },
   {
    "duration": 14,
    "start_time": "2023-12-04T10:12:09.802Z"
   },
   {
    "duration": 10,
    "start_time": "2023-12-04T10:12:09.818Z"
   },
   {
    "duration": 8,
    "start_time": "2023-12-04T10:12:09.829Z"
   },
   {
    "duration": 13,
    "start_time": "2023-12-04T10:12:09.838Z"
   },
   {
    "duration": 18,
    "start_time": "2023-12-04T10:12:09.852Z"
   },
   {
    "duration": 23,
    "start_time": "2023-12-04T10:12:09.871Z"
   },
   {
    "duration": 12,
    "start_time": "2023-12-04T10:12:09.896Z"
   },
   {
    "duration": 163,
    "start_time": "2023-12-04T10:12:09.910Z"
   },
   {
    "duration": 6,
    "start_time": "2023-12-04T10:12:10.076Z"
   },
   {
    "duration": 35,
    "start_time": "2023-12-04T10:12:10.084Z"
   },
   {
    "duration": 96,
    "start_time": "2023-12-04T10:12:10.121Z"
   },
   {
    "duration": 5,
    "start_time": "2023-12-04T10:12:10.219Z"
   },
   {
    "duration": 242,
    "start_time": "2023-12-04T10:12:10.226Z"
   },
   {
    "duration": 4989,
    "start_time": "2023-12-04T10:12:10.470Z"
   },
   {
    "duration": 8,
    "start_time": "2023-12-04T10:12:15.461Z"
   },
   {
    "duration": 25,
    "start_time": "2023-12-04T10:12:15.473Z"
   },
   {
    "duration": 190,
    "start_time": "2023-12-04T10:12:15.500Z"
   },
   {
    "duration": 389,
    "start_time": "2023-12-04T10:12:15.691Z"
   },
   {
    "duration": 5,
    "start_time": "2023-12-04T10:12:16.081Z"
   },
   {
    "duration": 39,
    "start_time": "2023-12-04T10:12:16.088Z"
   },
   {
    "duration": 11,
    "start_time": "2023-12-04T10:12:16.129Z"
   },
   {
    "duration": 20,
    "start_time": "2023-12-04T10:12:16.142Z"
   },
   {
    "duration": 10,
    "start_time": "2023-12-04T10:12:16.163Z"
   },
   {
    "duration": 28,
    "start_time": "2023-12-04T10:12:16.174Z"
   },
   {
    "duration": 13,
    "start_time": "2023-12-04T10:12:16.204Z"
   },
   {
    "duration": 184,
    "start_time": "2023-12-04T10:12:16.218Z"
   },
   {
    "duration": 174,
    "start_time": "2023-12-04T10:12:16.403Z"
   },
   {
    "duration": 4,
    "start_time": "2023-12-04T10:12:16.579Z"
   },
   {
    "duration": 9,
    "start_time": "2023-12-04T10:12:16.584Z"
   },
   {
    "duration": 42,
    "start_time": "2023-12-04T10:12:16.594Z"
   },
   {
    "duration": 24,
    "start_time": "2023-12-04T10:12:16.638Z"
   },
   {
    "duration": 8,
    "start_time": "2023-12-04T10:12:16.663Z"
   },
   {
    "duration": 20,
    "start_time": "2023-12-04T10:12:16.672Z"
   },
   {
    "duration": 19,
    "start_time": "2023-12-04T10:12:16.694Z"
   },
   {
    "duration": 17,
    "start_time": "2023-12-04T10:12:16.715Z"
   },
   {
    "duration": 8,
    "start_time": "2023-12-04T10:12:16.734Z"
   },
   {
    "duration": 20,
    "start_time": "2023-12-04T10:12:16.744Z"
   },
   {
    "duration": 13,
    "start_time": "2023-12-04T10:12:16.765Z"
   },
   {
    "duration": 10,
    "start_time": "2023-12-04T10:12:16.780Z"
   },
   {
    "duration": 30,
    "start_time": "2023-12-04T10:12:16.791Z"
   },
   {
    "duration": 45,
    "start_time": "2023-12-04T10:12:16.823Z"
   },
   {
    "duration": 13,
    "start_time": "2023-12-04T10:12:16.870Z"
   },
   {
    "duration": 13,
    "start_time": "2023-12-04T10:12:16.884Z"
   },
   {
    "duration": 18,
    "start_time": "2023-12-04T10:12:16.899Z"
   },
   {
    "duration": 6,
    "start_time": "2023-12-04T10:12:16.918Z"
   },
   {
    "duration": 16,
    "start_time": "2023-12-04T10:12:16.925Z"
   },
   {
    "duration": 7,
    "start_time": "2023-12-04T10:12:16.943Z"
   },
   {
    "duration": 407,
    "start_time": "2024-07-31T13:20:33.881Z"
   },
   {
    "duration": 396,
    "start_time": "2024-07-31T13:20:34.290Z"
   },
   {
    "duration": 4,
    "start_time": "2024-07-31T13:20:34.688Z"
   },
   {
    "duration": 460,
    "start_time": "2024-07-31T13:20:34.693Z"
   },
   {
    "duration": 6,
    "start_time": "2024-07-31T13:20:35.156Z"
   },
   {
    "duration": 86,
    "start_time": "2024-07-31T13:20:35.163Z"
   },
   {
    "duration": 11,
    "start_time": "2024-07-31T13:20:35.251Z"
   },
   {
    "duration": 188,
    "start_time": "2024-07-31T13:20:35.263Z"
   },
   {
    "duration": 11,
    "start_time": "2024-07-31T13:20:35.452Z"
   },
   {
    "duration": 757,
    "start_time": "2024-07-31T13:20:35.465Z"
   },
   {
    "duration": 82,
    "start_time": "2024-07-31T13:20:36.223Z"
   },
   {
    "duration": 10,
    "start_time": "2024-07-31T13:20:36.307Z"
   },
   {
    "duration": 14,
    "start_time": "2024-07-31T13:20:36.318Z"
   },
   {
    "duration": 6,
    "start_time": "2024-07-31T13:20:36.336Z"
   },
   {
    "duration": 5,
    "start_time": "2024-07-31T13:20:36.344Z"
   },
   {
    "duration": 16,
    "start_time": "2024-07-31T13:20:36.351Z"
   },
   {
    "duration": 7,
    "start_time": "2024-07-31T13:20:36.369Z"
   },
   {
    "duration": 18,
    "start_time": "2024-07-31T13:20:36.378Z"
   },
   {
    "duration": 8,
    "start_time": "2024-07-31T13:20:36.398Z"
   },
   {
    "duration": 160,
    "start_time": "2024-07-31T13:20:36.408Z"
   },
   {
    "duration": 6,
    "start_time": "2024-07-31T13:20:36.570Z"
   },
   {
    "duration": 22,
    "start_time": "2024-07-31T13:20:36.577Z"
   },
   {
    "duration": 102,
    "start_time": "2024-07-31T13:20:36.601Z"
   },
   {
    "duration": 4,
    "start_time": "2024-07-31T13:20:36.705Z"
   },
   {
    "duration": 212,
    "start_time": "2024-07-31T13:20:36.711Z"
   },
   {
    "duration": 5107,
    "start_time": "2024-07-31T13:20:36.925Z"
   },
   {
    "duration": 6,
    "start_time": "2024-07-31T13:20:42.034Z"
   },
   {
    "duration": 8,
    "start_time": "2024-07-31T13:20:42.041Z"
   },
   {
    "duration": 210,
    "start_time": "2024-07-31T13:20:42.050Z"
   },
   {
    "duration": 378,
    "start_time": "2024-07-31T13:20:42.262Z"
   },
   {
    "duration": 6,
    "start_time": "2024-07-31T13:20:42.641Z"
   },
   {
    "duration": 16,
    "start_time": "2024-07-31T13:20:42.660Z"
   },
   {
    "duration": 28,
    "start_time": "2024-07-31T13:20:42.678Z"
   },
   {
    "duration": 17,
    "start_time": "2024-07-31T13:20:42.708Z"
   },
   {
    "duration": 4,
    "start_time": "2024-07-31T13:20:42.727Z"
   },
   {
    "duration": 33,
    "start_time": "2024-07-31T13:20:42.732Z"
   },
   {
    "duration": 15,
    "start_time": "2024-07-31T13:20:42.767Z"
   },
   {
    "duration": 194,
    "start_time": "2024-07-31T13:20:42.784Z"
   },
   {
    "duration": 185,
    "start_time": "2024-07-31T13:20:42.979Z"
   },
   {
    "duration": 4,
    "start_time": "2024-07-31T13:20:43.165Z"
   },
   {
    "duration": 7,
    "start_time": "2024-07-31T13:20:43.173Z"
   },
   {
    "duration": 27,
    "start_time": "2024-07-31T13:20:43.181Z"
   },
   {
    "duration": 28,
    "start_time": "2024-07-31T13:20:43.209Z"
   },
   {
    "duration": 17,
    "start_time": "2024-07-31T13:20:43.239Z"
   },
   {
    "duration": 10,
    "start_time": "2024-07-31T13:20:43.257Z"
   },
   {
    "duration": 8,
    "start_time": "2024-07-31T13:20:43.268Z"
   },
   {
    "duration": 10,
    "start_time": "2024-07-31T13:20:43.278Z"
   },
   {
    "duration": 9,
    "start_time": "2024-07-31T13:20:43.289Z"
   },
   {
    "duration": 11,
    "start_time": "2024-07-31T13:20:43.300Z"
   },
   {
    "duration": 10,
    "start_time": "2024-07-31T13:20:43.312Z"
   },
   {
    "duration": 6,
    "start_time": "2024-07-31T13:20:43.324Z"
   },
   {
    "duration": 11,
    "start_time": "2024-07-31T13:20:43.360Z"
   },
   {
    "duration": 20,
    "start_time": "2024-07-31T13:20:43.372Z"
   },
   {
    "duration": 9,
    "start_time": "2024-07-31T13:20:43.394Z"
   },
   {
    "duration": 7,
    "start_time": "2024-07-31T13:20:43.405Z"
   },
   {
    "duration": 10,
    "start_time": "2024-07-31T13:20:43.414Z"
   },
   {
    "duration": 5,
    "start_time": "2024-07-31T13:20:43.426Z"
   },
   {
    "duration": 7,
    "start_time": "2024-07-31T13:20:43.433Z"
   },
   {
    "duration": 20,
    "start_time": "2024-07-31T13:20:43.441Z"
   }
  ],
  "kernelspec": {
   "display_name": "Python 3 (ipykernel)",
   "language": "python",
   "name": "python3"
  },
  "language_info": {
   "codemirror_mode": {
    "name": "ipython",
    "version": 3
   },
   "file_extension": ".py",
   "mimetype": "text/x-python",
   "name": "python",
   "nbconvert_exporter": "python",
   "pygments_lexer": "ipython3",
   "version": "3.11.4"
  },
  "toc": {
   "base_numbering": 1,
   "nav_menu": {},
   "number_sections": true,
   "sideBar": true,
   "skip_h1_title": true,
   "title_cell": "Table of Contents",
   "title_sidebar": "Contents",
   "toc_cell": false,
   "toc_position": {},
   "toc_section_display": true,
   "toc_window_display": false
  }
 },
 "nbformat": 4,
 "nbformat_minor": 5
}
